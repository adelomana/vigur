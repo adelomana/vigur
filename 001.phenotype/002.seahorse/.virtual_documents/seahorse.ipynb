import pandas, numpy


import scipy, scipy.stats


import matplotlib, matplotlib.pyplot
matplotlib.rcParams.update({'font.size':20, 
                            'font.family':'sans-serif', 
                            'xtick.labelsize':16, 
                            'ytick.labelsize':16, 
                            'figure.figsize':(16*(2/3), 9*(2/3)), 
                            'axes.labelsize':20
                           })





input_file = 'Seahorse_on_HLMVEC_Dec_2nd.xlsx'





df = pandas.read_excel(input_file, sheet_name='Rate')
df


df['Group'].unique()





working_groups = ['Control', '4 HRS - Adreanline:Noradrenaline 0.5 uM', '4 HRS - Adreanline:Noradrenaline 5 uM']

excluded_wells = {}
excluded_wells['Control'] = ['F11', 'B11', 'C11', 'G11', 'F02', 'G02']
excluded_wells['4 HRS - Adreanline:Noradrenaline 0.5 uM'] = ['F03', 'F07', 'F04']
excluded_wells['4 HRS - Adreanline:Noradrenaline 5 uM'] = []

treated_trajectories = {}

for condition in working_groups:
    
    print(condition)
    sub = df[df['Group'] == condition]

    # generate dataframe for this trajectory
    dff = pandas.DataFrame()
    wells = sub['Well'].unique()
    for well in wells:
        trajectory = sub[sub['Well'] == well][['Time', 'OCR']]
        trajectory.set_index('Time', inplace=True)
        trajectory.rename(columns={'OCR': well}, inplace=True)
        dff[well] = trajectory[well]

    # plot original data
    print('\t before normalization')
    matplotlib.pyplot.plot(dff.index, dff, 'o:', alpha=2/3)
    matplotlib.pyplot.grid(ls=':', alpha=1/3)
    matplotlib.pyplot.show()

    # exclude samples that failed technically
    dff.drop(excluded_wells[condition], axis='columns', inplace=True)

    # plot after excluding technical failures
    print('\t after excluding technical failures')
    matplotlib.pyplot.plot(dff.index, dff, 'o:', alpha=2/3)
    matplotlib.pyplot.grid(ls=':', alpha=1/3)
    matplotlib.pyplot.show()

    # normalization
    relative_mu = dff.mean()/dff.mean().mean()
    print(relative_mu)
    normalized = dff/relative_mu

    # plot after normalization
    print('\t after normalization')
    matplotlib.pyplot.plot(dff.index, normalized, 'o:')
    matplotlib.pyplot.grid(ls=':', alpha=1/3)
    matplotlib.pyplot.show()

    # adding the treated data into container
    treated_trajectories[condition] = normalized


# genarate final figure

palette = ['black', 'tab:orange', 'tab:red']
my_labels = ['0 uM adr:nor', '0.5 uM adr:nor', '5 uM adr:nor']

respirations = []

for i in range(len(working_groups)):

    condition = working_groups[i]
    wdf = treated_trajectories[condition]

    mean = wdf.mean(axis=1)
    std = wdf.std(axis=1)
    t = wdf.index
    matplotlib.pyplot.errorbar(t, mean, std, lw=3, color=palette[i], alpha=1/2)
    matplotlib.pyplot.plot(t, mean, 'o', color=palette[i], ms=12, label=my_labels[i], zorder=999)

    plato_a = mean.iloc[:6].values
    plato_b = mean.iloc[6:9].values
    plato_c = mean.iloc[9:12].values
    plato_d = mean.iloc[12:15].values

    container = {}
    container['non-mito respiration'] = plato_d 
    container['basal respiration'] = plato_a - numpy.median(container['non-mito respiration'])
    container['proton leak'] = plato_b - numpy.median(container['non-mito respiration'])
    container['max resp cap'] = plato_c - numpy.median(container['non-mito respiration'])
    container['atp respiration'] = plato_a - numpy.median(plato_b)
    container['reserve capacity'] = plato_c - numpy.median(plato_a)
    respirations.append(container)    

l1 = numpy.mean([t[5], t[6]])
l2 = numpy.mean([t[8], t[9]])
l3 = numpy.mean([t[11], t[12]])
matplotlib.pyplot.axvline(x=l1, ls='--', lw=2, color='skyblue', zorder=1)
matplotlib.pyplot.axvline(x=l2, ls='--', lw=2, color='skyblue', zorder=1)
matplotlib.pyplot.axvline(x=l3, ls='--', lw=2, color='skyblue', zorder=1)

c1 = numpy.mean([l1, l2])
c2 = numpy.mean([l2, l3])
c3 = numpy.mean([l3, 95])
matplotlib.pyplot.text(c1, 185, 'Oligomycin', color='skyblue', horizontalalignment='center')
matplotlib.pyplot.text(c2, 185, 'FCCP', color='skyblue', horizontalalignment='center')
matplotlib.pyplot.text(c3, 185, 'Rotenone', color='skyblue', horizontalalignment='center')

matplotlib.pyplot.xlim([-5, 95])
matplotlib.pyplot.ylim([0, 200])

matplotlib.pyplot.xlabel('Time (min)')
matplotlib.pyplot.ylabel('pmol/min/cells')

matplotlib.pyplot.legend(loc=2)

matplotlib.pyplot.grid(ls=':', alpha=1/2)
matplotlib.pyplot.tight_layout()

#matplotlib.pyplot.show()
matplotlib.pyplot.savefig('seahorse.ocr.4h.svg')


a = [respirations[i]['non-mito respiration'] for i in range(3)]
b = [respirations[i]['basal respiration'] for i in range(3)]
c = [respirations[i]['proton leak'] for i in range(3)]
d = [respirations[i]['max resp cap'] for i in range(3)]
e = [respirations[i]['atp respiration'] for i in range(3)]
f = [respirations[i]['reserve capacity'] for i in range(3)]
full = b + d + f + c + e + a

colors = ['black', 'tab:orange', 'tab:red'] * 6

bplot = matplotlib.pyplot.boxplot(full,
                                  showfliers=False,
                                  patch_artist=True, 
                                  medianprops={'color':'black', 'linewidth':2},
                                  boxprops={'linewidth':4}, 
                                  whiskerprops={'linewidth':2},
                                  capprops={'linewidth':2})

for patch, color in zip(bplot['boxes'], colors):
    patch.set_facecolor('white')
    patch.set_edgecolor(color)

for patch, color in zip(bplot['medians'], colors):
    patch.set_color(color)

for i in range(len(bplot['whiskers'])):    
    index = int(numpy.floor(i/2))
    color = colors[index]
    bplot['whiskers'][i].set_color(color)
    bplot['caps'][i].set_color(color)

for i in range(6):
    location = i*3 + 0.5
    matplotlib.pyplot.axvline(x=location, ls='--', color='skyblue')

matplotlib.pyplot.ylim([0, 160])
matplotlib.pyplot.xticks([])
matplotlib.pyplot.grid(ls=':', alpha=0.5, axis='y')
matplotlib.pyplot.ylabel('respiration')
matplotlib.pyplot.tight_layout()

#matplotlib.pyplot.show()
matplotlib.pyplot.savefig('respiration.svg')


# statistics and extra plots
features = list(respirations[0].keys())
features.sort()
ylimits = [[10, 25], 
           [25, 48],
           [60, 150], 
           [18, 25],
           [10, 25], 
           [25, 110]
          ]

for i in range(len(features)):
    feature = features[i]
    local_ylim = ylimits[i]
    
    a = respirations[0][feature]
    b = respirations[1][feature]
    c = respirations[2][feature]
    bplot = matplotlib.pyplot.boxplot([a, b, c], 
                                      showfliers=False, 
                                      patch_artist=True, 
                                      medianprops={'color':'white', 'linewidth':2})
    colors = ['black', 'tab:orange', 'tab:red']
    for patch, color in zip(bplot['boxes'], colors):
        patch.set_facecolor(color)
    matplotlib.pyplot.grid(ls=':', alpha=0.5)
    matplotlib.pyplot.title(feature)
    matplotlib.pyplot.ylim(local_ylim)
    matplotlib.pyplot.tight_layout()
    matplotlib.pyplot.show()

    result = scipy.stats.ttest_ind(b, a)
    print('orange', result)
    result = scipy.stats.ttest_ind(c, a)
    print('red', result)





df['Group'].unique()


working_groups = ['Control', '4 HRS - Adreanline:Noradrenaline 0.5 uM', '4 HRS - Adreanline:Noradrenaline 5 uM']

excluded_wells = {}
excluded_wells['Control'] = ['E11', 'F11', 'F02', 'G02', 'B11', 'G11', 'C11']
excluded_wells['4 HRS - Adreanline:Noradrenaline 0.5 uM'] = ['F03']
excluded_wells['4 HRS - Adreanline:Noradrenaline 5 uM'] = ['E09']

treated_trajectories = {}

for condition in working_groups:
    
    print(condition)
    sub = df[df['Group'] == condition]

    # generate dataframe for this trajectory
    dff = pandas.DataFrame()
    wells = sub['Well'].unique()
    for well in wells:
        trajectory = sub[sub['Well'] == well][['Time', 'ECAR']]
        trajectory.set_index('Time', inplace=True)
        trajectory.rename(columns={'ECAR': well}, inplace=True)
        dff[well] = trajectory[well]

    # plot original data
    print('\t before normalization')
    matplotlib.pyplot.plot(dff.index, dff, 'o:', alpha=2/3)
    matplotlib.pyplot.grid(ls=':', alpha=1/3)
    matplotlib.pyplot.show()

    # exclude samples that failed technically
    dff.drop(excluded_wells[condition], axis='columns', inplace=True)

    # plot after excluding technical failures
    print('\t after excluding technical failures')
    matplotlib.pyplot.plot(dff.index, dff, 'o:', alpha=2/3)
    matplotlib.pyplot.grid(ls=':', alpha=1/3)
    matplotlib.pyplot.show()

    # normalization
    relative_mu = dff.mean()/dff.mean().mean()
    normalized = dff/relative_mu

    # normalization on initial state
    #inistate = dff.iloc[:6, :]
    #relative_mu = inistate.mean()/inistate.mean().mean()
    #normalized = dff/relative_mu

    # plot after normalization
    print('\t after normalization')
    matplotlib.pyplot.plot(dff.index, normalized, 'o:')
    matplotlib.pyplot.grid(ls=':', alpha=1/3)
    matplotlib.pyplot.show()

    # adding the treated data into container
    treated_trajectories[condition] = normalized


# genarate final figure

palette = ['black', 'tab:orange', 'tab:red']
my_labels = ['0 uM adr:nor', '0.5 uM adr:nor', '5 uM adr:nor']
glycos = []

for i in range(len(working_groups)):

    condition = working_groups[i]
    wdf = treated_trajectories[condition]

    mean = wdf.mean(axis=1)
    std = wdf.std(axis=1)
    t = wdf.index
    matplotlib.pyplot.errorbar(t, mean, std, lw=3, color=palette[i], alpha=1/2)
    matplotlib.pyplot.plot(t, mean, 'o', color=palette[i], ms=12, label=my_labels[i], zorder=999)

    plato_a = mean.iloc[:6].values
    #plato_b = mean.iloc[6:9].values
    plato_c = mean.iloc[9:12].values
    #plato_d = mean.iloc[12:15].values
    
    container = {}
    container['glycolysis'] = plato_a
    container['glycolytic capacity'] = plato_c - numpy.median(plato_a)
    glycos.append(container)    

l1 = numpy.mean([t[5], t[6]])
l2 = numpy.mean([t[8], t[9]])
l3 = numpy.mean([t[11], t[12]])
matplotlib.pyplot.axvline(x=l1, ls='--', lw=2, color='skyblue', zorder=1)
matplotlib.pyplot.axvline(x=l2, ls='--', lw=2, color='skyblue', zorder=1)
matplotlib.pyplot.axvline(x=l3, ls='--', lw=2, color='skyblue', zorder=1)

c1 = numpy.mean([l1, l2])
c2 = numpy.mean([l2, l3])
c3 = numpy.mean([l3, 95])
matplotlib.pyplot.text(c1, 20, 'Oligomycin', color='skyblue', horizontalalignment='center')
matplotlib.pyplot.text(c2, 20, 'FCCP', color='skyblue', horizontalalignment='center')
matplotlib.pyplot.text(c3, 20, 'Rotenone', color='skyblue', horizontalalignment='center')

matplotlib.pyplot.xlim([-5, 95])
matplotlib.pyplot.ylim([5, 21])

matplotlib.pyplot.xlabel('Time (min)')
matplotlib.pyplot.ylabel('mpH/min/cells')

matplotlib.pyplot.legend(loc=2)

matplotlib.pyplot.grid(ls=':', alpha=1/2)
matplotlib.pyplot.tight_layout()

#matplotlib.pyplot.show()
matplotlib.pyplot.savefig('seahorse.ecar.4h.svg')


b = [glycos[i]['glycolysis'] for i in range(3)]
c = [glycos[i]['glycolytic capacity'] for i in range(3)]

full = b + c

colors = ['black', 'tab:orange', 'tab:red'] * 2

bplot = matplotlib.pyplot.boxplot(full,
                                  showfliers=False,
                                  patch_artist=True, 
                                  medianprops={'color':'black', 'linewidth':2},
                                  boxprops={'linewidth':4}, 
                                  whiskerprops={'linewidth':2},
                                  capprops={'linewidth':2})

for patch, color in zip(bplot['boxes'], colors):
    patch.set_facecolor('white')
    patch.set_edgecolor(color)

for patch, color in zip(bplot['medians'], colors):
    patch.set_color(color)

for i in range(len(bplot['whiskers'])):    
    index = int(numpy.floor(i/2))
    color = colors[index]
    bplot['whiskers'][i].set_color(color)
    bplot['caps'][i].set_color(color)

for i in range(2):
    location = i*3 + 0.5
    matplotlib.pyplot.axvline(x=location, ls='--', color='skyblue')

matplotlib.pyplot.ylim([-1.5, 12])
matplotlib.pyplot.xticks([])
matplotlib.pyplot.grid(ls=':', alpha=0.5, axis='y')
matplotlib.pyplot.ylabel('respiration')
matplotlib.pyplot.tight_layout()

#matplotlib.pyplot.show()
matplotlib.pyplot.savefig('glyco.svg')


# statistics 
features = list(glycos[0].keys())
features.sort()

for i in range(len(features)):
    feature = features[i]
    print(feature)
    a = glycos[0][feature]
    b = glycos[1][feature]
    c = glycos[2][feature]

    print('\t', a, b)
    result = scipy.stats.ttest_ind(b, a)
    print('\t\t orange', result)
    print('\t', a, c)
    result = scipy.stats.ttest_ind(c, a)
    print('\t\t red', result)
    print()
