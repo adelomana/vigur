import numpy


import scipy, scipy.stats


import matplotlib, matplotlib.pyplot
matplotlib.rcParams.update({'font.size':20, 
                            'font.family':'sans-serif', 
                            'xtick.labelsize':16, 
                            'ytick.labelsize':16, 
                            'figure.figsize':(16*(2/3), 9*(2/3)), 
                            'axes.labelsize':20
                           })



colors = ['black', 'tab:red']


scd1 = [0.7965222447,
        0.9766942822,
        0.9417137681,
        1.115848043,
        1.164604986,
        1.261259255]

a = scd1[:3]
b = scd1[3:]
measurements = [a, b]

bplot = matplotlib.pyplot.boxplot(measurements,
                                  showfliers=False,
                                  patch_artist=True, 
                                  medianprops={'color':'black', 'linewidth':2},
                                  boxprops={'linewidth':4}, 
                                  whiskerprops={'linewidth':2},
                                  capprops={'linewidth':2})

for patch, color in zip(bplot['boxes'], colors):
    patch.set_facecolor('white')
    patch.set_edgecolor(color)

for patch, color in zip(bplot['medians'], colors):
    patch.set_color(color)

for i in range(len(bplot['whiskers'])):    
    index = int(numpy.floor(i/2))
    color = colors[index]
    bplot['whiskers'][i].set_color(color)
    bplot['caps'][i].set_color(color)

matplotlib.pyplot.grid(ls=':', alpha=0.5, axis='y')
matplotlib.pyplot.tight_layout()

#matplotlib.pyplot.show()
matplotlib.pyplot.savefig('scd1.svg')

result = scipy.stats.ttest_ind(b, a)
print(result)


thbd = [0.1096499744,
0.1492947493,
0.1113072538,
0.5135028306,
0.5090042138,
0.2862850747]

a = thbd[:3]
b = thbd[3:]
measurements = [a, b]

bplot = matplotlib.pyplot.boxplot(measurements,
                                  showfliers=False,
                                  patch_artist=True, 
                                  medianprops={'color':'black', 'linewidth':2},
                                  boxprops={'linewidth':4}, 
                                  whiskerprops={'linewidth':2},
                                  capprops={'linewidth':2})

for patch, color in zip(bplot['boxes'], colors):
    patch.set_facecolor('white')
    patch.set_edgecolor(color)

for patch, color in zip(bplot['medians'], colors):
    patch.set_color(color)

for i in range(len(bplot['whiskers'])):    
    index = int(numpy.floor(i/2))
    color = colors[index]
    bplot['whiskers'][i].set_color(color)
    bplot['caps'][i].set_color(color)

matplotlib.pyplot.grid(ls=':', alpha=0.5, axis='y')
matplotlib.pyplot.tight_layout()

#matplotlib.pyplot.show()
matplotlib.pyplot.savefig('thbd.svg')

result = scipy.stats.ttest_ind(b, a)
print(result)


pcreb = [0.08800830941,
0.128072074,
0.1269271173,
1.032442186,
0.4748033857,
0.5242568016]

a = pcreb[:3]
b = pcreb[3:]
measurements = [a, b]

bplot = matplotlib.pyplot.boxplot(measurements,
                                  showfliers=False,
                                  patch_artist=True, 
                                  medianprops={'color':'black', 'linewidth':2},
                                  boxprops={'linewidth':4}, 
                                  whiskerprops={'linewidth':2},
                                  capprops={'linewidth':2})

for patch, color in zip(bplot['boxes'], colors):
    patch.set_facecolor('white')
    patch.set_edgecolor(color)

for patch, color in zip(bplot['medians'], colors):
    patch.set_color(color)

for i in range(len(bplot['whiskers'])):    
    index = int(numpy.floor(i/2))
    color = colors[index]
    bplot['whiskers'][i].set_color(color)
    bplot['caps'][i].set_color(color)

matplotlib.pyplot.grid(ls=':', alpha=0.5, axis='y')
matplotlib.pyplot.tight_layout()

#matplotlib.pyplot.show()
matplotlib.pyplot.savefig('pcreb.svg')

result = scipy.stats.ttest_ind(b, a)
print(result)


atf = [0.2496509823,
0.26503605,
0.2283722779,
0.7655460142,
0.4621070597,
0.3387002088]

a = atf[:3]
b = atf[3:]
measurements = [a, b]

bplot = matplotlib.pyplot.boxplot(measurements,
                                  showfliers=False,
                                  patch_artist=True, 
                                  medianprops={'color':'black', 'linewidth':2},
                                  boxprops={'linewidth':4}, 
                                  whiskerprops={'linewidth':2},
                                  capprops={'linewidth':2})

for patch, color in zip(bplot['boxes'], colors):
    patch.set_facecolor('white')
    patch.set_edgecolor(color)

for patch, color in zip(bplot['medians'], colors):
    patch.set_color(color)

for i in range(len(bplot['whiskers'])):    
    index = int(numpy.floor(i/2))
    color = colors[index]
    bplot['whiskers'][i].set_color(color)
    bplot['caps'][i].set_color(color)

matplotlib.pyplot.grid(ls=':', alpha=0.5, axis='y')
matplotlib.pyplot.tight_layout()

#matplotlib.pyplot.show()
matplotlib.pyplot.savefig('atf.svg')

result = scipy.stats.ttest_ind(b, a)
print(result)


hmox1 = [1.59500,
1.63303,
2.33319,
2.68681,
3.33613,
1.67240]

hmox1=[3.63144,
4.14707,
4.13174,
4.67500,
4.43584,
4.02326]

a = hmox1[:3]
b = hmox1[3:]
measurements = [a, b]

bplot = matplotlib.pyplot.boxplot(measurements,
                                  showfliers=False,
                                  patch_artist=True, 
                                  medianprops={'color':'black', 'linewidth':2},
                                  boxprops={'linewidth':4}, 
                                  whiskerprops={'linewidth':2},
                                  capprops={'linewidth':2})

for patch, color in zip(bplot['boxes'], colors):
    patch.set_facecolor('white')
    patch.set_edgecolor(color)

for patch, color in zip(bplot['medians'], colors):
    patch.set_color(color)

for i in range(len(bplot['whiskers'])):    
    index = int(numpy.floor(i/2))
    color = colors[index]
    bplot['whiskers'][i].set_color(color)
    bplot['caps'][i].set_color(color)

matplotlib.pyplot.grid(ls=':', alpha=0.5, axis='y')
matplotlib.pyplot.tight_layout()

#matplotlib.pyplot.show()
matplotlib.pyplot.savefig('hmox1.svg')

result = scipy.stats.ttest_ind(b, a)
print(result)
