import pandas
input_file='quantification.tsv'
df = pandas.read_csv(input_file, sep='\t', index_col=0)
df
