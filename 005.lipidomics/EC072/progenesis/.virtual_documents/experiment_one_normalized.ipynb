








import pandas, numpy, seaborn, scipy, matplotlib_venn


import sklearn, sklearn.preprocessing, sklearn.decomposition
import statsmodels, statsmodels.stats, statsmodels.stats.multitest


import matplotlib, matplotlib.pyplot
matplotlib.rcParams.update({'font.size':20, 
                            'font.family':'sans-serif', 
                            'xtick.labelsize':16, 
                            'ytick.labelsize':16, 
                            'figure.figsize':(16, 9), 
                            'axes.labelsize':20
                           })





experiment_one_input_file = '/Users/adrian/research/vigur/data/lipidomics/072/progenesis/HPMVEC_POSB1_1andB1_2.csv'
metadata_file = '/Users/adrian/research/vigur/metadata/lipidomics/072/EC-072 SAMPLE LIST_BATCHES_FORLCMS_INTRA_Lipidomics_FINAL_23032022.xlsx'
annotation_file = '/Users/adrian/research/vigur/data/lipidomics/072/progenesis/EC72_Lipidomics_MSe_MSDIAL_identifications.csv'








df = pandas.read_csv(experiment_one_input_file, skiprows=2)
df['ID'] = df['m/z'].astype(str) + '_' + df['Retention time (min)'].astype(str)
df.set_index('ID', inplace=True)
print(df.shape)
df.head(15)





metadata = pandas.read_excel(metadata_file, sheet_name='Master Sample List POS', index_col='File')
metadata.head()








normalized_data = df.iloc[:, 27:93]
print(list(normalized_data.columns)[:10])
print(list(normalized_data.columns)[-10:])
print(normalized_data.shape)
normalized_data.head()


log_df = numpy.log2(normalized_data + 1)
log_df.head()





#seaborn.set_style("white")
#g = seaborn.violinplot(data=log_df, cut=0, bw=.15, scale="count", color='white')
#g.set(ylabel='log$_{10}$ Intensity', xlabel='Samples', title='Before QN')
#g.set_xticklabels(g.get_xticklabels(), rotation=-90, fontsize=6)

#matplotlib.pyplot.grid(ls=':')
#matplotlib.pyplot.tight_layout()
#matplotlib.pyplot.show()


pca_data = log_df.transpose()

x = sklearn.preprocessing.StandardScaler().fit_transform(pca_data)
pca = sklearn.decomposition.PCA(n_components=2)
principalComponents = pca.fit_transform(x)
principal_df = pandas.DataFrame(data=principalComponents, columns=['PC1', 'PC2'])

print('variance explained', pca.explained_variance_ratio_)

print(principal_df.shape)
principal_df.head()

#
# scatter plot
#
for i in range(len(pca_data.index)):
    
    label = pca_data.index[i]
    #print(label)
    
    # color for treatment
    treatment = metadata.loc[label, 'Treatment']
    if treatment == '0 µM' or treatment == '0µM':
        plotting_color = 'black'
    elif treatment == '5 µM epi':
        plotting_color = 'orange'
    elif treatment == '5 µM nor':
        plotting_color = 'purple'
    elif treatment == '5 µM epi:nor':
        plotting_color = 'tab:red'
    elif treatment == 'TNFa':
        plotting_color = 'tab:green'
    else:
        raise ValueError('treatment not detected')
        
    # marker for time point
    time_point = metadata.loc[label, 'Timepoint']
    if time_point == 0:
         plotting_marker = '*'
    elif time_point == 4:
         plotting_marker = 'o'
    elif time_point == 24:
         plotting_marker = 's'
    else:
        raise ValueError('timepoint not detected')
    
    # alpha for batch
    batchID = metadata.loc[label, 'MS BATCH.1']
    if batchID[-1] == '1':
         plotting_alpha = 2/3
    elif batchID[-1] == '2':
         plotting_alpha = 1/3
    else:
        raise ValueError('batch not detected')
    
    # position
    posx = principal_df.iloc[i]['PC1']
    posy = principal_df.iloc[i]['PC2']

    # plot the dots
    matplotlib.pyplot.scatter(posx, posy, s=200, c=plotting_color, alpha=plotting_alpha, marker=plotting_marker, edgecolors='none')
    
# legend
legend_elements = [
    matplotlib.patches.Patch(facecolor='black', edgecolor='white'),
    matplotlib.patches.Patch(facecolor='orange', edgecolor='white'),
    matplotlib.patches.Patch(facecolor='purple', edgecolor='white'),
    matplotlib.patches.Patch(facecolor='tab:red', edgecolor='white'),
    matplotlib.patches.Patch(facecolor='tab:green', edgecolor='white'),
    
    matplotlib.lines.Line2D([0], [0], marker='*', color='black', markerfacecolor='white', markersize=16, alpha=2/3, lw=0),
    matplotlib.lines.Line2D([0], [0], marker='o', color='black', markerfacecolor='white', markersize=16, alpha=2/3, lw=0),
    matplotlib.lines.Line2D([0], [0], marker='s', color='black', markerfacecolor='white', markersize=16, alpha=2/3, lw=0)
    ]
matplotlib.pyplot.legend(legend_elements, ['control', 'epi', 'nor', 'mix', 'TNF$\\alpha$', 'T0', 'T4', 'T24'], fontsize=16)

# close figure
matplotlib.pyplot.title('Experiment one, two batches, Progenesis normalized')
matplotlib.pyplot.grid(alpha=1/2, ls=':')
matplotlib.pyplot.xlabel('PC1 ({}% var.)'.format(int(pca.explained_variance_ratio_[0]*100)))
matplotlib.pyplot.ylabel('PC2 ({}% var.)'.format(int(pca.explained_variance_ratio_[1]*100)))

matplotlib.pyplot.tight_layout()
matplotlib.pyplot.show()





###
### quantile normalization |  taken from https://cmdlinetips.com/2020/06/computing-quantile-normalization-in-python/
###

# step 1/3: sorting sample values
df_sorted = pandas.DataFrame(numpy.sort(log_df.values, axis=0), 
                             index=log_df.index, 
                             columns=log_df.columns)
# step 2/3: averaging rank values across samples
df_mean = df_sorted.mean(axis=1)
df_mean.index = numpy.arange(1, len(df_mean) + 1)
# step 3/3: re-ordering samples
df_qn = log_df.rank(method="min").stack().astype(int).map(df_mean).unstack()


# seaborn.set_style("white")
# g = seaborn.violinplot(data=df_qn, cut=0, bw=.15, scale="count", color='white')
# g.set(ylabel='log$_{10}$ Intensity', xlabel='Samples', title='After QN')
# g.set_xticklabels(g.get_xticklabels(), rotation=-90, fontsize=6)

# matplotlib.pyplot.grid(ls=':')
# matplotlib.pyplot.tight_layout()
# matplotlib.pyplot.show()





pca_data = df_qn.transpose()

x = sklearn.preprocessing.StandardScaler().fit_transform(pca_data)
pca = sklearn.decomposition.PCA(n_components=2)
principalComponents = pca.fit_transform(x)
principal_df = pandas.DataFrame(data=principalComponents, columns=['PC1', 'PC2'])

print('variance explained', pca.explained_variance_ratio_)

print(principal_df.shape)
principal_df.head()

#
# scatter plot
#
for i in range(len(pca_data.index)):
    
    label = pca_data.index[i]
    #print(label)
    
    # color for treatment
    treatment = metadata.loc[label, 'Treatment']
    if treatment == '0 µM' or treatment == '0µM':
        plotting_color = 'black'
    elif treatment == '5 µM epi':
        plotting_color = 'orange'
    elif treatment == '5 µM nor':
        plotting_color = 'purple'
    elif treatment == '5 µM epi:nor':
        plotting_color = 'tab:red'
    elif treatment == 'TNFa':
        plotting_color = 'tab:green'
    else:
        raise ValueError('treatment not detected')
        
    # marker for time point
    time_point = metadata.loc[label, 'Timepoint']
    if time_point == 0:
         plotting_marker = '*'
    elif time_point == 4:
         plotting_marker = 'o'
    elif time_point == 24:
         plotting_marker = 's'
    else:
        raise ValueError('timepoint not detected')
    
    # alpha for batch
    batchID = metadata.loc[label, 'MS BATCH.1']
    if batchID[-1] == '1':
         plotting_alpha = 2/3
    elif batchID[-1] == '2':
         plotting_alpha = 1/3
    else:
        raise ValueError('batch not detected')
    
    # position
    posx = principal_df.iloc[i]['PC1']
    posy = principal_df.iloc[i]['PC2']

    # plot the dots
    matplotlib.pyplot.scatter(posx, posy, s=200, c=plotting_color, alpha=plotting_alpha, marker=plotting_marker, edgecolors='none')
    
# legend
legend_elements = [
    matplotlib.patches.Patch(facecolor='black', edgecolor='white'),
    matplotlib.patches.Patch(facecolor='orange', edgecolor='white'),
    matplotlib.patches.Patch(facecolor='purple', edgecolor='white'),
    matplotlib.patches.Patch(facecolor='tab:red', edgecolor='white'),
    matplotlib.patches.Patch(facecolor='tab:green', edgecolor='white'),
    
    matplotlib.lines.Line2D([0], [0], marker='*', color='black', markerfacecolor='white', markersize=16, alpha=2/3, lw=0),
    matplotlib.lines.Line2D([0], [0], marker='o', color='black', markerfacecolor='white', markersize=16, alpha=2/3, lw=0),
    matplotlib.lines.Line2D([0], [0], marker='s', color='black', markerfacecolor='white', markersize=16, alpha=2/3, lw=0)
    ]
matplotlib.pyplot.legend(legend_elements, ['control', 'epi', 'nor', 'mix', 'TNF$\\alpha$', 'T0', 'T4', 'T24'], fontsize=16)

# close figure
matplotlib.pyplot.title('Experiment one, two batches, Progenesis normalized')
matplotlib.pyplot.grid(alpha=1/2, ls=':')
matplotlib.pyplot.xlabel('PC1 ({}% var.)'.format(int(pca.explained_variance_ratio_[0]*100)))
matplotlib.pyplot.ylabel('PC2 ({}% var.)'.format(int(pca.explained_variance_ratio_[1]*100)))

matplotlib.pyplot.tight_layout()
matplotlib.pyplot.show()





treatments = ['5 µM epi', '5 µM nor', '5 µM epi:nor', 'TNFa']
treatment_colors = ['tab:orange', 'tab:purple', 'tab:red', 'tab:green']
time_points = [4, 24]
fold_change_threshold = 1
clipping_threshold = 6
response_lipids = []

for time_point in time_points:
    for treatment in treatments:
        
        the_color = treatment_colors[treatments.index(treatment)]
                
        #
        # select control and treatment samples
        #
        rules = ((metadata['Treatment'] == '0 µM') | (metadata['Treatment'] == '0µM')) & (metadata['Timepoint'] == time_point) & (metadata['MS BATCH'] == 1)
        control_samples = metadata[rules].index.to_list()
        
        rules = (metadata['Treatment'] == treatment) & (metadata['Timepoint'] == time_point) & (metadata['MS BATCH'] == 1)
        treated_samples = metadata[rules].index.to_list()
                
        #
        # iterate over lipids to get position on scatter plot
        #
        fold_changes = []; pvalues = []

        for lipid in log_df.index:
            control_values = log_df.loc[lipid, control_samples].values
            treated_values = log_df.loc[lipid, treated_samples].values

            log2FC = numpy.median(treated_values) - numpy.median(control_values)
            statistic, pvalue = scipy.stats.ttest_ind(control_values, treated_values)
            fold_changes.append(log2FC); pvalues.append(pvalue)

        #
        # multiple testing correction
        #
        correction_model = statsmodels.stats.multitest.multipletests(pvalues, method='bonferroni', alpha=0.05)
        
        #
        # discriminate responding vs non-responding lipids
        #
        respondingx = []; respondingy = []; responding_names = []
        nrespondingx = []; nrespondingy = []
        allx = []; ally = []; allnames = []
        
        for i in range(len(correction_model[0])):
            
            x = fold_changes[i]
            y = -numpy.log10(correction_model[1][i])
            
            allx.append(x); ally.append(y); allnames.append(log_df.index[i])
            
            if correction_model[0][i] == True and numpy.abs(fold_changes[i]) > fold_change_threshold:
                respondingx.append(x); respondingy.append(y); responding_names.append(log_df.index[i])
            else: # necessary for black scatter plot dots
                nrespondingx.append(x); nrespondingy.append(y)
                            
        print('found {} responding features in {} on time {}'.format(len(respondingx), treatment, time_point))
                
        #
        # store responding values
        #
        rt = [element.split('_')[1] for element in responding_names]
        mz = [element.split('_')[0] for element in responding_names]
          
        info = pandas.DataFrame()
        info = pandas.DataFrame([responding_names, mz, rt, respondingx, respondingy])
        info = info.transpose()
        info.columns = ['ID', 'm/z', 'RT', 'log2FC', '-log10 adj P']     
        info.set_index('ID', inplace=True)
        
        info.to_csv('{}.{}.quant.responding.csv'.format(treatment, time_point), sep='\t')
        
        response_lipids.append(info.index.to_list())
        
        #
        # store all values for quantification
        #
        rt = [element.split('_')[1] for element in allnames]
        mz = [element.split('_')[0] for element in allnames]
                
        info = pandas.DataFrame()
        info = pandas.DataFrame([allnames, mz, rt, allx, ally])
        info = info.transpose()
        info.columns = ['ID', 'm/z', 'RT', 'log2FC', '-log10 adj P']     
        info.set_index('ID', inplace=True)
        
        info.to_csv('{}.{}.quant.all.csv'.format(treatment, time_point), sep='\t')
                       
        #
        # generate plot
        #
        respondingx = numpy.clip(respondingx, -clipping_threshold, clipping_threshold); nrespondingx = numpy.clip(nrespondingx, -clipping_threshold, clipping_threshold)
        respondingy = numpy.clip(respondingy, -clipping_threshold, clipping_threshold); nrespondingy = numpy.clip(nrespondingy, -clipping_threshold, clipping_threshold)
        
        matplotlib.pyplot.plot(respondingx, respondingy, 'o', color=the_color, alpha=1/3, mec='None', ms=15)
        matplotlib.pyplot.plot(nrespondingx, nrespondingy, 'o', color='black', alpha=1/3, mec='None', ms=15)
        matplotlib.pyplot.ylabel('-log$_{10}$ adj. P')
        matplotlib.pyplot.xlabel('log$_2$ FC')
        matplotlib.pyplot.grid(alpha=0.5, ls=':')
        matplotlib.pyplot.title('{} | {} h'.format(treatment, time_point))
        matplotlib.pyplot.xlim([-6.1, 6.1])
        matplotlib.pyplot.ylim([-0.1, 6.1])
        
        #matplotlib.pyplot.show()
        matplotlib.pyplot.savefig('volcano.{}.{}.svg'.format(treatment, time_point))
        matplotlib.pyplot.close()








matplotlib_venn.venn3([set(response_lipids[0]), set(response_lipids[1]), set(response_lipids[2])], 
                      set_labels=('Epi', 'Nor', 'Mix'),
                      set_colors=('tab:orange', 'tab:purple', 'tab:red'),
                      alpha=2/3)
matplotlib.pyplot.title('4 h')

matplotlib.pyplot.savefig('venn.svg')





def formatter(elements, tag):
    
    a = []; b = []
    for element in elements:
        mz = element.split('_')[0]
        rt = element.split('_')[1]
        a.append(mz); b.append(rt)
    newdf = pandas.DataFrame({'m/z':a,'RT':b})
    newdf.to_csv('{}.csv'.format(tag), sep='\t')
    
    return None

core = list(set(response_lipids[0]) & set(response_lipids[1]) & set(response_lipids[2]))
formatter(core, 'core')

epi_nor = list(set(response_lipids[0]) & set(response_lipids[1]))
formatter(epi_nor, 'epi_nor')

epi_mix = list(set(response_lipids[0]) & set(response_lipids[2]))
formatter(epi_mix, 'epi_mix')

nor_mix = list(set(response_lipids[1]) & set(response_lipids[2]))
formatter(nor_mix, 'nor_mix')

only_epi = list(set(response_lipids[0]) - set(response_lipids[1]) - set(response_lipids[2]))
formatter(only_epi, 'only_epi')

only_nor = list(set(response_lipids[1]) - set(response_lipids[0]) - set(response_lipids[2]))
formatter(only_nor, 'only_nor')

only_mix = list(set(response_lipids[2]) - set(response_lipids[0]) - set(response_lipids[1]))
formatter(only_mix, 'only_mix')





matplotlib_venn.venn3([set(response_lipids[4]), set(response_lipids[5]), set(response_lipids[6])], 
                      set_labels=('Epi', 'Nor', 'Mix'),
                      set_colors=('tab:orange', 'tab:purple', 'tab:red'), 
                      alpha=2/3)
matplotlib.pyplot.title('24 h')
matplotlib.pyplot.show()





matplotlib_venn.venn2([set(response_lipids[0]), set(response_lipids[4])], 
                      set_labels=('Epi 4 h', 'Epi 24 h'),
                      set_colors=('tab:orange', 'tab:orange'), 
                      alpha=2/3)
matplotlib.pyplot.title('Epi 4 vs 24 h')
matplotlib.pyplot.show()


matplotlib_venn.venn2([set(response_lipids[1]), set(response_lipids[5])], 
                      set_labels=('Nor 4 h', 'Nor 24 h'),
                      set_colors=('tab:purple', 'tab:purple'), 
                      alpha=2/3)
matplotlib.pyplot.title('Nor 4 vs 24 h')
matplotlib.pyplot.show()


matplotlib_venn.venn2([set(response_lipids[2]), set(response_lipids[6])], 
                      set_labels=('Mix 4 h', 'Mix 24 h'),
                      set_colors=('tab:red', 'tab:red'), 
                      alpha=2/3)
matplotlib.pyplot.title('Mix 4 vs 24 h')
matplotlib.pyplot.show()



