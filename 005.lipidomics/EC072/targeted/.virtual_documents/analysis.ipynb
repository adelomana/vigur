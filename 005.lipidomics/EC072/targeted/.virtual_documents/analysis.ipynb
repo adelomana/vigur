import pandas, seaborn, numpy, qnorm


import sklearn, sklearn.preprocessing, sklearn.decomposition, sklearn.impute
import statsmodels, statsmodels.stats, statsmodels.stats.multitest
import scipy, scipy.stats


import matplotlib, matplotlib.pyplot
matplotlib.rcParams.update({'font.size':20, 
                            'font.family':'sans-serif', 
                            'xtick.labelsize':16, 
                            'ytick.labelsize':16, 
                            'figure.figsize':(16*(2/3), 9*(2/3)), 
                            'axes.labelsize':20
                           })





# path https://reiknistofnun.sharepoint.com/sites/rolfssonlaboratorycommon-hi/Shared%20Documents/General/Projects/Endotheliomics/Alexia/EC-072%20catecholamine-mets/LIPIDOMICS_TARGETED


inputfile = 'EC_72_lipidomic_targeted_12102024.xlsx'





df = pandas.read_excel(inputfile)
df


batches = list(df['BATCH'].unique())
batches.sort()
batches


selected_batch = 'B1_1'


bdf = df[df['BATCH'] == selected_batch]
bdf0 = bdf[bdf['Treatment'] == 'Pool']
bdf1 = bdf[bdf['Treatment'] != 'Pool']
bdf0


new = bdf0.drop(['ID', 'Experiment', 'Experiment ', 'Type', 'Mode', 'Sample ID', 'Treatment', 'TIME', 'BATCH'], axis=1) # oh yes, Experiment and Experiment 
new.set_index('Injection order', inplace=True)
new2 = new.transpose()
log10new2 = numpy.log10(new2)


# Data visualization before QN


seaborn.set_style("white")
g = seaborn.violinplot(data=log10new2, cut=0, bw_method='scott', bw_adjust=1/2, density_norm='area', color='white', common_norm=True)
g.set(ylabel='log$_{10}$ Intensity', xlabel='Pools', title='Pools B11 before QN')
matplotlib.pyplot.grid(ls=':', color='black', alpha=1/2)
matplotlib.pyplot.tight_layout()
matplotlib.pyplot.show()


qndf = qnorm.quantile_normalize(log10new2, axis=1)


g = seaborn.violinplot(data=qndf, cut=0, bw_method='scott', bw_adjust=1/2, density_norm='area', color='white', common_norm=True)
g.set(ylabel='log$_{10}$ Intensity', xlabel='Pools', title='Pools B11 after QN')
matplotlib.pyplot.grid(ls=':', color='black', alpha=1/2)
matplotlib.pyplot.tight_layout()
matplotlib.pyplot.show()


new = bdf1.drop(['ID', 'Experiment', 'Experiment ', 'Type', 'Mode', 'Sample ID', 'Treatment', 'TIME', 'BATCH'], axis=1) # oh yes
new.set_index('Injection order', inplace=True)
new2 = new.transpose()
log10new2 = numpy.log10(new2)


seaborn.set_style("white")
g = seaborn.violinplot(data=log10new2, cut=0, bw_method='scott', bw_adjust=1/2, density_norm='area', color='white', common_norm=True)
g.set(ylabel='log$_{10}$ Intensity', xlabel='Biological samples', title='Biologicals B11 before QN')
matplotlib.pyplot.grid(ls=':', color='black', alpha=1/2)
tk = g.get_xticklabels()
g.set_xticklabels(tk, fontsize=10)
matplotlib.pyplot.tight_layout()
matplotlib.pyplot.show()


qndf = qnorm.quantile_normalize(log10new2, axis=1)


seaborn.set_style("white")
g = seaborn.violinplot(data=qndf, cut=0, bw_method='scott', bw_adjust=1/2, density_norm='area', color='white', common_norm=True)
g.set(ylabel='log$_{10}$ Intensity', xlabel='Biological samples', title='Biologicals B11 after QN')
matplotlib.pyplot.grid(ls=':', color='black', alpha=1/2)
tk = g.get_xticklabels()
g.set_xticklabels(tk, fontsize=10)
matplotlib.pyplot.tight_layout()
matplotlib.pyplot.show()





new = bdf.drop(['ID', 'Experiment', 'Experiment ', 'Type', 'Mode', 'Sample ID', 'Treatment', 'TIME', 'BATCH'], axis=1) # oh yes
new.set_index('Injection order', inplace=True)
new2 = new.transpose()
log10new2 = numpy.log10(new2)


seaborn.set_style("white")
g = seaborn.violinplot(data=log10new2, cut=0, bw_method='scott', bw_adjust=1/2, density_norm='area', color='white', common_norm=True)
g.set(ylabel='log$_{10}$ Intensity', xlabel='All samples', title='All B11 before QN')
matplotlib.pyplot.grid(ls=':', color='black', alpha=1/2)
tk = g.get_xticklabels()
g.set_xticklabels(tk, fontsize=10)
matplotlib.pyplot.tight_layout()
matplotlib.pyplot.show()


qndf = qnorm.quantile_normalize(log10new2, axis=1)


seaborn.set_style("white")
g = seaborn.violinplot(data=qndf, cut=0, bw_method='scott', bw_adjust=1/2, density_norm='area', color='white', common_norm=True)
g.set(ylabel='log$_{10}$ Intensity', xlabel='All samples', title='All B11 after QN')
matplotlib.pyplot.grid(ls=':', color='black', alpha=1/2)
tk = g.get_xticklabels()
g.set_xticklabels(tk, fontsize=10)
matplotlib.pyplot.tight_layout()
matplotlib.pyplot.show()





found_max = 3.75
number_of_bins = 20
print(number_of_bins)

for sample in qndf.columns:
    values = qndf.loc[:, sample]
    #print(sample, len(values), numpy.min(values), numpy.max(values))
        
    hist, bin_edges = numpy.histogram(values, bins=number_of_bins, range=(0, found_max))
    half_bin = (bin_edges[1] - bin_edges[0])/2
    x = bin_edges + half_bin
    x = x[:-1]
    matplotlib.pyplot.plot(x, hist, '.', alpha=1/3, mec='none')

    yhat = scipy.signal.savgol_filter(hist, 11, 3)
    matplotlib.pyplot.plot(x, yhat, '-', lw=2, alpha=1/2)
    
matplotlib.pyplot.xlabel('Abundance [log10 Intensity]')
matplotlib.pyplot.ylabel('Lipid count')
matplotlib.pyplot.grid(ls=':')

matplotlib.pyplot.xlim(-0.1, 3.8)

matplotlib.pyplot.tight_layout()
matplotlib.pyplot.show()


selected = qndf[(qndf.max(axis=1) >= 1.5) & (qndf.max(axis=1) <= 3)]
print(selected.shape)
print(qndf.shape)

# imputation
imputer = sklearn.impute.KNNImputer(n_neighbors=5)
imputed = imputer.fit_transform(selected)
iselected = pandas.DataFrame(data=imputed, index=selected.index, columns=selected.columns)

transpose = iselected.transpose()
scaled_data = sklearn.preprocessing.StandardScaler().fit_transform(transpose)
model = sklearn.decomposition.PCA(n_components=2)
new = model.fit_transform(scaled_data)
explained = model.explained_variance_ratio_
print(explained)

print(new.shape)
for i in range(len(new)):
    matplotlib.pyplot.scatter(new[i,0], new[i,1], s=666, c='black', marker='o', alpha=1/3, edgecolors='none')
    
    label = iselected.columns[i]
    full_label = df[df['Injection order'] == label]['ID'].values[0]
    matplotlib.pyplot.text(new[i,0], new[i,1], full_label, fontsize=12)
    
matplotlib.pyplot.xlabel('PC1 (exp. var.: {}%)'.format(int(explained[0]*100)))
matplotlib.pyplot.ylabel('PC2 (exp. var.: {}%)'.format(int(explained[1]*100)))
matplotlib.pyplot.grid(alpha=0.5, ls=':')

matplotlib.pyplot.show()


selected = qndf[(qndf.max(axis=1) >= 0) & (qndf.max(axis=1) <= 4)]
print(selected.shape)

# imputation
imputer = sklearn.impute.KNNImputer(n_neighbors=5)
imputed = imputer.fit_transform(selected)
iselected = pandas.DataFrame(data=imputed, index=selected.index, columns=selected.columns)

transpose = iselected.transpose()
scaled_data = sklearn.preprocessing.StandardScaler().fit_transform(transpose)
model = sklearn.decomposition.PCA(n_components=2)
new = model.fit_transform(scaled_data)
explained = model.explained_variance_ratio_
print(explained)

print(new.shape)
for i in range(len(new)):
    
    label = iselected.columns[i]
    full_label = df[df['Injection order'] == label]['ID'].values[0]
    timepoint = df[df['Injection order'] == label]['TIME'].values[0]
                    
    if timepoint == 4:
        the_marker = 'o'
    elif timepoint == 24:
        the_marker = 's'
    elif timepoint == 0:
        the_marker = '.'
    elif numpy.isnan(timepoint) == True:
        the_marker = '*'
        the_color = 'black'
    else:
        print('unmatched', timepoint, type(timepoint))

    if '0uM' in full_label or '0 uM' in full_label:
        the_color = 'black'
    elif 'epi:nor' in full_label:
        the_color = 'tab:red'
    elif 'epi_' in full_label:
        the_color = 'tab:orange'
    elif 'nor_' in full_label:
        the_color = 'purple'
    elif 'TNF' in full_label:
        the_color = 'tab:green'
    else:
        print('unmatched',full_label)

    matplotlib.pyplot.scatter(new[i,0], new[i,1], s=100, c=the_color, marker=the_marker, alpha=1/2, edgecolors='none')

    # add legend
        
matplotlib.pyplot.xlabel('PC1 (exp. var.: {}%)'.format(int(explained[0]*100)))
matplotlib.pyplot.ylabel('PC2 (exp. var.: {}%)'.format(int(explained[1]*100)))
matplotlib.pyplot.grid(alpha=0.5, ls=':')
matplotlib.pyplot.tight_layout()

matplotlib.pyplot.show()





rules = ((df['Treatment'] == '0 uM') | (df['Treatment'] == '0uM')) & (df['BATCH'] == 'B1_1') & (df['TIME'] == 4) #### ojooooooo BATCH == B11
control_injections = df[rules]['Injection order'].to_list()
print(len(control_injections), control_injections)
rules = (df['Treatment'] == '5 uM epi:nor') & (df['BATCH'] == 'B1_1') & (df['TIME'] == 4)
treated_injections = df[rules]['Injection order'].to_list()
print(len(treated_injections), treated_injections)


x = []; y = []
p = []
for compound in qndf.index:
    a = qndf.loc[compound, control_injections].values
    b = qndf.loc[compound, treated_injections].values
    results = scipy.stats.ttest_ind(a, b)
    pvalue = results[1]
    if numpy.isnan(pvalue) == True:
        pvalue = 1
    p.append(pvalue)

    value_c = (10**numpy.median(a)) - 1
    value_t = (10**numpy.median(b)) - 1
    diff = numpy.log2(value_t + 1) - numpy.log2(value_c + 1)
    x.append(diff)
    #print(compound, b, a, diff, pvalue)

results = statsmodels.stats.multitest.multipletests(p, alpha=0.05, method='fdr_bh')
adjusted = results[1]
y = -numpy.log10(adjusted)
matplotlib.pyplot.plot(x, y, 'o', color='black')

for i in range(len(adjusted)):
    if adjusted[i] <= 0.05:
        print(i, adjusted[i], x[i], qndf.index[i])

matplotlib.pyplot.axhline(-numpy.log10(0.05), lw=2, color='red', ls='--')
matplotlib.pyplot.axvline(-1, lw=2, color='red', ls='--')
matplotlib.pyplot.axvline(1, lw=2, color='red', ls='--')

matplotlib.pyplot.grid(alpha=0.5, ls=':')
matplotlib.pyplot.xlabel('log2FC')
matplotlib.pyplot.ylabel('-log10 adjusted')
matplotlib.pyplot.tight_layout()

matplotlib.pyplot.show()   


# show IS as injection order





sdf














# TODO
### priority
# 
# get a volcano plot and a table of DELs
# compute the standar error of pools before and after normalization
# plot IS across injection time with and without normalization
# redo the analysis without normalization
# 
# plot mean  vs sd in lin scale for qn-specific pools and controls before and after qn
# do normalization with is as i did before with all of them and the shift
# dont forget 24h  
# consider doing for other drugs
