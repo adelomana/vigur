# path https://reiknistofnun.sharepoint.com/sites/rolfssonlaboratorycommon-hi/Shared%20Documents/General/Projects/Endotheliomics/Alexia/EC-072%20catecholamine-mets/LIPIDOMICS_TARGETED


import pandas, seaborn, numpy


import scipy, scipy.stats


import matplotlib, matplotlib.pyplot
matplotlib.rcParams.update({'font.size':20, 
                            'font.family':'sans-serif', 
                            'xtick.labelsize':16, 
                            'ytick.labelsize':16, 
                            'figure.figsize':(16*(2/3), 9*(2/3)), 
                            'axes.labelsize':20
                           })


inputfile = 'EC_72_lipidomic_targeted_12102024.xlsx'


# explore qn, is and pools


df = pandas.read_excel(inputfile)
df


batches = list(df['BATCH'].unique())
batches.sort()
batches


bdf = df[df['BATCH'] == batches[0]]
bdf0 = bdf[bdf['Treatment'] == 'Pool']
bdf1 = bdf[bdf['Treatment'] != 'Pool']
bdf0


new = bdf0.drop(['ID', 'Experiment', 'Experiment ', 'Type', 'Mode', 'Sample ID', 'Treatment', 'TIME', 'BATCH'], axis=1) # oh yes
new.set_index('Injection order', inplace=True)
new2 = new.transpose()
log10new2 = numpy.log10(new2)


seaborn.set_style("white")
g = seaborn.violinplot(data=log10new2, cut=0, bw_method='scott', bw_adjust=1/2, density_norm='area', color='white', common_norm=True)
g.set(ylabel='log$_{10}$ Intensity', xlabel='Pools', title='Pools B11 before QN')
matplotlib.pyplot.grid(ls=':', color='black', alpha=1/2)
matplotlib.pyplot.tight_layout()
matplotlib.pyplot.show()


###
### quantile normalization |  taken from https://cmdlinetips.com/2020/06/computing-quantile-normalization-in-python/
###

# step 1/3: sorting sample values
df_sorted = pandas.DataFrame(numpy.sort(log10new2.values, axis=0), 
                             index=log10new2.index, 
                             columns=log10new2.columns)
# step 2/3: averaging rank values across samples
df_mean = df_sorted.mean(axis=1)
df_mean.index = numpy.arange(1, len(df_mean) + 1)
# step 3/3: re-ordering samples
df_qn = log10new2.rank(method="min").stack().astype(int).map(df_mean).unstack()


g = seaborn.violinplot(data=df_qn, cut=0, bw_method='scott', bw_adjust=1/2, density_norm='area', color='white', common_norm=True)
g.set(ylabel='log$_{10}$ Intensity', xlabel='Pools', title='Pools B11 after QN')
matplotlib.pyplot.grid(ls=':', color='black', alpha=1/2)
matplotlib.pyplot.tight_layout()
matplotlib.pyplot.show()


new = bdf1.drop(['ID', 'Experiment', 'Experiment ', 'Type', 'Mode', 'Sample ID', 'Treatment', 'TIME', 'BATCH'], axis=1) # oh yes
new.set_index('Injection order', inplace=True)
new2 = new.transpose()
log10new2 = numpy.log10(new2)


seaborn.set_style("white")
g = seaborn.violinplot(data=log10new2, cut=0, bw_method='scott', bw_adjust=1/2, density_norm='area', color='white', common_norm=True)
g.set(ylabel='log$_{10}$ Intensity', xlabel='Biological samples', title='Biologicals B11 before QN')
matplotlib.pyplot.grid(ls=':', color='black', alpha=1/2)
tk = g.get_xticklabels()
g.set_xticklabels(tk, fontsize=10)
matplotlib.pyplot.tight_layout()
matplotlib.pyplot.show()


###
### quantile normalization |  taken from https://cmdlinetips.com/2020/06/computing-quantile-normalization-in-python/
###

# step 1/3: sorting sample values
df_sorted = pandas.DataFrame(numpy.sort(log10new2.values, axis=0), 
                             index=log10new2.index, 
                             columns=log10new2.columns)
# step 2/3: averaging rank values across samples
df_mean = df_sorted.mean(axis=1)
df_mean.index = numpy.arange(1, len(df_mean) + 1)
# step 3/3: re-ordering samples
df_qn = log10new2.rank(method="min").stack().astype(int).map(df_mean).unstack()


seaborn.set_style("white")
g = seaborn.violinplot(data=df_qn, cut=0, bw_method='scott', bw_adjust=1/2, density_norm='area', color='white', common_norm=True)
g.set(ylabel='log$_{10}$ Intensity', xlabel='Biological samples', title='Biologicals B11 after QN')
matplotlib.pyplot.grid(ls=':', color='black', alpha=1/2)
tk = g.get_xticklabels()
g.set_xticklabels(tk, fontsize=10)
matplotlib.pyplot.tight_layout()
matplotlib.pyplot.show()


df_qn


df['Treatment'].unique()


df[df['Treatment'] == '0 uM']


rules = ((df['Treatment'] == '0 uM') | (df['Treatment'] == '0uM')) & (df['BATCH'] == 'B1_1') & (df['TIME'] == 4)
control_injections = df[rules]['Injection order'].to_list()
print(len(control_injections), control_injections)
rules = (df['Treatment'] == '5 uM epi:nor') & (df['BATCH'] == 'B1_1') & (df['TIME'] == 4)
treated_injections = df[rules]['Injection order'].to_list()
print(len(treated_injections), treated_injections)


median_control = df_qn[control_injections].median(axis=1)
median_treated = df_qn[treated_injections].median(axis=1)

a = (10**median_control) - 1
print(a.shape)
b = (10**median_treated) - 1
print()
print(b.shape)

log2FC = numpy.log2(b + 1) - numpy.log2(a + 1)
df_qn[control_injections]





x = []; y = []
p = []
for compound in log2FC.index:
    a = df_qn.loc[compound, control_injections].values
    b = df_qn.loc[compound, treated_injections].values
    results = scipy.stats.ttest_ind(a, b)
    p.append(results[1])

    value_c = (10**numpy.median(a)) - 1
    value_t = (10**numpy.median(b)) - 1
    x.append(numpy.log2(value_t + 1) - numpy.log2(value_c + 1))


statsmodels.stats.multitest.multipletests(pvals, alpha=0.05, method='hs', maxiter=1, is_sorted=False, returnsorted=False)[source]
matplotlib.pyplot.plot(x, -numpy.log10(p), 'o', color='black')
matplotlib.pyplot.show()
    









# TODO
# test qn function to see if it is more radical
# plot controls, then all. then normalize non pools. then volcano
# plot mean  vs sd in lin scale for qn-specific pools and controls before and after qn
# PCA with all samples
