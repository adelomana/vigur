import urllib, pandas, numpy, igraph


# pip install git+https://github.com/Maayanlab/maayanlab-bioinformatics.git
import maayanlab_bioinformatics, maayanlab_bioinformatics.enrichment


import matplotlib, matplotlib.pyplot
matplotlib.rcParams.update({'font.size':20, 
                            'font.family':'sans-serif', 
                            'xtick.labelsize':16, 
                            'ytick.labelsize':16, 
                            'figure.figsize':(16*(2/3), 9*(2/3)), 
                            'axes.labelsize':20
                           })


enrichr_library = 'ENCODE_and_ChEA_Consensus_TFs_from_ChIP-X'


inputfile = '/Users/adrian/hub/vigur/003.proteomics/colored_proteins_24.tsv'
df = pandas.read_csv(inputfile, sep='\t')
df.head()


sub = df[(df['Color_in_plot'] == 'blue') | (df['Color_in_plot'] == 'red')] # get blue or red. Another notebook for 4 hours.
v = list(sub['Gene_name'].dropna())
genes = list(set(v))
gene_list = [x.strip() for x in genes]
print(len(gene_list))


def get_library(lib_name):
    '''
    Returns a dictionary mapping each term from the input library to 
    its associated geneset. 
    '''
    raw_lib_data = []

    with urllib.request.urlopen('https://maayanlab.cloud/Enrichr/geneSetLibrary?mode=text&libraryName=' + lib_name) as f:
        for line in f.readlines():
            raw_lib_data.append(line.decode("utf-8").split("\t\t"))

    #print('raw', raw_lib_data[:10], len(raw_lib_data))

    name = []
    gene_list = []
    lib_data = {}

    for i in range(len(raw_lib_data)):
        name += [raw_lib_data[i][0]]
        raw_genes = raw_lib_data[i][1].replace('\t', ' ')
        gene_list += [raw_genes[:-1]]
    
    lib_data = {a[0]:a[1].split(' ') for a in zip(name, gene_list)}
    return lib_data

lib_data = get_library(enrichr_library) # lib_data contains the background
enrich_results = maayanlab_bioinformatics.enrichment.enrich_crisp(genes, lib_data, 21000, True)

res_df = pandas.DataFrame(
    [ [
        term, 
        res.pvalue, 
        res.odds_ratio,
        res.n_overlap,

    ] for (term, res) in enrich_results ], 
    columns=['term', 'pvalue', 'odds_ratio', 'n_overlap']
)
res_df


a = res_df[(res_df['pvalue'] > 0.05) | (res_df['odds_ratio'] < 2)]
print(a.shape)
x = a['odds_ratio']
y = -numpy.log10(a['pvalue'])
s = a['n_overlap']
matplotlib.pyplot.scatter(x, y, s*8, alpha=1/3, edgecolors='none', color='black')

b = res_df[(res_df['pvalue'] < 0.05) & (res_df['odds_ratio'] > 2)]
print(b.shape)
x = b['odds_ratio']
y = -numpy.log10(b['pvalue'])
s = b['n_overlap']
sc = matplotlib.pyplot.scatter(x, y, s*8, alpha=3/4, edgecolors='none', color='gold')

x = list(b['odds_ratio'])
y = list(-numpy.log10(b['pvalue']))
importance = [numpy.sqrt(x[i]**2 + y[i]**2) for i in range(len(x))]
b.loc[:, 'importance'] = importance
c = b.sort_values('importance', ascending=False)

threshold = 0 # seven
com = c[c['importance'] > threshold]
count = 0
for index, row in com.iterrows():
    x = row['odds_ratio']
    y = -numpy.log10(row['pvalue'])
    label = row['term'].split()[0]
    matplotlib.pyplot.text(x, y, label, fontsize=12)
    count = count + 1
    print('{}\t{}\t{}'.format(count, row['importance'], row['term']))

#matplotlib.pyplot.legend(*sc.legend_elements("sizes", num=4))
#matplotlib.pyplot.xlim(0, 17)
matplotlib.pyplot.xlabel('Odds ratio')
matplotlib.pyplot.ylabel('Significance [-log10 P]')
matplotlib.pyplot.grid(ls=':', alpha=0.5)
matplotlib.pyplot.tight_layout()

matplotlib.pyplot.show()


print(c.shape)
c


ourtfs = c['term'].values
for tf in ourtfs:
    print(tf)
    for target in lib_data[tf]:
        if target in ourtfs:
            print('\t', tf, target)
    
        


%%time
tflink = pandas.read_csv('/Users/adrian/scratch/TFLink_Homo_sapiens_interactions_All_simpleFormat_v1.0.tsv', sep='\t')


tflink


small = tflink[tflink['Small-scale.evidence'] == 'Yes']
print(small.shape)


targets = tflink[tflink['Name.TF'] == 'MYC']['Name.Target'].to_list()
print(len(targets))


print(tflink.shape)
df = tflink[tflink['Name.TF'] == 'IRF8']
#print(df.shape)
#df = df[df['Name.Target'].isin(ourtfs)]
#print(df.shape)
df





a = ['sd', 'sdd']
a.index('sdd')


ourtfs = list(set([element.split(' ')[0] for element in c['term'].values]))
ourtfs.sort()

interactions = []

for tf in ourtfs:
    print(tf)
    df = small[small['Name.TF'] == tf]
    print(df.shape)
    df = df[df['Name.Target'].isin(ourtfs)]

    print(df.shape)
    print(df[['Name.TF', 'Name.Target']])

    for tmp, row in df.iterrows():
        print(ourtfs.index(row['Name.TF']), ourtfs.index(row['Name.Target'])) 

        a = ourtfs.index(row['Name.TF'])
        b = ourtfs.index(row['Name.Target'])
        interactions.append([a, b])
    
    print()


interactions


g = igraph.Graph(edges=interactions)
layout = g.layout("kk")



g.vs["label"] = ourtfs


igraph.plot(g, layout=layout)



