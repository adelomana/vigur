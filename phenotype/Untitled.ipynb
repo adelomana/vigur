{
 "cells": [
  {
   "cell_type": "code",
   "execution_count": null,
   "id": "63b8c4f6-1acc-4caa-8f2e-7fd180281883",
   "metadata": {},
   "outputs": [],
   "source": [
    "exp_069 = [\n",
    "    [30, 24, 19, 11],\n",
    "[24, 20, 18, 8]\n",
    "[33, 33, 15, 5\n",
    " 35, 22, 13, 9\n",
    "36,27, 19, 7\n",
    "36, 37, 21, 3\n",
    "26, 27, 12, 5\n",
    "43, 34, 20, 5\n",
    "]"
   ]
  }
 ],
 "metadata": {
  "kernelspec": {
   "display_name": "Python 3 (ipykernel)",
   "language": "python",
   "name": "python3"
  },
  "language_info": {
   "codemirror_mode": {
    "name": "ipython",
    "version": 3
   },
   "file_extension": ".py",
   "mimetype": "text/x-python",
   "name": "python",
   "nbconvert_exporter": "python",
   "pygments_lexer": "ipython3",
   "version": "3.11.9"
  }
 },
 "nbformat": 4,
 "nbformat_minor": 5
}
