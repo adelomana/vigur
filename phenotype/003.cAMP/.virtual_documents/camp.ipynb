import pandas, numpy


import scipy, scipy.stats


import matplotlib, matplotlib.pyplot
matplotlib.rcParams.update({'font.size':20, 
                            'font.family':'sans-serif', 
                            'xtick.labelsize':16, 
                            'ytick.labelsize':16, 
                            'figure.figsize':(16*(2/3), 9*(2/3)), 
                            'axes.labelsize':20
                           })


input_file = 'cAMP HLMVEC.xlsx'


df = pandas.read_excel(input_file)
sub = df.iloc[4:12, 14:23]
sub


a = numpy.nanmedian(sub.iloc[:, 0])
b = numpy.nanmedian(sub.iloc[:, 3])
c = numpy.nanmedian(sub.iloc[:, 6])
control = [a, b, c]

a = numpy.nanmedian(sub.iloc[:, 0+1])
b = numpy.nanmedian(sub.iloc[:, 3+1])
c = numpy.nanmedian(sub.iloc[:, 6+1])
half = [a, b, c]

a = numpy.nanmedian(sub.iloc[:, 0+2])
b = numpy.nanmedian(sub.iloc[:, 3+2])
c = numpy.nanmedian(sub.iloc[:, 6+2])
five = [a, b, c]

print(control)
print(half)
print(five)


colors = ['black', 'tab:orange', 'tab:red']
measurements = [control, half, five]

bplot = matplotlib.pyplot.boxplot(measurements,
                                  showfliers=False,
                                  patch_artist=True, 
                                  medianprops={'color':'black', 'linewidth':2},
                                  boxprops={'linewidth':4}, 
                                  whiskerprops={'linewidth':2},
                                  capprops={'linewidth':2})

for patch, color in zip(bplot['boxes'], colors):
    patch.set_facecolor('white')
    patch.set_edgecolor(color)

for patch, color in zip(bplot['medians'], colors):
    patch.set_color(color)

for i in range(len(bplot['whiskers'])):    
    index = int(numpy.floor(i/2))
    color = colors[index]
    bplot['whiskers'][i].set_color(color)
    bplot['caps'][i].set_color(color)

matplotlib.pyplot.ylim(30000, 95000)
matplotlib.pyplot.grid(ls=':', alpha=0.5, axis='y')
matplotlib.pyplot.tight_layout()

#matplotlib.pyplot.show()
matplotlib.pyplot.savefig('camp.svg')


a = measurements[0]
b = measurements[1]
c = measurements[2]

print('\t', a, b)
result = scipy.stats.ttest_ind(b, a)
print('\t\t orange', result)
print('\t', a, c)
result = scipy.stats.ttest_ind(c, a)
print('\t\t red', result)
print()
