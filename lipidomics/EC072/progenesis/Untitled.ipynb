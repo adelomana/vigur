{
 "cells": [
  {
   "cell_type": "code",
   "execution_count": null,
   "id": "d2d2d9b7-eb36-4991-b613-ac369419125d",
   "metadata": {},
   "outputs": [],
   "source": [
    "## read annotation"
   ]
  },
  {
   "cell_type": "code",
   "execution_count": null,
   "id": "f001b526-1073-49b6-8873-41acc5bd9bbf",
   "metadata": {},
   "outputs": [],
   "source": [
    "annotation = pandas.read_csv(annotation_file, index_col=0, skiprows=1)\n",
    "annotation.head()"
   ]
  }
 ],
 "metadata": {
  "kernelspec": {
   "display_name": "Python 3 (ipykernel)",
   "language": "python",
   "name": "python3"
  },
  "language_info": {
   "codemirror_mode": {
    "name": "ipython",
    "version": 3
   },
   "file_extension": ".py",
   "mimetype": "text/x-python",
   "name": "python",
   "nbconvert_exporter": "python",
   "pygments_lexer": "ipython3",
   "version": "3.9.15"
  }
 },
 "nbformat": 4,
 "nbformat_minor": 5
}
