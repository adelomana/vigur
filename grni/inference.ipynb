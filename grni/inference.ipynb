{
 "cells": [
  {
   "cell_type": "code",
   "execution_count": 1,
   "id": "danish-backing",
   "metadata": {},
   "outputs": [],
   "source": [
    "# import expression data\n",
    "# generate regulon matrix\n",
    "# generate TF-TF ineraction network"
   ]
  },
  {
   "cell_type": "code",
   "execution_count": 2,
   "id": "large-theme",
   "metadata": {},
   "outputs": [],
   "source": [
    "# read data. This is log2 (TPM+1)\n",
    "import pandas\n",
    "import scipy, scipy.stats\n",
    "import seaborn"
   ]
  },
  {
   "cell_type": "markdown",
   "id": "designed-boutique",
   "metadata": {},
   "source": [
    "# 0. user defined variables"
   ]
  },
  {
   "cell_type": "code",
   "execution_count": 3,
   "id": "focused-diagram",
   "metadata": {},
   "outputs": [],
   "source": [
    "expression_data_file = '/home/adrian/projects/vigur/results/transcriptomics/deseq2_filtered/strict_union_log2TPMplusOne.tsv'\n",
    "cat_responders_file = '/home/adrian/projects/vigur/results/transcriptomics/dose/grni_target_genes.txt'"
   ]
  },
  {
   "cell_type": "markdown",
   "id": "norwegian-invalid",
   "metadata": {},
   "source": [
    "# 1. read data"
   ]
  },
  {
   "cell_type": "markdown",
   "id": "proprietary-champion",
   "metadata": {},
   "source": [
    "## 1.1. read expression (log2 TPM +1)"
   ]
  },
  {
   "cell_type": "code",
   "execution_count": 4,
   "id": "political-psychiatry",
   "metadata": {},
   "outputs": [
    {
     "name": "stdout",
     "output_type": "stream",
     "text": [
      "(308, 10)\n"
     ]
    },
    {
     "data": {
      "text/html": [
       "<div>\n",
       "<style scoped>\n",
       "    .dataframe tbody tr th:only-of-type {\n",
       "        vertical-align: middle;\n",
       "    }\n",
       "\n",
       "    .dataframe tbody tr th {\n",
       "        vertical-align: top;\n",
       "    }\n",
       "\n",
       "    .dataframe thead th {\n",
       "        text-align: right;\n",
       "    }\n",
       "</style>\n",
       "<table border=\"1\" class=\"dataframe\">\n",
       "  <thead>\n",
       "    <tr style=\"text-align: right;\">\n",
       "      <th></th>\n",
       "      <th>Gene name</th>\n",
       "      <th>[Cat.] = 0 uM | Time = 0 h</th>\n",
       "      <th>[Cat.] = 0 uM | Time = 4 h</th>\n",
       "      <th>[Cat.] = 0 uM | Time = 24 h</th>\n",
       "      <th>[Cat.] = 0.5 uM | Time = 4 h</th>\n",
       "      <th>[Cat.] = 0.5 uM | Time = 24 h</th>\n",
       "      <th>[Cat.] = 5 uM | Time = 4 h</th>\n",
       "      <th>[Cat.] = 5 uM | Time = 24 h</th>\n",
       "      <th>[Cat.] = 50 uM | Time = 4 h</th>\n",
       "      <th>[Cat.] = 50 uM | Time = 24 h</th>\n",
       "    </tr>\n",
       "    <tr>\n",
       "      <th>ENSEMBL</th>\n",
       "      <th></th>\n",
       "      <th></th>\n",
       "      <th></th>\n",
       "      <th></th>\n",
       "      <th></th>\n",
       "      <th></th>\n",
       "      <th></th>\n",
       "      <th></th>\n",
       "      <th></th>\n",
       "      <th></th>\n",
       "    </tr>\n",
       "  </thead>\n",
       "  <tbody>\n",
       "    <tr>\n",
       "      <th>ENSG00000267647</th>\n",
       "      <td>MAP1LC3P</td>\n",
       "      <td>0.000</td>\n",
       "      <td>2.512</td>\n",
       "      <td>0.892</td>\n",
       "      <td>1.717</td>\n",
       "      <td>0.312</td>\n",
       "      <td>3.307</td>\n",
       "      <td>0.715</td>\n",
       "      <td>2.430</td>\n",
       "      <td>0.553</td>\n",
       "    </tr>\n",
       "    <tr>\n",
       "      <th>ENSG00000268854</th>\n",
       "      <td>CTD-2545M3.2</td>\n",
       "      <td>0.000</td>\n",
       "      <td>1.895</td>\n",
       "      <td>0.000</td>\n",
       "      <td>3.078</td>\n",
       "      <td>0.000</td>\n",
       "      <td>0.000</td>\n",
       "      <td>0.000</td>\n",
       "      <td>1.263</td>\n",
       "      <td>0.000</td>\n",
       "    </tr>\n",
       "    <tr>\n",
       "      <th>ENSG00000234061</th>\n",
       "      <td>AC007969.4</td>\n",
       "      <td>0.000</td>\n",
       "      <td>2.999</td>\n",
       "      <td>2.231</td>\n",
       "      <td>0.740</td>\n",
       "      <td>1.484</td>\n",
       "      <td>2.833</td>\n",
       "      <td>1.319</td>\n",
       "      <td>1.447</td>\n",
       "      <td>1.454</td>\n",
       "    </tr>\n",
       "    <tr>\n",
       "      <th>ENSG00000223764</th>\n",
       "      <td>RP11-54O7.3</td>\n",
       "      <td>0.079</td>\n",
       "      <td>2.650</td>\n",
       "      <td>0.169</td>\n",
       "      <td>2.234</td>\n",
       "      <td>0.165</td>\n",
       "      <td>2.212</td>\n",
       "      <td>0.186</td>\n",
       "      <td>2.151</td>\n",
       "      <td>0.177</td>\n",
       "    </tr>\n",
       "    <tr>\n",
       "      <th>ENSG00000274995</th>\n",
       "      <td>RP11-321F6.2</td>\n",
       "      <td>0.107</td>\n",
       "      <td>2.468</td>\n",
       "      <td>0.308</td>\n",
       "      <td>2.469</td>\n",
       "      <td>0.075</td>\n",
       "      <td>2.709</td>\n",
       "      <td>0.126</td>\n",
       "      <td>2.669</td>\n",
       "      <td>0.184</td>\n",
       "    </tr>\n",
       "  </tbody>\n",
       "</table>\n",
       "</div>"
      ],
      "text/plain": [
       "                    Gene name  [Cat.] = 0 uM | Time = 0 h  \\\n",
       "ENSEMBL                                                     \n",
       "ENSG00000267647      MAP1LC3P                       0.000   \n",
       "ENSG00000268854  CTD-2545M3.2                       0.000   \n",
       "ENSG00000234061    AC007969.4                       0.000   \n",
       "ENSG00000223764   RP11-54O7.3                       0.079   \n",
       "ENSG00000274995  RP11-321F6.2                       0.107   \n",
       "\n",
       "                 [Cat.] = 0 uM | Time = 4 h  [Cat.] = 0 uM | Time = 24 h  \\\n",
       "ENSEMBL                                                                    \n",
       "ENSG00000267647                       2.512                        0.892   \n",
       "ENSG00000268854                       1.895                        0.000   \n",
       "ENSG00000234061                       2.999                        2.231   \n",
       "ENSG00000223764                       2.650                        0.169   \n",
       "ENSG00000274995                       2.468                        0.308   \n",
       "\n",
       "                 [Cat.] = 0.5 uM | Time = 4 h  [Cat.] = 0.5 uM | Time = 24 h  \\\n",
       "ENSEMBL                                                                        \n",
       "ENSG00000267647                         1.717                          0.312   \n",
       "ENSG00000268854                         3.078                          0.000   \n",
       "ENSG00000234061                         0.740                          1.484   \n",
       "ENSG00000223764                         2.234                          0.165   \n",
       "ENSG00000274995                         2.469                          0.075   \n",
       "\n",
       "                 [Cat.] = 5 uM | Time = 4 h  [Cat.] = 5 uM | Time = 24 h  \\\n",
       "ENSEMBL                                                                    \n",
       "ENSG00000267647                       3.307                        0.715   \n",
       "ENSG00000268854                       0.000                        0.000   \n",
       "ENSG00000234061                       2.833                        1.319   \n",
       "ENSG00000223764                       2.212                        0.186   \n",
       "ENSG00000274995                       2.709                        0.126   \n",
       "\n",
       "                 [Cat.] = 50 uM | Time = 4 h  [Cat.] = 50 uM | Time = 24 h  \n",
       "ENSEMBL                                                                     \n",
       "ENSG00000267647                        2.430                         0.553  \n",
       "ENSG00000268854                        1.263                         0.000  \n",
       "ENSG00000234061                        1.447                         1.454  \n",
       "ENSG00000223764                        2.151                         0.177  \n",
       "ENSG00000274995                        2.669                         0.184  "
      ]
     },
     "execution_count": 4,
     "metadata": {},
     "output_type": "execute_result"
    }
   ],
   "source": [
    "df = pandas.read_csv(expression_data_file, sep='\\t', index_col=0)\n",
    "print(df.shape)\n",
    "df.head()"
   ]
  },
  {
   "cell_type": "markdown",
   "id": "loving-diversity",
   "metadata": {},
   "source": [
    "## 1.2. read responder genes"
   ]
  },
  {
   "cell_type": "code",
   "execution_count": 5,
   "id": "marine-right",
   "metadata": {},
   "outputs": [
    {
     "name": "stdout",
     "output_type": "stream",
     "text": [
      "['ENSG00000023171', 'ENSG00000109321', 'ENSG00000004799', 'ENSG00000172572', 'ENSG00000121966', 'ENSG00000119508', 'ENSG00000272841', 'ENSG00000153234', 'ENSG00000159167', 'ENSG00000120875', 'ENSG00000156427', 'ENSG00000116761', 'ENSG00000181634', 'ENSG00000095752', 'ENSG00000123977', 'ENSG00000174343', 'ENSG00000141404', 'ENSG00000003989', 'ENSG00000185186', 'ENSG00000255112', 'ENSG00000267165', 'ENSG00000120833', 'ENSG00000175505', 'ENSG00000095794', 'ENSG00000105825', 'ENSG00000176641', 'ENSG00000107099', 'ENSG00000273077', 'ENSG00000280191', 'ENSG00000269952', 'ENSG00000140678', 'ENSG00000281491', 'ENSG00000244358', 'ENSG00000228997', 'ENSG00000258943', 'ENSG00000117479', 'ENSG00000233148', 'ENSG00000230300', 'ENSG00000261114', 'ENSG00000211448', 'ENSG00000135346', 'ENSG00000027869', 'ENSG00000178726', 'ENSG00000140519', 'ENSG00000187479', 'ENSG00000226935', 'ENSG00000108551', 'ENSG00000154319', 'ENSG00000237649', 'ENSG00000146374', 'ENSG00000028137', 'ENSG00000127951', 'ENSG00000163687', 'ENSG00000125740', 'ENSG00000138134', 'ENSG00000144891', 'ENSG00000166971', 'ENSG00000171246', 'ENSG00000132906', 'ENSG00000095637', 'ENSG00000174460', 'ENSG00000030419', 'ENSG00000087494', 'ENSG00000013588', 'ENSG00000117461', 'ENSG00000136826', 'ENSG00000125538', 'ENSG00000158859', 'ENSG00000275993', 'ENSG00000166292', 'ENSG00000119938', 'ENSG00000154734', 'ENSG00000088826', 'ENSG00000178878', 'ENSG00000160179', 'ENSG00000163235', 'ENSG00000051108', 'ENSG00000134480', 'ENSG00000258504', 'ENSG00000198400', 'ENSG00000259423', 'ENSG00000081985', 'ENSG00000109193', 'ENSG00000168453', 'ENSG00000271218', 'ENSG00000230024', 'ENSG00000171848', 'ENSG00000163406', 'ENSG00000267279', 'ENSG00000166257', 'ENSG00000113448', 'ENSG00000138347', 'ENSG00000173597', 'ENSG00000137269', 'ENSG00000243849', 'ENSG00000164690', 'ENSG00000146469', 'ENSG00000086991', 'ENSG00000073756', 'ENSG00000103978', 'ENSG00000108932', 'ENSG00000155850', 'ENSG00000101901', 'ENSG00000119986', 'ENSG00000123395', 'ENSG00000228294', 'ENSG00000259109', 'ENSG00000153802', 'ENSG00000259276', 'ENSG00000007908', 'ENSG00000134070', 'ENSG00000019549', 'ENSG00000277734', 'ENSG00000149633', 'ENSG00000232682', 'ENSG00000248271', 'ENSG00000179772', 'ENSG00000111339', 'ENSG00000137462', 'ENSG00000119922', 'ENSG00000056558', 'ENSG00000134198', 'ENSG00000050730', 'ENSG00000130751', 'ENSG00000115008', 'ENSG00000165891', 'ENSG00000104081', 'ENSG00000139926', 'ENSG00000257767', 'ENSG00000259952', 'ENSG00000138685', 'ENSG00000132481', 'ENSG00000166592', 'ENSG00000180332', 'ENSG00000100767', 'ENSG00000117228', 'ENSG00000196872', 'ENSG00000116717', 'ENSG00000267459', 'ENSG00000272104', 'ENSG00000226964', 'ENSG00000258677', 'ENSG00000255319', 'ENSG00000156463', 'ENSG00000171435', 'ENSG00000258565', 'ENSG00000275342', 'ENSG00000095383', 'ENSG00000128342', 'ENSG00000198838', 'ENSG00000170390', 'ENSG00000260570', 'ENSG00000108691', 'ENSG00000115267'] 154\n"
     ]
    }
   ],
   "source": [
    "cat = pandas.read_csv(cat_responders_file, sep='\\n', header=None)\n",
    "responders = cat[0].to_list()\n",
    "print(responders, len(responders))"
   ]
  },
  {
   "cell_type": "markdown",
   "id": "downtown-blend",
   "metadata": {},
   "source": [
    "# 2. analysis"
   ]
  },
  {
   "cell_type": "markdown",
   "id": "digital-shopper",
   "metadata": {},
   "source": [
    "## 2.1. intersect expression with responders"
   ]
  },
  {
   "cell_type": "code",
   "execution_count": 6,
   "id": "backed-faculty",
   "metadata": {},
   "outputs": [
    {
     "name": "stdout",
     "output_type": "stream",
     "text": [
      "(154, 10)\n"
     ]
    },
    {
     "data": {
      "text/html": [
       "<div>\n",
       "<style scoped>\n",
       "    .dataframe tbody tr th:only-of-type {\n",
       "        vertical-align: middle;\n",
       "    }\n",
       "\n",
       "    .dataframe tbody tr th {\n",
       "        vertical-align: top;\n",
       "    }\n",
       "\n",
       "    .dataframe thead th {\n",
       "        text-align: right;\n",
       "    }\n",
       "</style>\n",
       "<table border=\"1\" class=\"dataframe\">\n",
       "  <thead>\n",
       "    <tr style=\"text-align: right;\">\n",
       "      <th></th>\n",
       "      <th>Gene name</th>\n",
       "      <th>[Cat.] = 0 uM | Time = 0 h</th>\n",
       "      <th>[Cat.] = 0 uM | Time = 4 h</th>\n",
       "      <th>[Cat.] = 0 uM | Time = 24 h</th>\n",
       "      <th>[Cat.] = 0.5 uM | Time = 4 h</th>\n",
       "      <th>[Cat.] = 0.5 uM | Time = 24 h</th>\n",
       "      <th>[Cat.] = 5 uM | Time = 4 h</th>\n",
       "      <th>[Cat.] = 5 uM | Time = 24 h</th>\n",
       "      <th>[Cat.] = 50 uM | Time = 4 h</th>\n",
       "      <th>[Cat.] = 50 uM | Time = 24 h</th>\n",
       "    </tr>\n",
       "    <tr>\n",
       "      <th>ENSEMBL</th>\n",
       "      <th></th>\n",
       "      <th></th>\n",
       "      <th></th>\n",
       "      <th></th>\n",
       "      <th></th>\n",
       "      <th></th>\n",
       "      <th></th>\n",
       "      <th></th>\n",
       "      <th></th>\n",
       "      <th></th>\n",
       "    </tr>\n",
       "  </thead>\n",
       "  <tbody>\n",
       "    <tr>\n",
       "      <th>ENSG00000023171</th>\n",
       "      <td>GRAMD1B</td>\n",
       "      <td>1.223</td>\n",
       "      <td>1.379</td>\n",
       "      <td>1.017</td>\n",
       "      <td>6.552</td>\n",
       "      <td>2.549</td>\n",
       "      <td>6.764</td>\n",
       "      <td>2.519</td>\n",
       "      <td>6.588</td>\n",
       "      <td>2.789</td>\n",
       "    </tr>\n",
       "    <tr>\n",
       "      <th>ENSG00000109321</th>\n",
       "      <td>AREG</td>\n",
       "      <td>1.339</td>\n",
       "      <td>1.311</td>\n",
       "      <td>1.755</td>\n",
       "      <td>6.596</td>\n",
       "      <td>2.465</td>\n",
       "      <td>6.442</td>\n",
       "      <td>2.649</td>\n",
       "      <td>6.521</td>\n",
       "      <td>2.301</td>\n",
       "    </tr>\n",
       "    <tr>\n",
       "      <th>ENSG00000004799</th>\n",
       "      <td>PDK4</td>\n",
       "      <td>2.201</td>\n",
       "      <td>1.290</td>\n",
       "      <td>2.104</td>\n",
       "      <td>5.291</td>\n",
       "      <td>2.816</td>\n",
       "      <td>5.752</td>\n",
       "      <td>3.387</td>\n",
       "      <td>5.403</td>\n",
       "      <td>2.915</td>\n",
       "    </tr>\n",
       "    <tr>\n",
       "      <th>ENSG00000172572</th>\n",
       "      <td>PDE3A</td>\n",
       "      <td>0.397</td>\n",
       "      <td>0.466</td>\n",
       "      <td>0.425</td>\n",
       "      <td>2.695</td>\n",
       "      <td>0.925</td>\n",
       "      <td>3.149</td>\n",
       "      <td>1.191</td>\n",
       "      <td>2.848</td>\n",
       "      <td>0.971</td>\n",
       "    </tr>\n",
       "    <tr>\n",
       "      <th>ENSG00000121966</th>\n",
       "      <td>CXCR4</td>\n",
       "      <td>5.930</td>\n",
       "      <td>2.162</td>\n",
       "      <td>4.924</td>\n",
       "      <td>5.396</td>\n",
       "      <td>5.691</td>\n",
       "      <td>5.558</td>\n",
       "      <td>5.665</td>\n",
       "      <td>6.120</td>\n",
       "      <td>6.146</td>\n",
       "    </tr>\n",
       "  </tbody>\n",
       "</table>\n",
       "</div>"
      ],
      "text/plain": [
       "                Gene name  [Cat.] = 0 uM | Time = 0 h  \\\n",
       "ENSEMBL                                                 \n",
       "ENSG00000023171   GRAMD1B                       1.223   \n",
       "ENSG00000109321      AREG                       1.339   \n",
       "ENSG00000004799      PDK4                       2.201   \n",
       "ENSG00000172572     PDE3A                       0.397   \n",
       "ENSG00000121966     CXCR4                       5.930   \n",
       "\n",
       "                 [Cat.] = 0 uM | Time = 4 h  [Cat.] = 0 uM | Time = 24 h  \\\n",
       "ENSEMBL                                                                    \n",
       "ENSG00000023171                       1.379                        1.017   \n",
       "ENSG00000109321                       1.311                        1.755   \n",
       "ENSG00000004799                       1.290                        2.104   \n",
       "ENSG00000172572                       0.466                        0.425   \n",
       "ENSG00000121966                       2.162                        4.924   \n",
       "\n",
       "                 [Cat.] = 0.5 uM | Time = 4 h  [Cat.] = 0.5 uM | Time = 24 h  \\\n",
       "ENSEMBL                                                                        \n",
       "ENSG00000023171                         6.552                          2.549   \n",
       "ENSG00000109321                         6.596                          2.465   \n",
       "ENSG00000004799                         5.291                          2.816   \n",
       "ENSG00000172572                         2.695                          0.925   \n",
       "ENSG00000121966                         5.396                          5.691   \n",
       "\n",
       "                 [Cat.] = 5 uM | Time = 4 h  [Cat.] = 5 uM | Time = 24 h  \\\n",
       "ENSEMBL                                                                    \n",
       "ENSG00000023171                       6.764                        2.519   \n",
       "ENSG00000109321                       6.442                        2.649   \n",
       "ENSG00000004799                       5.752                        3.387   \n",
       "ENSG00000172572                       3.149                        1.191   \n",
       "ENSG00000121966                       5.558                        5.665   \n",
       "\n",
       "                 [Cat.] = 50 uM | Time = 4 h  [Cat.] = 50 uM | Time = 24 h  \n",
       "ENSEMBL                                                                     \n",
       "ENSG00000023171                        6.588                         2.789  \n",
       "ENSG00000109321                        6.521                         2.301  \n",
       "ENSG00000004799                        5.403                         2.915  \n",
       "ENSG00000172572                        2.848                         0.971  \n",
       "ENSG00000121966                        6.120                         6.146  "
      ]
     },
     "execution_count": 6,
     "metadata": {},
     "output_type": "execute_result"
    }
   ],
   "source": [
    "res = df.loc[responders]\n",
    "print(res.shape)\n",
    "res.head()"
   ]
  },
  {
   "cell_type": "markdown",
   "id": "impressed-publisher",
   "metadata": {},
   "source": [
    "## 2.2. reindex"
   ]
  },
  {
   "cell_type": "code",
   "execution_count": 7,
   "id": "virtual-recycling",
   "metadata": {},
   "outputs": [],
   "source": [
    "res.set_index('Gene name', inplace=True)"
   ]
  },
  {
   "cell_type": "code",
   "execution_count": 8,
   "id": "adaptive-julian",
   "metadata": {},
   "outputs": [
    {
     "data": {
      "text/plain": [
       "Index(['[Cat.] = 0 uM | Time = 0 h', '[Cat.] = 0 uM | Time = 4 h',\n",
       "       '[Cat.] = 0 uM | Time = 24 h', '[Cat.] = 0.5 uM | Time = 4 h',\n",
       "       '[Cat.] = 0.5 uM | Time = 24 h', '[Cat.] = 5 uM | Time = 4 h',\n",
       "       '[Cat.] = 5 uM | Time = 24 h', '[Cat.] = 50 uM | Time = 4 h',\n",
       "       '[Cat.] = 50 uM | Time = 24 h'],\n",
       "      dtype='object')"
      ]
     },
     "execution_count": 8,
     "metadata": {},
     "output_type": "execute_result"
    }
   ],
   "source": [
    "res.columns"
   ]
  },
  {
   "cell_type": "code",
   "execution_count": 9,
   "id": "recovered-hudson",
   "metadata": {},
   "outputs": [],
   "source": [
    "res.drop(['[Cat.] = 0 uM | Time = 0 h', '[Cat.] = 0 uM | Time = 24 h', '[Cat.] = 0.5 uM | Time = 24 h', '[Cat.] = 5 uM | Time = 24 h', '[Cat.] = 50 uM | Time = 24 h'], axis=1, inplace=True)"
   ]
  },
  {
   "cell_type": "code",
   "execution_count": 10,
   "id": "starting-journalism",
   "metadata": {},
   "outputs": [
    {
     "data": {
      "text/html": [
       "<div>\n",
       "<style scoped>\n",
       "    .dataframe tbody tr th:only-of-type {\n",
       "        vertical-align: middle;\n",
       "    }\n",
       "\n",
       "    .dataframe tbody tr th {\n",
       "        vertical-align: top;\n",
       "    }\n",
       "\n",
       "    .dataframe thead th {\n",
       "        text-align: right;\n",
       "    }\n",
       "</style>\n",
       "<table border=\"1\" class=\"dataframe\">\n",
       "  <thead>\n",
       "    <tr style=\"text-align: right;\">\n",
       "      <th></th>\n",
       "      <th>[Cat.] = 0 uM | Time = 4 h</th>\n",
       "      <th>[Cat.] = 0.5 uM | Time = 4 h</th>\n",
       "      <th>[Cat.] = 5 uM | Time = 4 h</th>\n",
       "      <th>[Cat.] = 50 uM | Time = 4 h</th>\n",
       "    </tr>\n",
       "    <tr>\n",
       "      <th>Gene name</th>\n",
       "      <th></th>\n",
       "      <th></th>\n",
       "      <th></th>\n",
       "      <th></th>\n",
       "    </tr>\n",
       "  </thead>\n",
       "  <tbody>\n",
       "    <tr>\n",
       "      <th>GRAMD1B</th>\n",
       "      <td>-1.499069</td>\n",
       "      <td>0.468251</td>\n",
       "      <td>0.548876</td>\n",
       "      <td>0.481942</td>\n",
       "    </tr>\n",
       "    <tr>\n",
       "      <th>AREG</th>\n",
       "      <td>-1.499563</td>\n",
       "      <td>0.529156</td>\n",
       "      <td>0.470041</td>\n",
       "      <td>0.500366</td>\n",
       "    </tr>\n",
       "    <tr>\n",
       "      <th>PDK4</th>\n",
       "      <td>-1.493463</td>\n",
       "      <td>0.407092</td>\n",
       "      <td>0.626077</td>\n",
       "      <td>0.460295</td>\n",
       "    </tr>\n",
       "    <tr>\n",
       "      <th>PDE3A</th>\n",
       "      <td>-1.482268</td>\n",
       "      <td>0.329619</td>\n",
       "      <td>0.698662</td>\n",
       "      <td>0.453988</td>\n",
       "    </tr>\n",
       "    <tr>\n",
       "      <th>CXCR4</th>\n",
       "      <td>-1.477342</td>\n",
       "      <td>0.327616</td>\n",
       "      <td>0.418031</td>\n",
       "      <td>0.731695</td>\n",
       "    </tr>\n",
       "  </tbody>\n",
       "</table>\n",
       "</div>"
      ],
      "text/plain": [
       "           [Cat.] = 0 uM | Time = 4 h  [Cat.] = 0.5 uM | Time = 4 h  \\\n",
       "Gene name                                                             \n",
       "GRAMD1B                     -1.499069                      0.468251   \n",
       "AREG                        -1.499563                      0.529156   \n",
       "PDK4                        -1.493463                      0.407092   \n",
       "PDE3A                       -1.482268                      0.329619   \n",
       "CXCR4                       -1.477342                      0.327616   \n",
       "\n",
       "           [Cat.] = 5 uM | Time = 4 h  [Cat.] = 50 uM | Time = 4 h  \n",
       "Gene name                                                           \n",
       "GRAMD1B                      0.548876                     0.481942  \n",
       "AREG                         0.470041                     0.500366  \n",
       "PDK4                         0.626077                     0.460295  \n",
       "PDE3A                        0.698662                     0.453988  \n",
       "CXCR4                        0.418031                     0.731695  "
      ]
     },
     "execution_count": 10,
     "metadata": {},
     "output_type": "execute_result"
    }
   ],
   "source": [
    "mu = res.mean(axis=1)\n",
    "s = res.std(axis=1)\n",
    "zscore = res.sub(mu, axis=0).div(s, axis=0)\n",
    "zscore.head()"
   ]
  },
  {
   "cell_type": "code",
   "execution_count": 11,
   "id": "fleet-hopkins",
   "metadata": {},
   "outputs": [
    {
     "data": {
      "image/png": "[encoded data removed]",
      "text/plain": [
       "<Figure size 720x720 with 4 Axes>"
      ]
     },
     "metadata": {
      "needs_background": "light"
     },
     "output_type": "display_data"
    }
   ],
   "source": [
    "g = seaborn.clustermap(zscore, cmap='bwr', method='ward', metric='euclidean', yticklabels=4, cbar_kws={'label':'z-score'})"
   ]
  },
  {
   "cell_type": "code",
   "execution_count": 14,
   "id": "equivalent-threshold",
   "metadata": {},
   "outputs": [
    {
     "name": "stdout",
     "output_type": "stream",
     "text": [
      "['GRAMD1B', 'AREG', 'PDK4', 'PDE3A', 'CXCR4', 'NR4A3', 'RP3-428L16.2', 'NR4A2', 'STC1', 'DUSP4', 'FGF18', 'CTH', 'TNFSF15', 'IL11', 'DAW1', 'CHRNA9', 'GNAL', 'SLC7A2', 'LINC00313', 'CHMP1B', 'RP11-78A19.3', 'SOCS2', 'CLCF1', 'CREM', 'TFPI2', 'RNF152', 'DOCK8', 'RP11-130C6.1', 'CH507-42P11.5', 'RP11-324I22.3', 'ITGAX', 'DNAJB5-AS1', 'RP11-88H10.2', 'RP1-186E20.1', 'RP11-696D21.2', 'SLC19A2', 'SYF2P2', 'STARD13-IT1', 'RP11-325K4.2', 'DIO2', 'CGA', 'SH2D2A', 'THBD', 'RHCG', 'C11orf96', 'LINC00161', 'RASD1', 'FAM167A', 'KIFC1', 'RSPO3', 'TNFRSF1B', 'FGL2', 'DNASE1L3', 'FOSB', 'STAMBPL1', 'AGTR1', 'AKTIP', 'NPTX1', 'CASP9', 'SORBS1', 'ZCCHC12', 'IKZF2', 'PTHLH', 'GPRC5A', 'PIK3R3', 'KLF4', 'IL1B', 'ADAMTS4', 'CH507-42P11.8', 'TMEM100', 'PPP1R3C', 'ADAMTS1', 'SMOX', 'APOLD1', 'ABCG1', 'TGFA', 'HERPUD1', 'CCNH', 'RP11-638I2.6', 'NTRK1', 'RP11-265N7.2', 'IL12RB2', 'SULT1E1', 'HR', 'RP3-523E19.2', 'RP11-95P13.1', 'RRM2', 'SLC15A2', 'RP11-879F14.2', 'SCN3B', 'PDE4D', 'MYPN', 'SULT1B1', 'LRRC1', 'CFAP44-AS1', 'SHH', 'VIP', 'NOX4', 'PTGS2', 'TMEM87A', 'SLC16A6', 'SLC26A2', 'ALG13', 'AVPI1', 'ATG101', 'BMS1P17', 'RP4-687K1.2', 'TMPRSS11D', 'RP11-815J21.3', 'SELE', 'IRAK2', 'SNAI2', 'TRAC', 'KIAA1755', 'RP11-388P9.2', 'PGAM1P1', 'FOXS1', 'ART4', 'TLR2', 'IFIT2', 'TRAF1', 'TSPAN2', 'TNIP3', 'NPAS1', 'IL1A', 'E2F7', 'BMF', 'FRMD6', 'RP11-162P23.2', 'AC009133.15', 'FGF2', 'TRIM47', 'RRAD', 'KCTD4', 'PAPLN', 'GBP1', 'KIAA1211L', 'GADD45A', 'AC006116.27', 'XXcos-LUCA11.5', 'RHEBP2', 'RP11-463D19.2', 'ENPP7P8', 'SH3RF2', 'KSR2', 'BLZF2P', 'SGK223', 'TBC1D2', 'LIF', 'RYR3', 'DCLK2', 'RP11-24N18.1', 'CCL2', 'IFIH1']\n"
     ]
    }
   ],
   "source": [
    "# zscore to riia\n",
    "print(zscore.index.to_list())"
   ]
  },
  {
   "cell_type": "code",
   "execution_count": null,
   "id": "boxed-sherman",
   "metadata": {},
   "outputs": [],
   "source": []
  }
 ],
 "metadata": {
  "kernelspec": {
   "display_name": "Python 3",
   "language": "python",
   "name": "python3"
  },
  "language_info": {
   "codemirror_mode": {
    "name": "ipython",
    "version": 3
   },
   "file_extension": ".py",
   "mimetype": "text/x-python",
   "name": "python",
   "nbconvert_exporter": "python",
   "pygments_lexer": "ipython3",
   "version": "3.7.10"
  }
 },
 "nbformat": 4,
 "nbformat_minor": 5
}
