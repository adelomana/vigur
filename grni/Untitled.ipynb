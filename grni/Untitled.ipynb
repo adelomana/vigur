{
 "cells": [
  {
   "cell_type": "code",
   "execution_count": null,
   "id": "naked-greene",
   "metadata": {},
   "outputs": [],
   "source": [
    "# import expression data\n",
    "# generate regulon matrix\n",
    "# generate TF-TF ineraction network"
   ]
  },
  {
   "cell_type": "code",
   "execution_count": null,
   "id": "anticipated-yemen",
   "metadata": {},
   "outputs": [],
   "source": []
  }
 ],
 "metadata": {
  "kernelspec": {
   "display_name": "Python 3",
   "language": "python",
   "name": "python3"
  },
  "language_info": {
   "codemirror_mode": {
    "name": "ipython",
    "version": 3
   },
   "file_extension": ".py",
   "mimetype": "text/x-python",
   "name": "python",
   "nbconvert_exporter": "python",
   "pygments_lexer": "ipython3",
   "version": "3.7.9"
  }
 },
 "nbformat": 4,
 "nbformat_minor": 5
}
