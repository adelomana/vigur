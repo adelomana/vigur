{
  "nbformat": 4,
  "nbformat_minor": 0,
  "metadata": {
    "colab": {
      "name": "filters_analysis.ipynb",
      "provenance": [],
      "authorship_tag": "ABX9TyNxrKahXbO4hjGQMDxz+5jE",
      "include_colab_link": true
    },
    "kernelspec": {
      "name": "python3",
      "display_name": "Python 3"
    }
  },
  "cells": [
    {
      "cell_type": "markdown",
      "metadata": {
        "id": "view-in-github",
        "colab_type": "text"
      },
      "source": [
        "<a href=\"https://colab.research.google.com/github/adelomana/vigur/blob/master/filters_analysis.ipynb\" target=\"_parent\"><img src=\"https://colab.research.google.com/assets/colab-badge.svg\" alt=\"Open In Colab\"/></a>"
      ]
    },
    {
      "cell_type": "code",
      "metadata": {
        "id": "xVaGWpdLKk9J",
        "colab": {
          "base_uri": "https://localhost:8080/"
        },
        "outputId": "4bf92c1b-6741-42a7-c6ae-b26d66fa1111"
      },
      "source": [
        "import numpy\n",
        "print('hello')"
      ],
      "execution_count": null,
      "outputs": [
        {
          "output_type": "stream",
          "text": [
            "hello\n"
          ],
          "name": "stdout"
        }
      ]
    }
  ]
}