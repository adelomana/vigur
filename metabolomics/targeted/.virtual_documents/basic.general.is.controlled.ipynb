import pandas, numpy, qnorm, scipy


import sklearn, sklearn.preprocessing, sklearn.decomposition


import matplotlib, matplotlib.pyplot
matplotlib.rcParams.update({'font.size':20, 
                            'xtick.labelsize':20, 
                            'ytick.labelsize':20, 
                            'axes.labelsize':20, 
                            'figure.figsize':(12 * 0.6, 9 * 0.6)})


input_dir = '/Users/adrian/research/vigur/data/metabolomics/targeted/'

basic_input_file = 'EC008_ROSA_PMVEC_INTRA_BASIC.xlsx'
positive_input_file = 'EC008_ROSA_PMVEC_INTRA_POS.xlsx'
negative_input_file = 'EC008_ROSA_PMVEC_INTRA_NEG.xlsx'





metadata = pandas.read_excel(input_dir+positive_input_file, sheet_name=0, index_col=1)

new_labels = [element.split('_')[0] for element in metadata.index.values]
rosetta = dict(zip(metadata.index.values, new_labels))
metadata.rename(index=rosetta, inplace=True)
metadata.head()





input_file = basic_input_file
    
path = input_dir + input_file
df = pandas.read_excel(path, sheet_name=1, index_col=0)

only_008 = [element for element in df.index if '008' in element]
subset = df.loc[only_008, :]

log2intensity = numpy.log2(subset+1)


new_labels = [element.split('_')[0] for element in log2intensity.index.values]
print(new_labels)
rosetta = dict(zip(log2intensity.index.values, new_labels))
log2intensity.rename(index=rosetta, inplace=True)
log2intensity.head()





internal_standards = [element for element in log2intensity.columns if 'IS' in element]
print(internal_standards)


matplotlib.colors.TABLEAU_COLORS.keys()


trend = log2intensity[internal_standards].mean(axis=1)
average = numpy.mean(trend)

tabcolors = list(matplotlib.colors.TABLEAU_COLORS.keys())

for i in range(len(internal_standards)):
    internal_standard = internal_standards[i]
    plotting_color = tabcolors[i]
    matplotlib.pyplot.plot(log2intensity[internal_standard], '-', color=plotting_color, ms=12, alpha=2/3, label=internal_standard)

matplotlib.pyplot.legend(bbox_to_anchor=(1.05, 1), loc='upper left')
matplotlib.pyplot.title('Observed injections')
matplotlib.pyplot.ylabel('log$_2$ (Intensity+1)')
matplotlib.pyplot.xticks(rotation=90, fontsize=10)
matplotlib.pyplot.grid(alpha=0.5, ls=':')
matplotlib.pyplot.show()


trend = log2intensity[internal_standards].mean(axis=1)
average = numpy.mean(trend)
for internal_standard in internal_standards:

    matplotlib.pyplot.plot(log2intensity[internal_standard], '-', color='black', ms=12, alpha=1/5)

matplotlib.pyplot.plot(log2intensity[internal_standards].mean(axis=1), '-', color='tab:red', lw=3)
matplotlib.pyplot.axhline(average, ls='--', color='tab:blue')

matplotlib.pyplot.title('Learning technical deviations')
matplotlib.pyplot.ylabel('log$_2$ (Intensity+1)')
matplotlib.pyplot.xticks(rotation=90, fontsize=10)
matplotlib.pyplot.grid(alpha=0.5, ls=':')
matplotlib.pyplot.show

correction = -(trend - average)


for internal_standard in internal_standards:
    injection = log2intensity[internal_standard]
    corrected = injection + correction
    matplotlib.pyplot.plot(corrected, '-', color='black', ms=12, alpha=1/5)

matplotlib.pyplot.title('Corrected injections')
matplotlib.pyplot.ylabel('log$_2$ (Intensity+1)')
matplotlib.pyplot.xticks(rotation=90, fontsize=10)
matplotlib.pyplot.grid(alpha=0.5, ls=':')
matplotlib.pyplot.show()





log2intensity.head()


correction.head()


log2intensity_corrected = log2intensity.add(correction, axis=0)
log2intensity_corrected.head()





scaled_data = sklearn.preprocessing.StandardScaler().fit_transform(log2intensity_corrected)
model = sklearn.decomposition.PCA(n_components=2)
locations = model.fit_transform(scaled_data)
explained = model.explained_variance_ratio_

for j in range(len(locations)):
    label = log2intensity_corrected.index[j]

    # treatment
    treatment = metadata.loc[label, 'µM catech']
    if treatment == 0:
        the_color = 'black'
    elif treatment == 5:
        the_color = 'tab:red'
    else:
        print(treatment)
        raise ValueError('unknown treatment')
    # timepoint
    timepoint = metadata.loc[label, 'Timepoint']
    if timepoint == 0:
        the_marker = 'X'
    elif timepoint == 4:
        the_marker = 'o'
    elif timepoint == 24:
        the_marker = 's'
    else:
        raise ValueError('unknown timepoint')
    # replicate
    replicate = metadata.loc[label, 'BioReplicate']
    # plot
    matplotlib.pyplot.scatter(locations[j, 0], locations[j, 1], 
                              s=500, c=the_color, alpha=2/3, edgecolors='none', marker=the_marker)
    matplotlib.pyplot.text(locations[j, 0], locations[j, 1], replicate, 
                           fontsize=8, color='white', ha='center', va='center', weight='bold')

matplotlib.pyplot.xlabel('PC1 (exp. var.: {}%)'.format(int(explained[0]*100)))
matplotlib.pyplot.ylabel('PC2 (exp. var.: {}%)'.format(int(explained[1]*100)))
matplotlib.pyplot.grid(alpha=0.5, ls=':')





print(log2intensity_corrected.shape)
log2intensity_corrected.head()


for metabolite in log2intensity_corrected.columns:
    print(metabolite)
    for bio_rep in [1, 2, 3]:
        for time_point in [4, 24]:
        
            rules = (metadata['BioReplicate'] == bio_rep) & (metadata['Timepoint'] == time_point) & (metadata['µM catech'] == 0) 
            sampleIDs = list(metadata[rules].index.values)
            reference_values = log2intensity_corrected.loc[sampleIDs, metabolite].values
    
            rules = (metadata['BioReplicate'] == bio_rep) & (metadata['Timepoint'] == time_point) & (metadata['µM catech'] == 5) 
            sampleIDs = list(metadata[rules].index.values)
            drug_values = log2intensity_corrected.loc[sampleIDs, metabolite].values

            a = numpy.mean(drug_values)
            b = numpy.mean(reference_values)
            log2FC = a - b
            averageI = numpy.mean([a, b])
            [statistic, pvalue] = scipy.stats.ttest_ind(drug_values, reference_values)
            
            if (pvalue < 0.05) & (numpy.abs(log2FC) > numpy.log2(1.5)):
                message = '\t {} Exp. {} T={} \t\t log2FC={:.2f} P={:.2e} \t\t I={:.2f}'.format(metabolite, bio_rep, time_point, log2FC, pvalue, averageI)
                print(message)
            else:
                pass
                #message = '\t {} Exp. {} T={} \t\t log2FC={:.2f} P={:.2e} \t\t I={:.2f}'.format(metabolite, bio_rep, time_point, log2FC, pvalue, averageI)
            #print(message)



