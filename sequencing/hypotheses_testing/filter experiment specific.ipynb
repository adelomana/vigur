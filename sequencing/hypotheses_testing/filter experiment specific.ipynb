{
 "cells": [
  {
   "cell_type": "code",
   "execution_count": 6,
   "id": "0bdc5783",
   "metadata": {},
   "outputs": [],
   "source": [
    "import os, pandas"
   ]
  },
  {
   "cell_type": "markdown",
   "id": "975db2e8",
   "metadata": {},
   "source": [
    "## user-defined variables"
   ]
  },
  {
   "cell_type": "code",
   "execution_count": 10,
   "id": "4d77450f",
   "metadata": {},
   "outputs": [],
   "source": [
    "results_dir = '/home/adrian/projects/vigur/results/sequencing/DEGs/'\n",
    "\n",
    "experiments = ['1', '2', '3']\n",
    "trends = ['up', 'down']"
   ]
  },
  {
   "cell_type": "markdown",
   "id": "4a0580e0",
   "metadata": {},
   "source": [
    "## read result files"
   ]
  },
  {
   "cell_type": "code",
   "execution_count": 16,
   "id": "043ec038",
   "metadata": {},
   "outputs": [
    {
     "name": "stdout",
     "output_type": "stream",
     "text": [
      "86\n",
      "we should have 42 times two equals 84 files\n",
      "we have\n",
      "84\n"
     ]
    }
   ],
   "source": [
    "found = os.listdir(results_dir)\n",
    "print(len(found))\n",
    "result_files = [element for element in found if 'run' in element]\n",
    "result_files.sort()\n",
    "\n",
    "print('we should have 42 times two equals 84 files')\n",
    "print('we have')\n",
    "print(len(result_files))"
   ]
  },
  {
   "cell_type": "markdown",
   "id": "8584760e",
   "metadata": {},
   "source": [
    "## working on run 72"
   ]
  },
  {
   "cell_type": "code",
   "execution_count": 2,
   "id": "396f3f41",
   "metadata": {},
   "outputs": [],
   "source": [
    "run = '72'\n",
    "timepoints = ['four', 'twentyfour']"
   ]
  },
  {
   "cell_type": "markdown",
   "id": "6efc1fc8",
   "metadata": {},
   "source": [
    "### working on influence time"
   ]
  },
  {
   "cell_type": "code",
   "execution_count": 3,
   "id": "1f386677",
   "metadata": {},
   "outputs": [],
   "source": [
    "influence = 'time'"
   ]
  },
  {
   "cell_type": "code",
   "execution_count": 4,
   "id": "da322554",
   "metadata": {},
   "outputs": [
    {
     "name": "stdout",
     "output_type": "stream",
     "text": [
      "four 1\n",
      "four 2\n",
      "four 3\n",
      "twentyfour 1\n",
      "twentyfour 2\n",
      "twentyfour 3\n"
     ]
    }
   ],
   "source": [
    "for timepoint in timepoints:\n",
    "    for experiment in experiments:\n",
    "        print(timepoint, experiment)\n",
    "        "
   ]
  },
  {
   "cell_type": "markdown",
   "id": "4d642aaa",
   "metadata": {},
   "source": [
    "### working on treatment influence"
   ]
  },
  {
   "cell_type": "markdown",
   "id": "78693761",
   "metadata": {},
   "source": [
    "## working on run 73"
   ]
  }
 ],
 "metadata": {
  "kernelspec": {
   "display_name": "Python 3 (ipykernel)",
   "language": "python",
   "name": "python3"
  },
  "language_info": {
   "codemirror_mode": {
    "name": "ipython",
    "version": 3
   },
   "file_extension": ".py",
   "mimetype": "text/x-python",
   "name": "python",
   "nbconvert_exporter": "python",
   "pygments_lexer": "ipython3",
   "version": "3.9.16"
  }
 },
 "nbformat": 4,
 "nbformat_minor": 5
}
