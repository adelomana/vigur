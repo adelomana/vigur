{
 "cells": [
  {
   "cell_type": "code",
   "execution_count": 1,
   "id": "0bdc5783",
   "metadata": {},
   "outputs": [],
   "source": [
    "import os, pandas"
   ]
  },
  {
   "cell_type": "markdown",
   "id": "975db2e8",
   "metadata": {},
   "source": [
    "## user-defined variables"
   ]
  },
  {
   "cell_type": "code",
   "execution_count": 2,
   "id": "195a4b8e",
   "metadata": {},
   "outputs": [],
   "source": [
    "# necio5\n",
    "results_dir = '/Users/adrian/gd15/tmp/DEGs/'"
   ]
  },
  {
   "cell_type": "code",
   "execution_count": 3,
   "id": "2ff947c1",
   "metadata": {},
   "outputs": [],
   "source": [
    "# drangajokull\n",
    "results_dir = '/home/adrian/projects/vigur/results/sequencing/DEGs/'"
   ]
  },
  {
   "cell_type": "code",
   "execution_count": 4,
   "id": "4d77450f",
   "metadata": {},
   "outputs": [],
   "source": [
    "experiments = ['1', '2', '3']\n",
    "trends = ['up', 'down']"
   ]
  },
  {
   "cell_type": "markdown",
   "id": "4a0580e0",
   "metadata": {},
   "source": [
    "## read result files"
   ]
  },
  {
   "cell_type": "code",
   "execution_count": 5,
   "id": "043ec038",
   "metadata": {},
   "outputs": [
    {
     "name": "stdout",
     "output_type": "stream",
     "text": [
      "86\n",
      "we should have 42 times two equals 84 files\n",
      "we have\n",
      "84\n"
     ]
    }
   ],
   "source": [
    "found = os.listdir(results_dir)\n",
    "print(len(found))\n",
    "result_files = [element for element in found if 'run' in element]\n",
    "result_files.sort()\n",
    "\n",
    "print('we should have 42 times two equals 84 files')\n",
    "print('we have')\n",
    "print(len(result_files))"
   ]
  },
  {
   "cell_type": "markdown",
   "id": "8584760e",
   "metadata": {},
   "source": [
    "## working on run 72"
   ]
  },
  {
   "cell_type": "code",
   "execution_count": 6,
   "id": "396f3f41",
   "metadata": {},
   "outputs": [],
   "source": [
    "run = '72'\n",
    "timepoints = ['four', 'twentyfour']"
   ]
  },
  {
   "cell_type": "markdown",
   "id": "6efc1fc8",
   "metadata": {},
   "source": [
    "### working on influence time"
   ]
  },
  {
   "cell_type": "code",
   "execution_count": 7,
   "id": "1f386677",
   "metadata": {},
   "outputs": [],
   "source": [
    "influence = 'time'"
   ]
  },
  {
   "cell_type": "code",
   "execution_count": 8,
   "id": "da322554",
   "metadata": {},
   "outputs": [
    {
     "name": "stdout",
     "output_type": "stream",
     "text": [
      "influence time\n",
      "\t time four\n",
      "\t\t experiment 1\n",
      "\t\t\t run_72_time_four_vs_zero_exp_1_up.tsv\n",
      "\t\t\t run_72_time_four_vs_zero_exp_1_down.tsv\n",
      "\t\t\t 90 29\n",
      "\t\t experiment 2\n",
      "\t\t\t run_72_time_four_vs_zero_exp_2_up.tsv\n",
      "\t\t\t run_72_time_four_vs_zero_exp_2_down.tsv\n",
      "\t\t\t 117 43\n",
      "\t\t experiment 3\n",
      "\t\t\t run_72_time_four_vs_zero_exp_3_up.tsv\n",
      "\t\t\t run_72_time_four_vs_zero_exp_3_down.tsv\n",
      "\t\t\t 233 132\n",
      "\t time twentyfour\n",
      "\t\t experiment 1\n",
      "\t\t\t run_72_time_twentyfour_vs_zero_exp_1_up.tsv\n",
      "\t\t\t run_72_time_twentyfour_vs_zero_exp_1_down.tsv\n",
      "\t\t\t 11 3\n",
      "\t\t experiment 2\n",
      "\t\t\t run_72_time_twentyfour_vs_zero_exp_2_up.tsv\n",
      "\t\t\t run_72_time_twentyfour_vs_zero_exp_2_down.tsv\n",
      "\t\t\t 2 2\n",
      "\t\t experiment 3\n",
      "\t\t\t run_72_time_twentyfour_vs_zero_exp_3_up.tsv\n",
      "\t\t\t run_72_time_twentyfour_vs_zero_exp_3_down.tsv\n",
      "\t\t\t 82 6\n"
     ]
    },
    {
     "data": {
      "text/html": [
       "<div>\n",
       "<style scoped>\n",
       "    .dataframe tbody tr th:only-of-type {\n",
       "        vertical-align: middle;\n",
       "    }\n",
       "\n",
       "    .dataframe tbody tr th {\n",
       "        vertical-align: top;\n",
       "    }\n",
       "\n",
       "    .dataframe thead th {\n",
       "        text-align: right;\n",
       "    }\n",
       "</style>\n",
       "<table border=\"1\" class=\"dataframe\">\n",
       "  <thead>\n",
       "    <tr style=\"text-align: right;\">\n",
       "      <th></th>\n",
       "      <th>baseMean</th>\n",
       "      <th>log2FoldChange</th>\n",
       "      <th>lfcSE</th>\n",
       "      <th>stat</th>\n",
       "      <th>pvalue</th>\n",
       "      <th>padj</th>\n",
       "      <th>gene_biotype</th>\n",
       "      <th>description</th>\n",
       "      <th>hgnc_symbol</th>\n",
       "    </tr>\n",
       "    <tr>\n",
       "      <th>common</th>\n",
       "      <th></th>\n",
       "      <th></th>\n",
       "      <th></th>\n",
       "      <th></th>\n",
       "      <th></th>\n",
       "      <th></th>\n",
       "      <th></th>\n",
       "      <th></th>\n",
       "      <th></th>\n",
       "    </tr>\n",
       "  </thead>\n",
       "  <tbody>\n",
       "    <tr>\n",
       "      <th>ENSG00000204439</th>\n",
       "      <td>79.920752</td>\n",
       "      <td>-23.173876</td>\n",
       "      <td>4.785424</td>\n",
       "      <td>-4.633629</td>\n",
       "      <td>3.593113e-06</td>\n",
       "      <td>0.000987</td>\n",
       "      <td>protein_coding</td>\n",
       "      <td>chromosome 6 open reading frame 47 [Source:HGN...</td>\n",
       "      <td>C6orf47</td>\n",
       "    </tr>\n",
       "    <tr>\n",
       "      <th>ENSG00000277086</th>\n",
       "      <td>44.050133</td>\n",
       "      <td>-8.895079</td>\n",
       "      <td>1.566581</td>\n",
       "      <td>-5.039687</td>\n",
       "      <td>4.662946e-07</td>\n",
       "      <td>0.000155</td>\n",
       "      <td>protein_coding</td>\n",
       "      <td>Myotubularin-related protein 10  [Source:UniPr...</td>\n",
       "      <td>NaN</td>\n",
       "    </tr>\n",
       "    <tr>\n",
       "      <th>ENSG00000272949</th>\n",
       "      <td>25.433436</td>\n",
       "      <td>-8.105755</td>\n",
       "      <td>1.647065</td>\n",
       "      <td>-4.314192</td>\n",
       "      <td>1.601874e-05</td>\n",
       "      <td>0.004275</td>\n",
       "      <td>protein_coding</td>\n",
       "      <td>novel transcript</td>\n",
       "      <td>NaN</td>\n",
       "    </tr>\n",
       "    <tr>\n",
       "      <th>ENSG00000170270</th>\n",
       "      <td>81.150505</td>\n",
       "      <td>-4.900613</td>\n",
       "      <td>0.798420</td>\n",
       "      <td>-4.885413</td>\n",
       "      <td>1.032123e-06</td>\n",
       "      <td>0.000326</td>\n",
       "      <td>protein_coding</td>\n",
       "      <td>GON7, KEOPS complex subunit [Source:HGNC Symbo...</td>\n",
       "      <td>GON7</td>\n",
       "    </tr>\n",
       "    <tr>\n",
       "      <th>ENSG00000117115</th>\n",
       "      <td>47.120575</td>\n",
       "      <td>-3.684303</td>\n",
       "      <td>0.698051</td>\n",
       "      <td>-3.845423</td>\n",
       "      <td>1.203448e-04</td>\n",
       "      <td>0.028150</td>\n",
       "      <td>protein_coding</td>\n",
       "      <td>peptidyl arginine deiminase 2 [Source:HGNC Sym...</td>\n",
       "      <td>PADI2</td>\n",
       "    </tr>\n",
       "    <tr>\n",
       "      <th>ENSG00000105499</th>\n",
       "      <td>4846.515974</td>\n",
       "      <td>-1.270969</td>\n",
       "      <td>0.075327</td>\n",
       "      <td>-3.597236</td>\n",
       "      <td>3.216161e-04</td>\n",
       "      <td>0.070857</td>\n",
       "      <td>protein_coding</td>\n",
       "      <td>phospholipase A2 group IVC [Source:HGNC Symbol...</td>\n",
       "      <td>PLA2G4C</td>\n",
       "    </tr>\n",
       "  </tbody>\n",
       "</table>\n",
       "</div>"
      ],
      "text/plain": [
       "                    baseMean  log2FoldChange     lfcSE      stat  \\\n",
       "common                                                             \n",
       "ENSG00000204439    79.920752      -23.173876  4.785424 -4.633629   \n",
       "ENSG00000277086    44.050133       -8.895079  1.566581 -5.039687   \n",
       "ENSG00000272949    25.433436       -8.105755  1.647065 -4.314192   \n",
       "ENSG00000170270    81.150505       -4.900613  0.798420 -4.885413   \n",
       "ENSG00000117115    47.120575       -3.684303  0.698051 -3.845423   \n",
       "ENSG00000105499  4846.515974       -1.270969  0.075327 -3.597236   \n",
       "\n",
       "                       pvalue      padj    gene_biotype  \\\n",
       "common                                                    \n",
       "ENSG00000204439  3.593113e-06  0.000987  protein_coding   \n",
       "ENSG00000277086  4.662946e-07  0.000155  protein_coding   \n",
       "ENSG00000272949  1.601874e-05  0.004275  protein_coding   \n",
       "ENSG00000170270  1.032123e-06  0.000326  protein_coding   \n",
       "ENSG00000117115  1.203448e-04  0.028150  protein_coding   \n",
       "ENSG00000105499  3.216161e-04  0.070857  protein_coding   \n",
       "\n",
       "                                                       description hgnc_symbol  \n",
       "common                                                                          \n",
       "ENSG00000204439  chromosome 6 open reading frame 47 [Source:HGN...     C6orf47  \n",
       "ENSG00000277086  Myotubularin-related protein 10  [Source:UniPr...         NaN  \n",
       "ENSG00000272949                                   novel transcript         NaN  \n",
       "ENSG00000170270  GON7, KEOPS complex subunit [Source:HGNC Symbo...        GON7  \n",
       "ENSG00000117115  peptidyl arginine deiminase 2 [Source:HGNC Sym...       PADI2  \n",
       "ENSG00000105499  phospholipase A2 group IVC [Source:HGNC Symbol...     PLA2G4C  "
      ]
     },
     "execution_count": 8,
     "metadata": {},
     "output_type": "execute_result"
    }
   ],
   "source": [
    "print('influence time')\n",
    "for timepoint in timepoints:\n",
    "    \n",
    "    print('\\t time', timepoint)\n",
    "    \n",
    "    # iterating over experiments\n",
    "    for experiment in experiments:\n",
    "        print('\\t\\t experiment', experiment)\n",
    "        \n",
    "        DEG_files = [sub for sub in result_files if (run+'_time' in sub) & ('_'+timepoint+'_' in sub) & ('exp_'+experiment in sub)]\n",
    "        DEG_files.sort()\n",
    "        \n",
    "        if len(DEG_files) != 2:\n",
    "            raise ValueError('found more files than expected')\n",
    "        \n",
    "        up_file = DEG_files[1]\n",
    "        path = results_dir + up_file\n",
    "        df = pandas.read_csv(path, sep='\\t', index_col=0)\n",
    "        ensembl_IDs_up = df.index.to_list()\n",
    "        \n",
    "        down_file = DEG_files[0]\n",
    "        path = results_dir + down_file\n",
    "        df = pandas.read_csv(path, sep='\\t', index_col=0)\n",
    "        ensembl_IDs_down = df.index.to_list()\n",
    "        \n",
    "        print('\\t\\t\\t', up_file)\n",
    "        print('\\t\\t\\t', down_file)\n",
    "        print('\\t\\t\\t', len(ensembl_IDs_up), len(ensembl_IDs_down))\n",
    "\n",
    "df\n"
   ]
  },
  {
   "cell_type": "markdown",
   "id": "4d642aaa",
   "metadata": {},
   "source": [
    "### working on treatment influence"
   ]
  },
  {
   "cell_type": "markdown",
   "id": "78693761",
   "metadata": {},
   "source": [
    "## working on run 73"
   ]
  }
 ],
 "metadata": {
  "kernelspec": {
   "display_name": "Python 3 (ipykernel)",
   "language": "python",
   "name": "python3"
  },
  "language_info": {
   "codemirror_mode": {
    "name": "ipython",
    "version": 3
   },
   "file_extension": ".py",
   "mimetype": "text/x-python",
   "name": "python",
   "nbconvert_exporter": "python",
   "pygments_lexer": "ipython3",
   "version": "3.9.16"
  }
 },
 "nbformat": 4,
 "nbformat_minor": 5
}
