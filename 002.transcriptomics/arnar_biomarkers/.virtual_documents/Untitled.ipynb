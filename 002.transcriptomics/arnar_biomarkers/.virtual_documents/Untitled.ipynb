import pandas, scipy, numpy, seaborn
import matplotlib, matplotlib.pyplot 


# read biomarkers
df = pandas.read_excel('Endothelialbiomarkers.xlsx')
print(df.shape)
biomarkers = list(set(df['Gene']))
print(len(biomarkers))

for element in biomarkers:
    the_list = list(df['Gene'])
    counter = the_list.count(element)
    if counter > 1:
        print(f'Element {element} is twice')





# read annotation
anno_file = '/Users/adrian/software/kallisto/human_index_standard/t2g.txt'
df = pandas.read_csv(anno_file, sep='\t', header=None)

sub = df[df[2].isin(biomarkers)]
match = list(set(sub[1]))
print(len(match))

ensembl_bm = [element.split('.')[0] for element in match]
ensembl_bm.sort()
print(ensembl_bm)


rosetta = {}
for index, row in sub.iterrows():
    gene_name = row[2]
    ensembl = row[1].split('.')[0]
    if gene_name not in rosetta.keys():
        rosetta[ensembl] = gene_name
print(len(rosetta))
print(rosetta)


# read expression profiles
inputfile = 'vigur Suppl. Info. Table SIT1 expression profiles.csv'
df = pandas.read_csv(inputfile, sep=',', skiprows=3, index_col='ENSEMBL ID')
df.drop(columns=['Gene name', 'Gene biotype'], inplace=True)
df = df.loc[ensembl_bm, :]
df = df.apply(pandas.to_numeric, errors='coerce')
print(df.shape)
df.head()


# changing to gene names
df = df.rename(index=rosetta)


# dropping TNF because is zero expressed
df.drop(labels='TNF', inplace=True)
df.shape


# collapse replicates to medians
initial_column_names = df.columns
print(initial_column_names)

df['T4zero'] = numpy.median(df[['RSS_HLMV_31','RSS_HLMV_32', 'RSS_HLMV_33']], axis=1)
df['T4half'] = numpy.median(df[['RSS_HLMV_34', 'RSS_HLMV_36']], axis=1)
df['T4five'] = numpy.median(df[['RSS_HLMV_37', 'RSS_HLMV_38', 'RSS_HLMV_39']], axis=1)
df['T4fifty'] = numpy.median(df[['RSS_HLMV_41', 'RSS_HLMV_42']], axis=1)

df['T24zero'] = numpy.median(df[['RSS_HLMV_43', 'RSS_HLMV_44', 'RSS_HLMV_45']], axis=1)
df['T24half'] = numpy.median(df[['RSS_HLMV_46', 'RSS_HLMV_47', 'RSS_HLMV_48']], axis=1)
df['T24five'] = numpy.median(df[['RSS_HLMV_49', 'RSS_HLMV_50', 'RSS_HLMV_51']], axis=1)
df['T24fifty'] = numpy.median(df[['RSS_HLMV_52', 'RSS_HLMV_53', 'RSS_HLMV_54']], axis=1)

df.drop(columns=initial_column_names, inplace=True)

print(df.shape)
df.head()


# exclude gene whose max difference is below 5 TPMs
excluding = []
for index, row in df.iterrows():
    floor = row.min()
    ceiling = row.max()
    difference = ceiling - floor
    rel_change = numpy.log2(ceiling/floor)
    
    if difference < 10:
        excluding.append(index)
    else:
        if rel_change < 1:
            print('WARNING', index, difference, numpy.log2(ceiling/floor))

df.drop(labels=excluding, inplace=True)
print(df.shape)
df.head()





#expression = numpy.log2(df + 1)
#expression.head()


zscore_df = df.apply(scipy.stats.zscore, axis=1)
zscore_df


linkage_method = 'average'
distance_metric = 'cosine'

seaborn.clustermap(zscore_df, 
                   cmap='bwr', 
                   col_cluster=True, 
                   row_cluster=True,
                   vmin=-2, vmax=2, 
                   method=linkage_method, 
                   metric=distance_metric, 
                   yticklabels=1, 
                   cbar_kws={'label':'z-score'})

matplotlib.pyplot.show()
























