import pandas, scipy, numpy, seaborn
import matplotlib, matplotlib.pyplot 


# read biomarkers
df = pandas.read_excel('Endothelialbiomarkers.xlsx')
print(df.shape)
biomarkers = list(set(df['Gene']))
print(len(biomarkers))

for element in biomarkers:
    the_list = list(df['Gene'])
    counter = the_list.count(element)
    if counter > 1:
        print(f'Element {element} is twice')


# make sure that we have an absolute change of at least 10 TPMs


# read annotation
anno_file = '/Users/adrian/software/kallisto/human_index_standard/t2g.txt'
df = pandas.read_csv(anno_file, sep='\t', header=None)

sub = df[df[2].isin(biomarkers)]
match = list(set(sub[1]))
print(len(match))

ensembl_bm = [element.split('.')[0] for element in match]
ensembl_bm.sort()
print(ensembl_bm)


rosetta = {}
for index, row in sub.iterrows():
    gene_name = row[2]
    ensembl = row[1].split('.')[0]
    if gene_name not in rosetta.keys():
        rosetta[ensembl] = gene_name
print(len(rosetta))
print(rosetta)


# read expression profiles
inputfile = 'vigur Suppl. Info. Table SIT1 expression profiles.csv'
df = pandas.read_csv(inputfile, sep=',', skiprows=3, index_col='ENSEMBL ID')
df.drop(columns=['Gene name', 'Gene biotype'], inplace=True)
df = df.loc[ensembl_bm, :]
df = df.apply(pandas.to_numeric, errors='coerce')
print(df.shape)
df.head()


# changing to gene names
df = df.rename(index=rosetta)



# dropping TNF because is zero expressed
df.drop(labels='TNF', inplace=True)
df.shape





expression = numpy.log2(df + 1)
expression.head()


zscore_df = expression.apply(scipy.stats.zscore, axis=1)
zscore_df.head()


linkage_method = 'complete'
distance_metric = 'euclidean'

seaborn.clustermap(zscore_df, 
                   cmap='bwr', 
                   col_cluster=False, 
                   row_cluster=True,
                   vmin=-2, vmax=2, 
                   method=linkage_method, 
                   metric=distance_metric, 
                   yticklabels=1, 
                   cbar_kws={'label':'log2FC'})






















