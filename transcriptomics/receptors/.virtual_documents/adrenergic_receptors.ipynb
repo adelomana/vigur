import pandas, seaborn





expression_file = '/home/adrian/projects/vigur/results/transcriptomics/deseq2/DESeq2_TPM_values.tsv'
metadata_file = '/home/adrian/projects/vigur/data/transcriptomics/metadata/vigur_metadata_experiment3.tsv'


receptors = {}
receptors['ADRA1A'] = 'ENSG00000120907'
receptors['ADRA1B'] = 'ENSG00000170214'
receptors['ADRA1D'] = 'ENSG00000171873'

receptors['ADRA2A'] = 'ENSG00000150594'
receptors['ADRA2B'] = 'ENSG00000274286'
receptors['ADRA2C'] = 'ENSG00000184160'

receptors['ADRB1'] = 'ENSG00000043591'
receptors['ADRB2'] = 'ENSG00000169252'
receptors['ADRB3'] = 'ENSG00000188778'





expression = pandas.read_csv(expression_file, sep='\t', index_col=0)


print(expression.shape)
expression.head()


metadata = pandas.read_csv(metadata_file, sep='\t')


print(metadata.shape)
metadata








ensembl_IDs = [receptors[element] for element in receptors]
ensembl_IDs

gene_IDs = [element for element in receptors]
gene_IDs

reverse_names = {}
for i in range(len(ensembl_IDs)):
    reverse_names[ensembl_IDs[i]] = gene_IDs[i]
print(reverse_names)


RE = expression.loc[ensembl_IDs, ]
print(RE.shape)
RE.head()


# calculate averages


sub_samples = metadata[metadata['time'] == 'zero']['sample']
print(sub_samples)
average = RE[sub_samples].mean(axis=1)
average.head()

TPM = pandas.DataFrame(average)
TPM.rename(columns={0:'T0_zero'}, inplace=True)
TPM.head()


sub_samples = metadata[(metadata['time'] == 'four') & (metadata['treatment'] == 'zero')]
print(sub_samples)
average = RE[sub_samples['sample']].mean(axis=1)
average.head()
TPM['T4_zero'] = average
TPM.head()


sub_samples = metadata[(metadata['time'] == 'four') & (metadata['treatment'] == 'half')]
print(sub_samples)
average = RE[sub_samples['sample']].mean(axis=1)
average.head()
TPM['T4_half'] = average
TPM.head()


sub_samples = metadata[(metadata['time'] == 'four') & (metadata['treatment'] == 'five')]
print(sub_samples)
average = RE[sub_samples['sample']].mean(axis=1)
average.head()
TPM['T4_five'] = average
TPM.head()


sub_samples = metadata[(metadata['time'] == 'four') & (metadata['treatment'] == 'fifty')]
print(sub_samples)
average = RE[sub_samples['sample']].mean(axis=1)
average.head()
TPM['T4_fifty'] = average
TPM.head()


sub_samples = metadata[(metadata['time'] == 'twentyfour') & (metadata['treatment'] == 'zero')]
print(sub_samples)
average = RE[sub_samples['sample']].mean(axis=1)
average.head()
TPM['T24_zero'] = average
TPM.head()


sub_samples = metadata[(metadata['time'] == 'twentyfour') & (metadata['treatment'] == 'half')]
print(sub_samples)
average = RE[sub_samples['sample']].mean(axis=1)
average.head()
TPM['T24_half'] = average
TPM.head()


sub_samples = metadata[(metadata['time'] == 'twentyfour') & (metadata['treatment'] == 'five')]
print(sub_samples)
average = RE[sub_samples['sample']].mean(axis=1)
average.head()
TPM['T24_five'] = average
TPM.head()


sub_samples = metadata[(metadata['time'] == 'twentyfour') & (metadata['treatment'] == 'fifty')]
print(sub_samples)
average = RE[sub_samples['sample']].mean(axis=1)
average.head()
TPM['T24_fifty'] = average
TPM.head()


# 3. generate figure


TPM.rename(reverse_names, axis='index', inplace=True)
TPM


seaborn.set(font_scale=1.5)

seaborn.heatmap(TPM, cmap='viridis')


# calculate fc for appropriate genes
import matplotlib


for ensembl in ensembl_IDs:
    
    traj = []
    
    sub_samples = metadata[(metadata['time'] == 'zero') & (metadata['treatment'] == 'zero')]
    values = RE.loc[ensembl, sub_samples['sample']].to_list()
    traj.append(values)
    
    sub_samples = metadata[(metadata['time'] == 'four') & (metadata['treatment'] == 'zero')]
    values = RE.loc[ensembl, sub_samples['sample']].to_list()
    traj.append(values)
    
    sub_samples = metadata[(metadata['time'] == 'four') & (metadata['treatment'] == 'half')]
    values = RE.loc[ensembl, sub_samples['sample']].to_list()
    traj.append(values)
    
    sub_samples = metadata[(metadata['time'] == 'four') & (metadata['treatment'] == 'five')]
    values = RE.loc[ensembl, sub_samples['sample']].to_list()
    traj.append(values)
    
    sub_samples = metadata[(metadata['time'] == 'four') & (metadata['treatment'] == 'fifty')]
    values = RE.loc[ensembl, sub_samples['sample']].to_list()
    traj.append(values)
    
    

    sub_samples = metadata[(metadata['time'] == 'twentyfour') & (metadata['treatment'] == 'zero')]
    values = RE.loc[ensembl, sub_samples['sample']].to_list()
    traj.append(values)
    
    sub_samples = metadata[(metadata['time'] == 'twentyfour') & (metadata['treatment'] == 'half')]
    values = RE.loc[ensembl, sub_samples['sample']].to_list()
    traj.append(values)
    
    sub_samples = metadata[(metadata['time'] == 'twentyfour') & (metadata['treatment'] == 'five')]
    values = RE.loc[ensembl, sub_samples['sample']].to_list()
    traj.append(values)
    
    sub_samples = metadata[(metadata['time'] == 'twentyfour') & (metadata['treatment'] == 'fifty')]
    values = RE.loc[ensembl, sub_samples['sample']].to_list()
    traj.append(values)
    
    
    matplotlib.pyplot.boxplot(traj)
    matplotlib.pyplot.xticks([1, 2, 3, 4, 5, 6, 7, 8, 9], ['T0|C0', 'T4|C0', 'T4|C0.5', 'T4|C5', 'T4|C50', 'T24|C0', 'T24|C0.5', 'T24|C5', 'T24|C50'], rotation=90)
    matplotlib.pyplot.ylabel('Expression (TPM)')
    matplotlib.pyplot.title(reverse_names[ensembl])
    matplotlib.pyplot.show()



