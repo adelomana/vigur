{
 "cells": [
  {
   "cell_type": "code",
   "execution_count": 1,
   "metadata": {},
   "outputs": [],
   "source": [
    "import pandas, seaborn"
   ]
  },
  {
   "cell_type": "markdown",
   "metadata": {},
   "source": [
    "# 0. user-defined variables"
   ]
  },
  {
   "cell_type": "code",
   "execution_count": 2,
   "metadata": {},
   "outputs": [],
   "source": [
    "expression_file = '/home/adrian/projects/vigur/results/transcriptomics/deseq2/DESeq2_TPM_values.tsv'\n",
    "metadata_file = '/home/adrian/projects/vigur/data/transcriptomics/metadata/vigur_metadata_experiment3.tsv'"
   ]
  },
  {
   "cell_type": "code",
   "execution_count": 3,
   "metadata": {},
   "outputs": [],
   "source": [
    "receptors = {}\n",
    "receptors['DIO2'] = 'ENSG00000211448'"
   ]
  },
  {
   "cell_type": "markdown",
   "metadata": {},
   "source": [
    "# 1. read data"
   ]
  },
  {
   "cell_type": "code",
   "execution_count": 4,
   "metadata": {},
   "outputs": [],
   "source": [
    "expression = pandas.read_csv(expression_file, sep='\\t', index_col=0)"
   ]
  },
  {
   "cell_type": "code",
   "execution_count": 5,
   "metadata": {},
   "outputs": [
    {
     "name": "stdout",
     "output_type": "stream",
     "text": [
      "(61881, 25)\n"
     ]
    },
    {
     "data": {
      "text/html": [
       "<div>\n",
       "<style scoped>\n",
       "    .dataframe tbody tr th:only-of-type {\n",
       "        vertical-align: middle;\n",
       "    }\n",
       "\n",
       "    .dataframe tbody tr th {\n",
       "        vertical-align: top;\n",
       "    }\n",
       "\n",
       "    .dataframe thead th {\n",
       "        text-align: right;\n",
       "    }\n",
       "</style>\n",
       "<table border=\"1\" class=\"dataframe\">\n",
       "  <thead>\n",
       "    <tr style=\"text-align: right;\">\n",
       "      <th></th>\n",
       "      <th>RSS_HLMV_28</th>\n",
       "      <th>RSS_HLMV_29</th>\n",
       "      <th>RSS_HLMV_30</th>\n",
       "      <th>RSS_HLMV_31</th>\n",
       "      <th>RSS_HLMV_32</th>\n",
       "      <th>RSS_HLMV_33</th>\n",
       "      <th>RSS_HLMV_34</th>\n",
       "      <th>RSS_HLMV_36</th>\n",
       "      <th>RSS_HLMV_37</th>\n",
       "      <th>RSS_HLMV_38</th>\n",
       "      <th>...</th>\n",
       "      <th>RSS_HLMV_45</th>\n",
       "      <th>RSS_HLMV_46</th>\n",
       "      <th>RSS_HLMV_47</th>\n",
       "      <th>RSS_HLMV_48</th>\n",
       "      <th>RSS_HLMV_49</th>\n",
       "      <th>RSS_HLMV_50</th>\n",
       "      <th>RSS_HLMV_51</th>\n",
       "      <th>RSS_HLMV_52</th>\n",
       "      <th>RSS_HLMV_53</th>\n",
       "      <th>RSS_HLMV_54</th>\n",
       "    </tr>\n",
       "  </thead>\n",
       "  <tbody>\n",
       "    <tr>\n",
       "      <th>ENSG00000000003</th>\n",
       "      <td>38.526890</td>\n",
       "      <td>35.309339</td>\n",
       "      <td>39.840736</td>\n",
       "      <td>41.951376</td>\n",
       "      <td>38.061629</td>\n",
       "      <td>38.565773</td>\n",
       "      <td>38.346359</td>\n",
       "      <td>43.985521</td>\n",
       "      <td>43.715238</td>\n",
       "      <td>32.005577</td>\n",
       "      <td>...</td>\n",
       "      <td>35.204046</td>\n",
       "      <td>36.511499</td>\n",
       "      <td>29.939159</td>\n",
       "      <td>31.072017</td>\n",
       "      <td>40.662226</td>\n",
       "      <td>36.395800</td>\n",
       "      <td>24.905552</td>\n",
       "      <td>35.040346</td>\n",
       "      <td>30.920235</td>\n",
       "      <td>37.974110</td>\n",
       "    </tr>\n",
       "    <tr>\n",
       "      <th>ENSG00000000005</th>\n",
       "      <td>0.000000</td>\n",
       "      <td>0.000000</td>\n",
       "      <td>0.000000</td>\n",
       "      <td>0.278312</td>\n",
       "      <td>0.000000</td>\n",
       "      <td>0.000000</td>\n",
       "      <td>0.000000</td>\n",
       "      <td>0.000000</td>\n",
       "      <td>0.458944</td>\n",
       "      <td>0.075399</td>\n",
       "      <td>...</td>\n",
       "      <td>0.000000</td>\n",
       "      <td>0.000000</td>\n",
       "      <td>0.177716</td>\n",
       "      <td>0.059379</td>\n",
       "      <td>0.000000</td>\n",
       "      <td>0.000000</td>\n",
       "      <td>0.000000</td>\n",
       "      <td>0.116122</td>\n",
       "      <td>0.015197</td>\n",
       "      <td>0.000000</td>\n",
       "    </tr>\n",
       "    <tr>\n",
       "      <th>ENSG00000000419</th>\n",
       "      <td>69.415227</td>\n",
       "      <td>49.131680</td>\n",
       "      <td>66.184838</td>\n",
       "      <td>92.956950</td>\n",
       "      <td>88.650591</td>\n",
       "      <td>85.447069</td>\n",
       "      <td>127.356106</td>\n",
       "      <td>157.183636</td>\n",
       "      <td>150.956365</td>\n",
       "      <td>118.875515</td>\n",
       "      <td>...</td>\n",
       "      <td>113.265541</td>\n",
       "      <td>106.959497</td>\n",
       "      <td>99.429725</td>\n",
       "      <td>85.549739</td>\n",
       "      <td>102.582479</td>\n",
       "      <td>100.516519</td>\n",
       "      <td>84.135830</td>\n",
       "      <td>95.060423</td>\n",
       "      <td>96.772840</td>\n",
       "      <td>107.100754</td>\n",
       "    </tr>\n",
       "    <tr>\n",
       "      <th>ENSG00000000457</th>\n",
       "      <td>3.331287</td>\n",
       "      <td>2.858376</td>\n",
       "      <td>3.504064</td>\n",
       "      <td>5.829721</td>\n",
       "      <td>5.274378</td>\n",
       "      <td>4.404222</td>\n",
       "      <td>3.822031</td>\n",
       "      <td>5.466647</td>\n",
       "      <td>6.620200</td>\n",
       "      <td>4.851150</td>\n",
       "      <td>...</td>\n",
       "      <td>3.444193</td>\n",
       "      <td>3.965564</td>\n",
       "      <td>3.876106</td>\n",
       "      <td>3.360422</td>\n",
       "      <td>4.843100</td>\n",
       "      <td>4.291843</td>\n",
       "      <td>2.957526</td>\n",
       "      <td>4.852541</td>\n",
       "      <td>3.489343</td>\n",
       "      <td>3.486497</td>\n",
       "    </tr>\n",
       "    <tr>\n",
       "      <th>ENSG00000000460</th>\n",
       "      <td>2.744336</td>\n",
       "      <td>3.172060</td>\n",
       "      <td>3.679316</td>\n",
       "      <td>4.587781</td>\n",
       "      <td>3.403177</td>\n",
       "      <td>3.809046</td>\n",
       "      <td>3.916106</td>\n",
       "      <td>4.543919</td>\n",
       "      <td>3.736573</td>\n",
       "      <td>2.749359</td>\n",
       "      <td>...</td>\n",
       "      <td>3.024118</td>\n",
       "      <td>3.693697</td>\n",
       "      <td>2.545423</td>\n",
       "      <td>2.743481</td>\n",
       "      <td>3.342448</td>\n",
       "      <td>3.326444</td>\n",
       "      <td>3.072015</td>\n",
       "      <td>3.377629</td>\n",
       "      <td>2.217106</td>\n",
       "      <td>3.247478</td>\n",
       "    </tr>\n",
       "  </tbody>\n",
       "</table>\n",
       "<p>5 rows × 25 columns</p>\n",
       "</div>"
      ],
      "text/plain": [
       "                 RSS_HLMV_28  RSS_HLMV_29  RSS_HLMV_30  RSS_HLMV_31  \\\n",
       "ENSG00000000003    38.526890    35.309339    39.840736    41.951376   \n",
       "ENSG00000000005     0.000000     0.000000     0.000000     0.278312   \n",
       "ENSG00000000419    69.415227    49.131680    66.184838    92.956950   \n",
       "ENSG00000000457     3.331287     2.858376     3.504064     5.829721   \n",
       "ENSG00000000460     2.744336     3.172060     3.679316     4.587781   \n",
       "\n",
       "                 RSS_HLMV_32  RSS_HLMV_33  RSS_HLMV_34  RSS_HLMV_36  \\\n",
       "ENSG00000000003    38.061629    38.565773    38.346359    43.985521   \n",
       "ENSG00000000005     0.000000     0.000000     0.000000     0.000000   \n",
       "ENSG00000000419    88.650591    85.447069   127.356106   157.183636   \n",
       "ENSG00000000457     5.274378     4.404222     3.822031     5.466647   \n",
       "ENSG00000000460     3.403177     3.809046     3.916106     4.543919   \n",
       "\n",
       "                 RSS_HLMV_37  RSS_HLMV_38  ...  RSS_HLMV_45  RSS_HLMV_46  \\\n",
       "ENSG00000000003    43.715238    32.005577  ...    35.204046    36.511499   \n",
       "ENSG00000000005     0.458944     0.075399  ...     0.000000     0.000000   \n",
       "ENSG00000000419   150.956365   118.875515  ...   113.265541   106.959497   \n",
       "ENSG00000000457     6.620200     4.851150  ...     3.444193     3.965564   \n",
       "ENSG00000000460     3.736573     2.749359  ...     3.024118     3.693697   \n",
       "\n",
       "                 RSS_HLMV_47  RSS_HLMV_48  RSS_HLMV_49  RSS_HLMV_50  \\\n",
       "ENSG00000000003    29.939159    31.072017    40.662226    36.395800   \n",
       "ENSG00000000005     0.177716     0.059379     0.000000     0.000000   \n",
       "ENSG00000000419    99.429725    85.549739   102.582479   100.516519   \n",
       "ENSG00000000457     3.876106     3.360422     4.843100     4.291843   \n",
       "ENSG00000000460     2.545423     2.743481     3.342448     3.326444   \n",
       "\n",
       "                 RSS_HLMV_51  RSS_HLMV_52  RSS_HLMV_53  RSS_HLMV_54  \n",
       "ENSG00000000003    24.905552    35.040346    30.920235    37.974110  \n",
       "ENSG00000000005     0.000000     0.116122     0.015197     0.000000  \n",
       "ENSG00000000419    84.135830    95.060423    96.772840   107.100754  \n",
       "ENSG00000000457     2.957526     4.852541     3.489343     3.486497  \n",
       "ENSG00000000460     3.072015     3.377629     2.217106     3.247478  \n",
       "\n",
       "[5 rows x 25 columns]"
      ]
     },
     "execution_count": 5,
     "metadata": {},
     "output_type": "execute_result"
    }
   ],
   "source": [
    "print(expression.shape)\n",
    "expression.head()"
   ]
  },
  {
   "cell_type": "code",
   "execution_count": 6,
   "metadata": {},
   "outputs": [],
   "source": [
    "metadata = pandas.read_csv(metadata_file, sep='\\t')"
   ]
  },
  {
   "cell_type": "code",
   "execution_count": 7,
   "metadata": {},
   "outputs": [
    {
     "name": "stdout",
     "output_type": "stream",
     "text": [
      "(27, 4)\n"
     ]
    },
    {
     "data": {
      "text/html": [
       "<div>\n",
       "<style scoped>\n",
       "    .dataframe tbody tr th:only-of-type {\n",
       "        vertical-align: middle;\n",
       "    }\n",
       "\n",
       "    .dataframe tbody tr th {\n",
       "        vertical-align: top;\n",
       "    }\n",
       "\n",
       "    .dataframe thead th {\n",
       "        text-align: right;\n",
       "    }\n",
       "</style>\n",
       "<table border=\"1\" class=\"dataframe\">\n",
       "  <thead>\n",
       "    <tr style=\"text-align: right;\">\n",
       "      <th></th>\n",
       "      <th>sample</th>\n",
       "      <th>time</th>\n",
       "      <th>treatment</th>\n",
       "      <th>replicate</th>\n",
       "    </tr>\n",
       "  </thead>\n",
       "  <tbody>\n",
       "    <tr>\n",
       "      <th>0</th>\n",
       "      <td>RSS_HLMV_28</td>\n",
       "      <td>zero</td>\n",
       "      <td>zero</td>\n",
       "      <td>A</td>\n",
       "    </tr>\n",
       "    <tr>\n",
       "      <th>1</th>\n",
       "      <td>RSS_HLMV_29</td>\n",
       "      <td>zero</td>\n",
       "      <td>zero</td>\n",
       "      <td>B</td>\n",
       "    </tr>\n",
       "    <tr>\n",
       "      <th>2</th>\n",
       "      <td>RSS_HLMV_30</td>\n",
       "      <td>zero</td>\n",
       "      <td>zero</td>\n",
       "      <td>C</td>\n",
       "    </tr>\n",
       "    <tr>\n",
       "      <th>3</th>\n",
       "      <td>RSS_HLMV_31</td>\n",
       "      <td>four</td>\n",
       "      <td>zero</td>\n",
       "      <td>A</td>\n",
       "    </tr>\n",
       "    <tr>\n",
       "      <th>4</th>\n",
       "      <td>RSS_HLMV_32</td>\n",
       "      <td>four</td>\n",
       "      <td>zero</td>\n",
       "      <td>B</td>\n",
       "    </tr>\n",
       "    <tr>\n",
       "      <th>5</th>\n",
       "      <td>RSS_HLMV_33</td>\n",
       "      <td>four</td>\n",
       "      <td>zero</td>\n",
       "      <td>C</td>\n",
       "    </tr>\n",
       "    <tr>\n",
       "      <th>6</th>\n",
       "      <td>RSS_HLMV_34</td>\n",
       "      <td>four</td>\n",
       "      <td>half</td>\n",
       "      <td>A</td>\n",
       "    </tr>\n",
       "    <tr>\n",
       "      <th>7</th>\n",
       "      <td>NaN</td>\n",
       "      <td>NaN</td>\n",
       "      <td>NaN</td>\n",
       "      <td>NaN</td>\n",
       "    </tr>\n",
       "    <tr>\n",
       "      <th>8</th>\n",
       "      <td>RSS_HLMV_36</td>\n",
       "      <td>four</td>\n",
       "      <td>half</td>\n",
       "      <td>C</td>\n",
       "    </tr>\n",
       "    <tr>\n",
       "      <th>9</th>\n",
       "      <td>RSS_HLMV_37</td>\n",
       "      <td>four</td>\n",
       "      <td>five</td>\n",
       "      <td>A</td>\n",
       "    </tr>\n",
       "    <tr>\n",
       "      <th>10</th>\n",
       "      <td>RSS_HLMV_38</td>\n",
       "      <td>four</td>\n",
       "      <td>five</td>\n",
       "      <td>B</td>\n",
       "    </tr>\n",
       "    <tr>\n",
       "      <th>11</th>\n",
       "      <td>RSS_HLMV_39</td>\n",
       "      <td>four</td>\n",
       "      <td>five</td>\n",
       "      <td>C</td>\n",
       "    </tr>\n",
       "    <tr>\n",
       "      <th>12</th>\n",
       "      <td>NaN</td>\n",
       "      <td>NaN</td>\n",
       "      <td>NaN</td>\n",
       "      <td>NaN</td>\n",
       "    </tr>\n",
       "    <tr>\n",
       "      <th>13</th>\n",
       "      <td>RSS_HLMV_41</td>\n",
       "      <td>four</td>\n",
       "      <td>fifty</td>\n",
       "      <td>B</td>\n",
       "    </tr>\n",
       "    <tr>\n",
       "      <th>14</th>\n",
       "      <td>RSS_HLMV_42</td>\n",
       "      <td>four</td>\n",
       "      <td>fifty</td>\n",
       "      <td>C</td>\n",
       "    </tr>\n",
       "    <tr>\n",
       "      <th>15</th>\n",
       "      <td>RSS_HLMV_43</td>\n",
       "      <td>twentyfour</td>\n",
       "      <td>zero</td>\n",
       "      <td>A</td>\n",
       "    </tr>\n",
       "    <tr>\n",
       "      <th>16</th>\n",
       "      <td>RSS_HLMV_44</td>\n",
       "      <td>twentyfour</td>\n",
       "      <td>zero</td>\n",
       "      <td>B</td>\n",
       "    </tr>\n",
       "    <tr>\n",
       "      <th>17</th>\n",
       "      <td>RSS_HLMV_45</td>\n",
       "      <td>twentyfour</td>\n",
       "      <td>zero</td>\n",
       "      <td>C</td>\n",
       "    </tr>\n",
       "    <tr>\n",
       "      <th>18</th>\n",
       "      <td>RSS_HLMV_46</td>\n",
       "      <td>twentyfour</td>\n",
       "      <td>half</td>\n",
       "      <td>A</td>\n",
       "    </tr>\n",
       "    <tr>\n",
       "      <th>19</th>\n",
       "      <td>RSS_HLMV_47</td>\n",
       "      <td>twentyfour</td>\n",
       "      <td>half</td>\n",
       "      <td>B</td>\n",
       "    </tr>\n",
       "    <tr>\n",
       "      <th>20</th>\n",
       "      <td>RSS_HLMV_48</td>\n",
       "      <td>twentyfour</td>\n",
       "      <td>half</td>\n",
       "      <td>C</td>\n",
       "    </tr>\n",
       "    <tr>\n",
       "      <th>21</th>\n",
       "      <td>RSS_HLMV_49</td>\n",
       "      <td>twentyfour</td>\n",
       "      <td>five</td>\n",
       "      <td>A</td>\n",
       "    </tr>\n",
       "    <tr>\n",
       "      <th>22</th>\n",
       "      <td>RSS_HLMV_50</td>\n",
       "      <td>twentyfour</td>\n",
       "      <td>five</td>\n",
       "      <td>B</td>\n",
       "    </tr>\n",
       "    <tr>\n",
       "      <th>23</th>\n",
       "      <td>RSS_HLMV_51</td>\n",
       "      <td>twentyfour</td>\n",
       "      <td>five</td>\n",
       "      <td>C</td>\n",
       "    </tr>\n",
       "    <tr>\n",
       "      <th>24</th>\n",
       "      <td>RSS_HLMV_52</td>\n",
       "      <td>twentyfour</td>\n",
       "      <td>fifty</td>\n",
       "      <td>A</td>\n",
       "    </tr>\n",
       "    <tr>\n",
       "      <th>25</th>\n",
       "      <td>RSS_HLMV_53</td>\n",
       "      <td>twentyfour</td>\n",
       "      <td>fifty</td>\n",
       "      <td>B</td>\n",
       "    </tr>\n",
       "    <tr>\n",
       "      <th>26</th>\n",
       "      <td>RSS_HLMV_54</td>\n",
       "      <td>twentyfour</td>\n",
       "      <td>fifty</td>\n",
       "      <td>C</td>\n",
       "    </tr>\n",
       "  </tbody>\n",
       "</table>\n",
       "</div>"
      ],
      "text/plain": [
       "         sample        time treatment replicate\n",
       "0   RSS_HLMV_28        zero      zero         A\n",
       "1   RSS_HLMV_29        zero      zero         B\n",
       "2   RSS_HLMV_30        zero      zero         C\n",
       "3   RSS_HLMV_31        four      zero         A\n",
       "4   RSS_HLMV_32        four      zero         B\n",
       "5   RSS_HLMV_33        four      zero         C\n",
       "6   RSS_HLMV_34        four      half         A\n",
       "7           NaN         NaN       NaN       NaN\n",
       "8   RSS_HLMV_36        four      half         C\n",
       "9   RSS_HLMV_37        four      five         A\n",
       "10  RSS_HLMV_38        four      five         B\n",
       "11  RSS_HLMV_39        four      five         C\n",
       "12          NaN         NaN       NaN       NaN\n",
       "13  RSS_HLMV_41        four     fifty         B\n",
       "14  RSS_HLMV_42        four     fifty         C\n",
       "15  RSS_HLMV_43  twentyfour      zero         A\n",
       "16  RSS_HLMV_44  twentyfour      zero         B\n",
       "17  RSS_HLMV_45  twentyfour      zero         C\n",
       "18  RSS_HLMV_46  twentyfour      half         A\n",
       "19  RSS_HLMV_47  twentyfour      half         B\n",
       "20  RSS_HLMV_48  twentyfour      half         C\n",
       "21  RSS_HLMV_49  twentyfour      five         A\n",
       "22  RSS_HLMV_50  twentyfour      five         B\n",
       "23  RSS_HLMV_51  twentyfour      five         C\n",
       "24  RSS_HLMV_52  twentyfour     fifty         A\n",
       "25  RSS_HLMV_53  twentyfour     fifty         B\n",
       "26  RSS_HLMV_54  twentyfour     fifty         C"
      ]
     },
     "execution_count": 7,
     "metadata": {},
     "output_type": "execute_result"
    }
   ],
   "source": [
    "print(metadata.shape)\n",
    "metadata"
   ]
  },
  {
   "cell_type": "markdown",
   "metadata": {},
   "source": [
    "# 2. analysis"
   ]
  },
  {
   "cell_type": "markdown",
   "metadata": {},
   "source": [
    "## 2.1. face-value expression "
   ]
  },
  {
   "cell_type": "code",
   "execution_count": 8,
   "metadata": {},
   "outputs": [
    {
     "name": "stdout",
     "output_type": "stream",
     "text": [
      "{'ENSG00000211448': 'DIO2'}\n"
     ]
    }
   ],
   "source": [
    "ensembl_IDs = [receptors[element] for element in receptors]\n",
    "ensembl_IDs\n",
    "\n",
    "gene_IDs = [element for element in receptors]\n",
    "gene_IDs\n",
    "\n",
    "reverse_names = {}\n",
    "for i in range(len(ensembl_IDs)):\n",
    "    reverse_names[ensembl_IDs[i]] = gene_IDs[i]\n",
    "print(reverse_names)"
   ]
  },
  {
   "cell_type": "code",
   "execution_count": 9,
   "metadata": {},
   "outputs": [
    {
     "name": "stdout",
     "output_type": "stream",
     "text": [
      "(1, 25)\n"
     ]
    },
    {
     "data": {
      "text/html": [
       "<div>\n",
       "<style scoped>\n",
       "    .dataframe tbody tr th:only-of-type {\n",
       "        vertical-align: middle;\n",
       "    }\n",
       "\n",
       "    .dataframe tbody tr th {\n",
       "        vertical-align: top;\n",
       "    }\n",
       "\n",
       "    .dataframe thead th {\n",
       "        text-align: right;\n",
       "    }\n",
       "</style>\n",
       "<table border=\"1\" class=\"dataframe\">\n",
       "  <thead>\n",
       "    <tr style=\"text-align: right;\">\n",
       "      <th></th>\n",
       "      <th>RSS_HLMV_28</th>\n",
       "      <th>RSS_HLMV_29</th>\n",
       "      <th>RSS_HLMV_30</th>\n",
       "      <th>RSS_HLMV_31</th>\n",
       "      <th>RSS_HLMV_32</th>\n",
       "      <th>RSS_HLMV_33</th>\n",
       "      <th>RSS_HLMV_34</th>\n",
       "      <th>RSS_HLMV_36</th>\n",
       "      <th>RSS_HLMV_37</th>\n",
       "      <th>RSS_HLMV_38</th>\n",
       "      <th>...</th>\n",
       "      <th>RSS_HLMV_45</th>\n",
       "      <th>RSS_HLMV_46</th>\n",
       "      <th>RSS_HLMV_47</th>\n",
       "      <th>RSS_HLMV_48</th>\n",
       "      <th>RSS_HLMV_49</th>\n",
       "      <th>RSS_HLMV_50</th>\n",
       "      <th>RSS_HLMV_51</th>\n",
       "      <th>RSS_HLMV_52</th>\n",
       "      <th>RSS_HLMV_53</th>\n",
       "      <th>RSS_HLMV_54</th>\n",
       "    </tr>\n",
       "  </thead>\n",
       "  <tbody>\n",
       "    <tr>\n",
       "      <th>ENSG00000211448</th>\n",
       "      <td>1.177947</td>\n",
       "      <td>0.459658</td>\n",
       "      <td>0.839254</td>\n",
       "      <td>3.006277</td>\n",
       "      <td>1.153057</td>\n",
       "      <td>1.69466</td>\n",
       "      <td>46.359516</td>\n",
       "      <td>67.717599</td>\n",
       "      <td>74.965854</td>\n",
       "      <td>45.334018</td>\n",
       "      <td>...</td>\n",
       "      <td>0.894882</td>\n",
       "      <td>11.180774</td>\n",
       "      <td>8.200936</td>\n",
       "      <td>8.132465</td>\n",
       "      <td>7.938604</td>\n",
       "      <td>14.935663</td>\n",
       "      <td>5.368193</td>\n",
       "      <td>11.999244</td>\n",
       "      <td>5.947345</td>\n",
       "      <td>6.30973</td>\n",
       "    </tr>\n",
       "  </tbody>\n",
       "</table>\n",
       "<p>1 rows × 25 columns</p>\n",
       "</div>"
      ],
      "text/plain": [
       "                 RSS_HLMV_28  RSS_HLMV_29  RSS_HLMV_30  RSS_HLMV_31  \\\n",
       "ENSG00000211448     1.177947     0.459658     0.839254     3.006277   \n",
       "\n",
       "                 RSS_HLMV_32  RSS_HLMV_33  RSS_HLMV_34  RSS_HLMV_36  \\\n",
       "ENSG00000211448     1.153057      1.69466    46.359516    67.717599   \n",
       "\n",
       "                 RSS_HLMV_37  RSS_HLMV_38  ...  RSS_HLMV_45  RSS_HLMV_46  \\\n",
       "ENSG00000211448    74.965854    45.334018  ...     0.894882    11.180774   \n",
       "\n",
       "                 RSS_HLMV_47  RSS_HLMV_48  RSS_HLMV_49  RSS_HLMV_50  \\\n",
       "ENSG00000211448     8.200936     8.132465     7.938604    14.935663   \n",
       "\n",
       "                 RSS_HLMV_51  RSS_HLMV_52  RSS_HLMV_53  RSS_HLMV_54  \n",
       "ENSG00000211448     5.368193    11.999244     5.947345      6.30973  \n",
       "\n",
       "[1 rows x 25 columns]"
      ]
     },
     "execution_count": 9,
     "metadata": {},
     "output_type": "execute_result"
    }
   ],
   "source": [
    "RE = expression.loc[ensembl_IDs, ]\n",
    "print(RE.shape)\n",
    "RE.head()"
   ]
  },
  {
   "cell_type": "code",
   "execution_count": 10,
   "metadata": {},
   "outputs": [],
   "source": [
    "# calculate averages"
   ]
  },
  {
   "cell_type": "code",
   "execution_count": 11,
   "metadata": {},
   "outputs": [
    {
     "name": "stdout",
     "output_type": "stream",
     "text": [
      "0    RSS_HLMV_28\n",
      "1    RSS_HLMV_29\n",
      "2    RSS_HLMV_30\n",
      "Name: sample, dtype: object\n"
     ]
    },
    {
     "data": {
      "text/html": [
       "<div>\n",
       "<style scoped>\n",
       "    .dataframe tbody tr th:only-of-type {\n",
       "        vertical-align: middle;\n",
       "    }\n",
       "\n",
       "    .dataframe tbody tr th {\n",
       "        vertical-align: top;\n",
       "    }\n",
       "\n",
       "    .dataframe thead th {\n",
       "        text-align: right;\n",
       "    }\n",
       "</style>\n",
       "<table border=\"1\" class=\"dataframe\">\n",
       "  <thead>\n",
       "    <tr style=\"text-align: right;\">\n",
       "      <th></th>\n",
       "      <th>T0_zero</th>\n",
       "    </tr>\n",
       "  </thead>\n",
       "  <tbody>\n",
       "    <tr>\n",
       "      <th>ENSG00000211448</th>\n",
       "      <td>0.82562</td>\n",
       "    </tr>\n",
       "  </tbody>\n",
       "</table>\n",
       "</div>"
      ],
      "text/plain": [
       "                 T0_zero\n",
       "ENSG00000211448  0.82562"
      ]
     },
     "execution_count": 11,
     "metadata": {},
     "output_type": "execute_result"
    }
   ],
   "source": [
    "sub_samples = metadata[metadata['time'] == 'zero']['sample']\n",
    "print(sub_samples)\n",
    "average = RE[sub_samples].mean(axis=1)\n",
    "average.head()\n",
    "\n",
    "TPM = pandas.DataFrame(average)\n",
    "TPM.rename(columns={0:'T0_zero'}, inplace=True)\n",
    "TPM.head()"
   ]
  },
  {
   "cell_type": "code",
   "execution_count": 12,
   "metadata": {},
   "outputs": [
    {
     "name": "stdout",
     "output_type": "stream",
     "text": [
      "        sample  time treatment replicate\n",
      "3  RSS_HLMV_31  four      zero         A\n",
      "4  RSS_HLMV_32  four      zero         B\n",
      "5  RSS_HLMV_33  four      zero         C\n"
     ]
    },
    {
     "data": {
      "text/html": [
       "<div>\n",
       "<style scoped>\n",
       "    .dataframe tbody tr th:only-of-type {\n",
       "        vertical-align: middle;\n",
       "    }\n",
       "\n",
       "    .dataframe tbody tr th {\n",
       "        vertical-align: top;\n",
       "    }\n",
       "\n",
       "    .dataframe thead th {\n",
       "        text-align: right;\n",
       "    }\n",
       "</style>\n",
       "<table border=\"1\" class=\"dataframe\">\n",
       "  <thead>\n",
       "    <tr style=\"text-align: right;\">\n",
       "      <th></th>\n",
       "      <th>T0_zero</th>\n",
       "      <th>T4_zero</th>\n",
       "    </tr>\n",
       "  </thead>\n",
       "  <tbody>\n",
       "    <tr>\n",
       "      <th>ENSG00000211448</th>\n",
       "      <td>0.82562</td>\n",
       "      <td>1.951331</td>\n",
       "    </tr>\n",
       "  </tbody>\n",
       "</table>\n",
       "</div>"
      ],
      "text/plain": [
       "                 T0_zero   T4_zero\n",
       "ENSG00000211448  0.82562  1.951331"
      ]
     },
     "execution_count": 12,
     "metadata": {},
     "output_type": "execute_result"
    }
   ],
   "source": [
    "sub_samples = metadata[(metadata['time'] == 'four') & (metadata['treatment'] == 'zero')]\n",
    "print(sub_samples)\n",
    "average = RE[sub_samples['sample']].mean(axis=1)\n",
    "average.head()\n",
    "TPM['T4_zero'] = average\n",
    "TPM.head()"
   ]
  },
  {
   "cell_type": "code",
   "execution_count": 13,
   "metadata": {},
   "outputs": [
    {
     "name": "stdout",
     "output_type": "stream",
     "text": [
      "        sample  time treatment replicate\n",
      "6  RSS_HLMV_34  four      half         A\n",
      "8  RSS_HLMV_36  four      half         C\n"
     ]
    },
    {
     "data": {
      "text/html": [
       "<div>\n",
       "<style scoped>\n",
       "    .dataframe tbody tr th:only-of-type {\n",
       "        vertical-align: middle;\n",
       "    }\n",
       "\n",
       "    .dataframe tbody tr th {\n",
       "        vertical-align: top;\n",
       "    }\n",
       "\n",
       "    .dataframe thead th {\n",
       "        text-align: right;\n",
       "    }\n",
       "</style>\n",
       "<table border=\"1\" class=\"dataframe\">\n",
       "  <thead>\n",
       "    <tr style=\"text-align: right;\">\n",
       "      <th></th>\n",
       "      <th>T0_zero</th>\n",
       "      <th>T4_zero</th>\n",
       "      <th>T4_half</th>\n",
       "    </tr>\n",
       "  </thead>\n",
       "  <tbody>\n",
       "    <tr>\n",
       "      <th>ENSG00000211448</th>\n",
       "      <td>0.82562</td>\n",
       "      <td>1.951331</td>\n",
       "      <td>57.038558</td>\n",
       "    </tr>\n",
       "  </tbody>\n",
       "</table>\n",
       "</div>"
      ],
      "text/plain": [
       "                 T0_zero   T4_zero    T4_half\n",
       "ENSG00000211448  0.82562  1.951331  57.038558"
      ]
     },
     "execution_count": 13,
     "metadata": {},
     "output_type": "execute_result"
    }
   ],
   "source": [
    "sub_samples = metadata[(metadata['time'] == 'four') & (metadata['treatment'] == 'half')]\n",
    "print(sub_samples)\n",
    "average = RE[sub_samples['sample']].mean(axis=1)\n",
    "average.head()\n",
    "TPM['T4_half'] = average\n",
    "TPM.head()"
   ]
  },
  {
   "cell_type": "code",
   "execution_count": 14,
   "metadata": {},
   "outputs": [
    {
     "name": "stdout",
     "output_type": "stream",
     "text": [
      "         sample  time treatment replicate\n",
      "9   RSS_HLMV_37  four      five         A\n",
      "10  RSS_HLMV_38  four      five         B\n",
      "11  RSS_HLMV_39  four      five         C\n"
     ]
    },
    {
     "data": {
      "text/html": [
       "<div>\n",
       "<style scoped>\n",
       "    .dataframe tbody tr th:only-of-type {\n",
       "        vertical-align: middle;\n",
       "    }\n",
       "\n",
       "    .dataframe tbody tr th {\n",
       "        vertical-align: top;\n",
       "    }\n",
       "\n",
       "    .dataframe thead th {\n",
       "        text-align: right;\n",
       "    }\n",
       "</style>\n",
       "<table border=\"1\" class=\"dataframe\">\n",
       "  <thead>\n",
       "    <tr style=\"text-align: right;\">\n",
       "      <th></th>\n",
       "      <th>T0_zero</th>\n",
       "      <th>T4_zero</th>\n",
       "      <th>T4_half</th>\n",
       "      <th>T4_five</th>\n",
       "    </tr>\n",
       "  </thead>\n",
       "  <tbody>\n",
       "    <tr>\n",
       "      <th>ENSG00000211448</th>\n",
       "      <td>0.82562</td>\n",
       "      <td>1.951331</td>\n",
       "      <td>57.038558</td>\n",
       "      <td>66.121056</td>\n",
       "    </tr>\n",
       "  </tbody>\n",
       "</table>\n",
       "</div>"
      ],
      "text/plain": [
       "                 T0_zero   T4_zero    T4_half    T4_five\n",
       "ENSG00000211448  0.82562  1.951331  57.038558  66.121056"
      ]
     },
     "execution_count": 14,
     "metadata": {},
     "output_type": "execute_result"
    }
   ],
   "source": [
    "sub_samples = metadata[(metadata['time'] == 'four') & (metadata['treatment'] == 'five')]\n",
    "print(sub_samples)\n",
    "average = RE[sub_samples['sample']].mean(axis=1)\n",
    "average.head()\n",
    "TPM['T4_five'] = average\n",
    "TPM.head()"
   ]
  },
  {
   "cell_type": "code",
   "execution_count": 15,
   "metadata": {},
   "outputs": [
    {
     "name": "stdout",
     "output_type": "stream",
     "text": [
      "         sample  time treatment replicate\n",
      "13  RSS_HLMV_41  four     fifty         B\n",
      "14  RSS_HLMV_42  four     fifty         C\n"
     ]
    },
    {
     "data": {
      "text/html": [
       "<div>\n",
       "<style scoped>\n",
       "    .dataframe tbody tr th:only-of-type {\n",
       "        vertical-align: middle;\n",
       "    }\n",
       "\n",
       "    .dataframe tbody tr th {\n",
       "        vertical-align: top;\n",
       "    }\n",
       "\n",
       "    .dataframe thead th {\n",
       "        text-align: right;\n",
       "    }\n",
       "</style>\n",
       "<table border=\"1\" class=\"dataframe\">\n",
       "  <thead>\n",
       "    <tr style=\"text-align: right;\">\n",
       "      <th></th>\n",
       "      <th>T0_zero</th>\n",
       "      <th>T4_zero</th>\n",
       "      <th>T4_half</th>\n",
       "      <th>T4_five</th>\n",
       "      <th>T4_fifty</th>\n",
       "    </tr>\n",
       "  </thead>\n",
       "  <tbody>\n",
       "    <tr>\n",
       "      <th>ENSG00000211448</th>\n",
       "      <td>0.82562</td>\n",
       "      <td>1.951331</td>\n",
       "      <td>57.038558</td>\n",
       "      <td>66.121056</td>\n",
       "      <td>36.061429</td>\n",
       "    </tr>\n",
       "  </tbody>\n",
       "</table>\n",
       "</div>"
      ],
      "text/plain": [
       "                 T0_zero   T4_zero    T4_half    T4_five   T4_fifty\n",
       "ENSG00000211448  0.82562  1.951331  57.038558  66.121056  36.061429"
      ]
     },
     "execution_count": 15,
     "metadata": {},
     "output_type": "execute_result"
    }
   ],
   "source": [
    "sub_samples = metadata[(metadata['time'] == 'four') & (metadata['treatment'] == 'fifty')]\n",
    "print(sub_samples)\n",
    "average = RE[sub_samples['sample']].mean(axis=1)\n",
    "average.head()\n",
    "TPM['T4_fifty'] = average\n",
    "TPM.head()"
   ]
  },
  {
   "cell_type": "code",
   "execution_count": 16,
   "metadata": {},
   "outputs": [
    {
     "name": "stdout",
     "output_type": "stream",
     "text": [
      "         sample        time treatment replicate\n",
      "15  RSS_HLMV_43  twentyfour      zero         A\n",
      "16  RSS_HLMV_44  twentyfour      zero         B\n",
      "17  RSS_HLMV_45  twentyfour      zero         C\n"
     ]
    },
    {
     "data": {
      "text/html": [
       "<div>\n",
       "<style scoped>\n",
       "    .dataframe tbody tr th:only-of-type {\n",
       "        vertical-align: middle;\n",
       "    }\n",
       "\n",
       "    .dataframe tbody tr th {\n",
       "        vertical-align: top;\n",
       "    }\n",
       "\n",
       "    .dataframe thead th {\n",
       "        text-align: right;\n",
       "    }\n",
       "</style>\n",
       "<table border=\"1\" class=\"dataframe\">\n",
       "  <thead>\n",
       "    <tr style=\"text-align: right;\">\n",
       "      <th></th>\n",
       "      <th>T0_zero</th>\n",
       "      <th>T4_zero</th>\n",
       "      <th>T4_half</th>\n",
       "      <th>T4_five</th>\n",
       "      <th>T4_fifty</th>\n",
       "      <th>T24_zero</th>\n",
       "    </tr>\n",
       "  </thead>\n",
       "  <tbody>\n",
       "    <tr>\n",
       "      <th>ENSG00000211448</th>\n",
       "      <td>0.82562</td>\n",
       "      <td>1.951331</td>\n",
       "      <td>57.038558</td>\n",
       "      <td>66.121056</td>\n",
       "      <td>36.061429</td>\n",
       "      <td>1.034035</td>\n",
       "    </tr>\n",
       "  </tbody>\n",
       "</table>\n",
       "</div>"
      ],
      "text/plain": [
       "                 T0_zero   T4_zero    T4_half    T4_five   T4_fifty  T24_zero\n",
       "ENSG00000211448  0.82562  1.951331  57.038558  66.121056  36.061429  1.034035"
      ]
     },
     "execution_count": 16,
     "metadata": {},
     "output_type": "execute_result"
    }
   ],
   "source": [
    "sub_samples = metadata[(metadata['time'] == 'twentyfour') & (metadata['treatment'] == 'zero')]\n",
    "print(sub_samples)\n",
    "average = RE[sub_samples['sample']].mean(axis=1)\n",
    "average.head()\n",
    "TPM['T24_zero'] = average\n",
    "TPM.head()"
   ]
  },
  {
   "cell_type": "code",
   "execution_count": 17,
   "metadata": {},
   "outputs": [
    {
     "name": "stdout",
     "output_type": "stream",
     "text": [
      "         sample        time treatment replicate\n",
      "18  RSS_HLMV_46  twentyfour      half         A\n",
      "19  RSS_HLMV_47  twentyfour      half         B\n",
      "20  RSS_HLMV_48  twentyfour      half         C\n"
     ]
    },
    {
     "data": {
      "text/html": [
       "<div>\n",
       "<style scoped>\n",
       "    .dataframe tbody tr th:only-of-type {\n",
       "        vertical-align: middle;\n",
       "    }\n",
       "\n",
       "    .dataframe tbody tr th {\n",
       "        vertical-align: top;\n",
       "    }\n",
       "\n",
       "    .dataframe thead th {\n",
       "        text-align: right;\n",
       "    }\n",
       "</style>\n",
       "<table border=\"1\" class=\"dataframe\">\n",
       "  <thead>\n",
       "    <tr style=\"text-align: right;\">\n",
       "      <th></th>\n",
       "      <th>T0_zero</th>\n",
       "      <th>T4_zero</th>\n",
       "      <th>T4_half</th>\n",
       "      <th>T4_five</th>\n",
       "      <th>T4_fifty</th>\n",
       "      <th>T24_zero</th>\n",
       "      <th>T24_half</th>\n",
       "    </tr>\n",
       "  </thead>\n",
       "  <tbody>\n",
       "    <tr>\n",
       "      <th>ENSG00000211448</th>\n",
       "      <td>0.82562</td>\n",
       "      <td>1.951331</td>\n",
       "      <td>57.038558</td>\n",
       "      <td>66.121056</td>\n",
       "      <td>36.061429</td>\n",
       "      <td>1.034035</td>\n",
       "      <td>9.171392</td>\n",
       "    </tr>\n",
       "  </tbody>\n",
       "</table>\n",
       "</div>"
      ],
      "text/plain": [
       "                 T0_zero   T4_zero    T4_half    T4_five   T4_fifty  T24_zero  \\\n",
       "ENSG00000211448  0.82562  1.951331  57.038558  66.121056  36.061429  1.034035   \n",
       "\n",
       "                 T24_half  \n",
       "ENSG00000211448  9.171392  "
      ]
     },
     "execution_count": 17,
     "metadata": {},
     "output_type": "execute_result"
    }
   ],
   "source": [
    "sub_samples = metadata[(metadata['time'] == 'twentyfour') & (metadata['treatment'] == 'half')]\n",
    "print(sub_samples)\n",
    "average = RE[sub_samples['sample']].mean(axis=1)\n",
    "average.head()\n",
    "TPM['T24_half'] = average\n",
    "TPM.head()"
   ]
  },
  {
   "cell_type": "code",
   "execution_count": 18,
   "metadata": {},
   "outputs": [
    {
     "name": "stdout",
     "output_type": "stream",
     "text": [
      "         sample        time treatment replicate\n",
      "21  RSS_HLMV_49  twentyfour      five         A\n",
      "22  RSS_HLMV_50  twentyfour      five         B\n",
      "23  RSS_HLMV_51  twentyfour      five         C\n"
     ]
    },
    {
     "data": {
      "text/html": [
       "<div>\n",
       "<style scoped>\n",
       "    .dataframe tbody tr th:only-of-type {\n",
       "        vertical-align: middle;\n",
       "    }\n",
       "\n",
       "    .dataframe tbody tr th {\n",
       "        vertical-align: top;\n",
       "    }\n",
       "\n",
       "    .dataframe thead th {\n",
       "        text-align: right;\n",
       "    }\n",
       "</style>\n",
       "<table border=\"1\" class=\"dataframe\">\n",
       "  <thead>\n",
       "    <tr style=\"text-align: right;\">\n",
       "      <th></th>\n",
       "      <th>T0_zero</th>\n",
       "      <th>T4_zero</th>\n",
       "      <th>T4_half</th>\n",
       "      <th>T4_five</th>\n",
       "      <th>T4_fifty</th>\n",
       "      <th>T24_zero</th>\n",
       "      <th>T24_half</th>\n",
       "      <th>T24_five</th>\n",
       "    </tr>\n",
       "  </thead>\n",
       "  <tbody>\n",
       "    <tr>\n",
       "      <th>ENSG00000211448</th>\n",
       "      <td>0.82562</td>\n",
       "      <td>1.951331</td>\n",
       "      <td>57.038558</td>\n",
       "      <td>66.121056</td>\n",
       "      <td>36.061429</td>\n",
       "      <td>1.034035</td>\n",
       "      <td>9.171392</td>\n",
       "      <td>9.414154</td>\n",
       "    </tr>\n",
       "  </tbody>\n",
       "</table>\n",
       "</div>"
      ],
      "text/plain": [
       "                 T0_zero   T4_zero    T4_half    T4_five   T4_fifty  T24_zero  \\\n",
       "ENSG00000211448  0.82562  1.951331  57.038558  66.121056  36.061429  1.034035   \n",
       "\n",
       "                 T24_half  T24_five  \n",
       "ENSG00000211448  9.171392  9.414154  "
      ]
     },
     "execution_count": 18,
     "metadata": {},
     "output_type": "execute_result"
    }
   ],
   "source": [
    "sub_samples = metadata[(metadata['time'] == 'twentyfour') & (metadata['treatment'] == 'five')]\n",
    "print(sub_samples)\n",
    "average = RE[sub_samples['sample']].mean(axis=1)\n",
    "average.head()\n",
    "TPM['T24_five'] = average\n",
    "TPM.head()"
   ]
  },
  {
   "cell_type": "code",
   "execution_count": 19,
   "metadata": {},
   "outputs": [
    {
     "name": "stdout",
     "output_type": "stream",
     "text": [
      "         sample        time treatment replicate\n",
      "24  RSS_HLMV_52  twentyfour     fifty         A\n",
      "25  RSS_HLMV_53  twentyfour     fifty         B\n",
      "26  RSS_HLMV_54  twentyfour     fifty         C\n"
     ]
    },
    {
     "data": {
      "text/html": [
       "<div>\n",
       "<style scoped>\n",
       "    .dataframe tbody tr th:only-of-type {\n",
       "        vertical-align: middle;\n",
       "    }\n",
       "\n",
       "    .dataframe tbody tr th {\n",
       "        vertical-align: top;\n",
       "    }\n",
       "\n",
       "    .dataframe thead th {\n",
       "        text-align: right;\n",
       "    }\n",
       "</style>\n",
       "<table border=\"1\" class=\"dataframe\">\n",
       "  <thead>\n",
       "    <tr style=\"text-align: right;\">\n",
       "      <th></th>\n",
       "      <th>T0_zero</th>\n",
       "      <th>T4_zero</th>\n",
       "      <th>T4_half</th>\n",
       "      <th>T4_five</th>\n",
       "      <th>T4_fifty</th>\n",
       "      <th>T24_zero</th>\n",
       "      <th>T24_half</th>\n",
       "      <th>T24_five</th>\n",
       "      <th>T24_fifty</th>\n",
       "    </tr>\n",
       "  </thead>\n",
       "  <tbody>\n",
       "    <tr>\n",
       "      <th>ENSG00000211448</th>\n",
       "      <td>0.82562</td>\n",
       "      <td>1.951331</td>\n",
       "      <td>57.038558</td>\n",
       "      <td>66.121056</td>\n",
       "      <td>36.061429</td>\n",
       "      <td>1.034035</td>\n",
       "      <td>9.171392</td>\n",
       "      <td>9.414154</td>\n",
       "      <td>8.08544</td>\n",
       "    </tr>\n",
       "  </tbody>\n",
       "</table>\n",
       "</div>"
      ],
      "text/plain": [
       "                 T0_zero   T4_zero    T4_half    T4_five   T4_fifty  T24_zero  \\\n",
       "ENSG00000211448  0.82562  1.951331  57.038558  66.121056  36.061429  1.034035   \n",
       "\n",
       "                 T24_half  T24_five  T24_fifty  \n",
       "ENSG00000211448  9.171392  9.414154    8.08544  "
      ]
     },
     "execution_count": 19,
     "metadata": {},
     "output_type": "execute_result"
    }
   ],
   "source": [
    "sub_samples = metadata[(metadata['time'] == 'twentyfour') & (metadata['treatment'] == 'fifty')]\n",
    "print(sub_samples)\n",
    "average = RE[sub_samples['sample']].mean(axis=1)\n",
    "average.head()\n",
    "TPM['T24_fifty'] = average\n",
    "TPM.head()"
   ]
  },
  {
   "cell_type": "code",
   "execution_count": 20,
   "metadata": {},
   "outputs": [],
   "source": [
    "# 3. generate figure"
   ]
  },
  {
   "cell_type": "code",
   "execution_count": 21,
   "metadata": {},
   "outputs": [
    {
     "data": {
      "text/html": [
       "<div>\n",
       "<style scoped>\n",
       "    .dataframe tbody tr th:only-of-type {\n",
       "        vertical-align: middle;\n",
       "    }\n",
       "\n",
       "    .dataframe tbody tr th {\n",
       "        vertical-align: top;\n",
       "    }\n",
       "\n",
       "    .dataframe thead th {\n",
       "        text-align: right;\n",
       "    }\n",
       "</style>\n",
       "<table border=\"1\" class=\"dataframe\">\n",
       "  <thead>\n",
       "    <tr style=\"text-align: right;\">\n",
       "      <th></th>\n",
       "      <th>T0_zero</th>\n",
       "      <th>T4_zero</th>\n",
       "      <th>T4_half</th>\n",
       "      <th>T4_five</th>\n",
       "      <th>T4_fifty</th>\n",
       "      <th>T24_zero</th>\n",
       "      <th>T24_half</th>\n",
       "      <th>T24_five</th>\n",
       "      <th>T24_fifty</th>\n",
       "    </tr>\n",
       "  </thead>\n",
       "  <tbody>\n",
       "    <tr>\n",
       "      <th>DIO2</th>\n",
       "      <td>0.82562</td>\n",
       "      <td>1.951331</td>\n",
       "      <td>57.038558</td>\n",
       "      <td>66.121056</td>\n",
       "      <td>36.061429</td>\n",
       "      <td>1.034035</td>\n",
       "      <td>9.171392</td>\n",
       "      <td>9.414154</td>\n",
       "      <td>8.08544</td>\n",
       "    </tr>\n",
       "  </tbody>\n",
       "</table>\n",
       "</div>"
      ],
      "text/plain": [
       "      T0_zero   T4_zero    T4_half    T4_five   T4_fifty  T24_zero  T24_half  \\\n",
       "DIO2  0.82562  1.951331  57.038558  66.121056  36.061429  1.034035  9.171392   \n",
       "\n",
       "      T24_five  T24_fifty  \n",
       "DIO2  9.414154    8.08544  "
      ]
     },
     "execution_count": 21,
     "metadata": {},
     "output_type": "execute_result"
    }
   ],
   "source": [
    "TPM.rename(reverse_names, axis='index', inplace=True)\n",
    "TPM"
   ]
  },
  {
   "cell_type": "code",
   "execution_count": 22,
   "metadata": {},
   "outputs": [
    {
     "data": {
      "text/plain": [
       "<Axes: >"
      ]
     },
     "execution_count": 22,
     "metadata": {},
     "output_type": "execute_result"
    },
    {
     "data": {
      "image/png": "[encoded data removed]",
      "text/plain": [
       "<Figure size 640x480 with 2 Axes>"
      ]
     },
     "metadata": {},
     "output_type": "display_data"
    }
   ],
   "source": [
    "seaborn.set(font_scale=1.5)\n",
    "\n",
    "seaborn.heatmap(TPM, cmap='viridis', vmin=0)"
   ]
  },
  {
   "cell_type": "code",
   "execution_count": 23,
   "metadata": {},
   "outputs": [],
   "source": [
    "# calculate fc for appropriate genes\n",
    "import matplotlib"
   ]
  },
  {
   "cell_type": "code",
   "execution_count": 24,
   "metadata": {},
   "outputs": [
    {
     "data": {
      "image/png": "[encoded data removed]",
      "text/plain": [
       "<Figure size 640x480 with 1 Axes>"
      ]
     },
     "metadata": {},
     "output_type": "display_data"
    }
   ],
   "source": [
    "for ensembl in ensembl_IDs:\n",
    "    \n",
    "    traj = []\n",
    "    \n",
    "    sub_samples = metadata[(metadata['time'] == 'zero') & (metadata['treatment'] == 'zero')]\n",
    "    values = RE.loc[ensembl, sub_samples['sample']].to_list()\n",
    "    traj.append(values)\n",
    "    \n",
    "    sub_samples = metadata[(metadata['time'] == 'four') & (metadata['treatment'] == 'zero')]\n",
    "    values = RE.loc[ensembl, sub_samples['sample']].to_list()\n",
    "    traj.append(values)\n",
    "    \n",
    "    sub_samples = metadata[(metadata['time'] == 'four') & (metadata['treatment'] == 'half')]\n",
    "    values = RE.loc[ensembl, sub_samples['sample']].to_list()\n",
    "    traj.append(values)\n",
    "    \n",
    "    sub_samples = metadata[(metadata['time'] == 'four') & (metadata['treatment'] == 'five')]\n",
    "    values = RE.loc[ensembl, sub_samples['sample']].to_list()\n",
    "    traj.append(values)\n",
    "    \n",
    "    sub_samples = metadata[(metadata['time'] == 'four') & (metadata['treatment'] == 'fifty')]\n",
    "    values = RE.loc[ensembl, sub_samples['sample']].to_list()\n",
    "    traj.append(values)\n",
    "    \n",
    "    \n",
    "\n",
    "    sub_samples = metadata[(metadata['time'] == 'twentyfour') & (metadata['treatment'] == 'zero')]\n",
    "    values = RE.loc[ensembl, sub_samples['sample']].to_list()\n",
    "    traj.append(values)\n",
    "    \n",
    "    sub_samples = metadata[(metadata['time'] == 'twentyfour') & (metadata['treatment'] == 'half')]\n",
    "    values = RE.loc[ensembl, sub_samples['sample']].to_list()\n",
    "    traj.append(values)\n",
    "    \n",
    "    sub_samples = metadata[(metadata['time'] == 'twentyfour') & (metadata['treatment'] == 'five')]\n",
    "    values = RE.loc[ensembl, sub_samples['sample']].to_list()\n",
    "    traj.append(values)\n",
    "    \n",
    "    sub_samples = metadata[(metadata['time'] == 'twentyfour') & (metadata['treatment'] == 'fifty')]\n",
    "    values = RE.loc[ensembl, sub_samples['sample']].to_list()\n",
    "    traj.append(values)\n",
    "    \n",
    "    \n",
    "    matplotlib.pyplot.boxplot(traj)\n",
    "    matplotlib.pyplot.xticks([1, 2, 3, 4, 5, 6, 7, 8, 9], ['T0|C0', 'T4|C0', 'T4|C0.5', 'T4|C5', 'T4|C50', 'T24|C0', 'T24|C0.5', 'T24|C5', 'T24|C50'], rotation=90)\n",
    "    matplotlib.pyplot.ylabel('Expression (TPM)')\n",
    "    matplotlib.pyplot.title(reverse_names[ensembl])\n",
    "    matplotlib.pyplot.show()"
   ]
  },
  {
   "cell_type": "code",
   "execution_count": null,
   "metadata": {},
   "outputs": [],
   "source": []
  }
 ],
 "metadata": {
  "kernelspec": {
   "display_name": "Python 3 (ipykernel)",
   "language": "python",
   "name": "python3"
  },
  "language_info": {
   "codemirror_mode": {
    "name": "ipython",
    "version": 3
   },
   "file_extension": ".py",
   "mimetype": "text/x-python",
   "name": "python",
   "nbconvert_exporter": "python",
   "pygments_lexer": "ipython3",
   "version": "3.9.16"
  }
 },
 "nbformat": 4,
 "nbformat_minor": 4
}
