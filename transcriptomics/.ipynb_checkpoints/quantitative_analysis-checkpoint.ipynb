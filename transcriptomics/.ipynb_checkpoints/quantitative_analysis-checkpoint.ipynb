{
 "cells": [
  {
   "cell_type": "code",
   "execution_count": 1,
   "metadata": {},
   "outputs": [],
   "source": [
    "import pandas, seaborn, numpy\n",
    "\n",
    "import matplotlib, matplotlib.pyplot\n",
    "matplotlib.rcParams.update({'font.size':20, 'font.family':'FreeSans', 'xtick.labelsize':20, 'ytick.labelsize':20})\n",
    "\n",
    "import pyensembl\n",
    "annotation = pyensembl.EnsemblRelease(100)"
   ]
  },
  {
   "cell_type": "markdown",
   "metadata": {},
   "source": [
    "# 1. read data"
   ]
  },
  {
   "cell_type": "code",
   "execution_count": 2,
   "metadata": {},
   "outputs": [
    {
     "ename": "FileNotFoundError",
     "evalue": "[Errno 2] No such file or directory: '/home/adrian/projects/vigur/results/deseq2_filtered/strict_union_experiment_three.tsv'",
     "output_type": "error",
     "traceback": [
      "\u001b[0;31m---------------------------------------------------------------------------\u001b[0m",
      "\u001b[0;31mFileNotFoundError\u001b[0m                         Traceback (most recent call last)",
      "\u001b[0;32m<ipython-input-2-7a88ab637b77>\u001b[0m in \u001b[0;36m<module>\u001b[0;34m\u001b[0m\n\u001b[1;32m      1\u001b[0m \u001b[0mdata_file\u001b[0m \u001b[0;34m=\u001b[0m \u001b[0;34m'/home/adrian/projects/vigur/results/deseq2_filtered/strict_union_experiment_three.tsv'\u001b[0m\u001b[0;34m\u001b[0m\u001b[0;34m\u001b[0m\u001b[0m\n\u001b[0;32m----> 2\u001b[0;31m \u001b[0mdf\u001b[0m \u001b[0;34m=\u001b[0m \u001b[0mpandas\u001b[0m\u001b[0;34m.\u001b[0m\u001b[0mread_csv\u001b[0m\u001b[0;34m(\u001b[0m\u001b[0mdata_file\u001b[0m\u001b[0;34m,\u001b[0m \u001b[0msep\u001b[0m\u001b[0;34m=\u001b[0m\u001b[0;34m'\\t'\u001b[0m\u001b[0;34m)\u001b[0m\u001b[0;34m\u001b[0m\u001b[0;34m\u001b[0m\u001b[0m\n\u001b[0m\u001b[1;32m      3\u001b[0m \u001b[0mdf\u001b[0m\u001b[0;34m.\u001b[0m\u001b[0mset_index\u001b[0m\u001b[0;34m(\u001b[0m\u001b[0;34m'gene_name'\u001b[0m\u001b[0;34m,\u001b[0m \u001b[0mdrop\u001b[0m\u001b[0;34m=\u001b[0m\u001b[0;32mTrue\u001b[0m\u001b[0;34m,\u001b[0m \u001b[0minplace\u001b[0m\u001b[0;34m=\u001b[0m\u001b[0;32mTrue\u001b[0m\u001b[0;34m)\u001b[0m\u001b[0;34m\u001b[0m\u001b[0;34m\u001b[0m\u001b[0m\n\u001b[1;32m      4\u001b[0m \u001b[0mdf\u001b[0m\u001b[0;34m.\u001b[0m\u001b[0mdrop\u001b[0m\u001b[0;34m(\u001b[0m\u001b[0mcolumns\u001b[0m\u001b[0;34m=\u001b[0m\u001b[0;34m[\u001b[0m\u001b[0;34m'zero4'\u001b[0m\u001b[0;34m,\u001b[0m \u001b[0;34m'zero24'\u001b[0m\u001b[0;34m]\u001b[0m\u001b[0;34m,\u001b[0m \u001b[0minplace\u001b[0m\u001b[0;34m=\u001b[0m\u001b[0;32mTrue\u001b[0m\u001b[0;34m)\u001b[0m\u001b[0;34m\u001b[0m\u001b[0;34m\u001b[0m\u001b[0m\n\u001b[1;32m      5\u001b[0m \u001b[0mdf\u001b[0m\u001b[0;34m.\u001b[0m\u001b[0mdrop\u001b[0m\u001b[0;34m(\u001b[0m\u001b[0mcolumns\u001b[0m\u001b[0;34m=\u001b[0m\u001b[0;34m[\u001b[0m\u001b[0;34m'half24'\u001b[0m\u001b[0;34m,\u001b[0m \u001b[0;34m'five24'\u001b[0m\u001b[0;34m,\u001b[0m \u001b[0;34m'fifty24'\u001b[0m\u001b[0;34m]\u001b[0m\u001b[0;34m,\u001b[0m \u001b[0minplace\u001b[0m\u001b[0;34m=\u001b[0m\u001b[0;32mTrue\u001b[0m\u001b[0;34m)\u001b[0m\u001b[0;34m\u001b[0m\u001b[0;34m\u001b[0m\u001b[0m\n",
      "\u001b[0;32m~/anaconda3/lib/python3.7/site-packages/pandas/io/parsers.py\u001b[0m in \u001b[0;36mread_csv\u001b[0;34m(filepath_or_buffer, sep, delimiter, header, names, index_col, usecols, squeeze, prefix, mangle_dupe_cols, dtype, engine, converters, true_values, false_values, skipinitialspace, skiprows, skipfooter, nrows, na_values, keep_default_na, na_filter, verbose, skip_blank_lines, parse_dates, infer_datetime_format, keep_date_col, date_parser, dayfirst, cache_dates, iterator, chunksize, compression, thousands, decimal, lineterminator, quotechar, quoting, doublequote, escapechar, comment, encoding, dialect, error_bad_lines, warn_bad_lines, delim_whitespace, low_memory, memory_map, float_precision)\u001b[0m\n\u001b[1;32m    684\u001b[0m     )\n\u001b[1;32m    685\u001b[0m \u001b[0;34m\u001b[0m\u001b[0m\n\u001b[0;32m--> 686\u001b[0;31m     \u001b[0;32mreturn\u001b[0m \u001b[0m_read\u001b[0m\u001b[0;34m(\u001b[0m\u001b[0mfilepath_or_buffer\u001b[0m\u001b[0;34m,\u001b[0m \u001b[0mkwds\u001b[0m\u001b[0;34m)\u001b[0m\u001b[0;34m\u001b[0m\u001b[0;34m\u001b[0m\u001b[0m\n\u001b[0m\u001b[1;32m    687\u001b[0m \u001b[0;34m\u001b[0m\u001b[0m\n\u001b[1;32m    688\u001b[0m \u001b[0;34m\u001b[0m\u001b[0m\n",
      "\u001b[0;32m~/anaconda3/lib/python3.7/site-packages/pandas/io/parsers.py\u001b[0m in \u001b[0;36m_read\u001b[0;34m(filepath_or_buffer, kwds)\u001b[0m\n\u001b[1;32m    450\u001b[0m \u001b[0;34m\u001b[0m\u001b[0m\n\u001b[1;32m    451\u001b[0m     \u001b[0;31m# Create the parser.\u001b[0m\u001b[0;34m\u001b[0m\u001b[0;34m\u001b[0m\u001b[0;34m\u001b[0m\u001b[0m\n\u001b[0;32m--> 452\u001b[0;31m     \u001b[0mparser\u001b[0m \u001b[0;34m=\u001b[0m \u001b[0mTextFileReader\u001b[0m\u001b[0;34m(\u001b[0m\u001b[0mfp_or_buf\u001b[0m\u001b[0;34m,\u001b[0m \u001b[0;34m**\u001b[0m\u001b[0mkwds\u001b[0m\u001b[0;34m)\u001b[0m\u001b[0;34m\u001b[0m\u001b[0;34m\u001b[0m\u001b[0m\n\u001b[0m\u001b[1;32m    453\u001b[0m \u001b[0;34m\u001b[0m\u001b[0m\n\u001b[1;32m    454\u001b[0m     \u001b[0;32mif\u001b[0m \u001b[0mchunksize\u001b[0m \u001b[0;32mor\u001b[0m \u001b[0miterator\u001b[0m\u001b[0;34m:\u001b[0m\u001b[0;34m\u001b[0m\u001b[0;34m\u001b[0m\u001b[0m\n",
      "\u001b[0;32m~/anaconda3/lib/python3.7/site-packages/pandas/io/parsers.py\u001b[0m in \u001b[0;36m__init__\u001b[0;34m(self, f, engine, **kwds)\u001b[0m\n\u001b[1;32m    944\u001b[0m             \u001b[0mself\u001b[0m\u001b[0;34m.\u001b[0m\u001b[0moptions\u001b[0m\u001b[0;34m[\u001b[0m\u001b[0;34m\"has_index_names\"\u001b[0m\u001b[0;34m]\u001b[0m \u001b[0;34m=\u001b[0m \u001b[0mkwds\u001b[0m\u001b[0;34m[\u001b[0m\u001b[0;34m\"has_index_names\"\u001b[0m\u001b[0;34m]\u001b[0m\u001b[0;34m\u001b[0m\u001b[0;34m\u001b[0m\u001b[0m\n\u001b[1;32m    945\u001b[0m \u001b[0;34m\u001b[0m\u001b[0m\n\u001b[0;32m--> 946\u001b[0;31m         \u001b[0mself\u001b[0m\u001b[0;34m.\u001b[0m\u001b[0m_make_engine\u001b[0m\u001b[0;34m(\u001b[0m\u001b[0mself\u001b[0m\u001b[0;34m.\u001b[0m\u001b[0mengine\u001b[0m\u001b[0;34m)\u001b[0m\u001b[0;34m\u001b[0m\u001b[0;34m\u001b[0m\u001b[0m\n\u001b[0m\u001b[1;32m    947\u001b[0m \u001b[0;34m\u001b[0m\u001b[0m\n\u001b[1;32m    948\u001b[0m     \u001b[0;32mdef\u001b[0m \u001b[0mclose\u001b[0m\u001b[0;34m(\u001b[0m\u001b[0mself\u001b[0m\u001b[0;34m)\u001b[0m\u001b[0;34m:\u001b[0m\u001b[0;34m\u001b[0m\u001b[0;34m\u001b[0m\u001b[0m\n",
      "\u001b[0;32m~/anaconda3/lib/python3.7/site-packages/pandas/io/parsers.py\u001b[0m in \u001b[0;36m_make_engine\u001b[0;34m(self, engine)\u001b[0m\n\u001b[1;32m   1176\u001b[0m     \u001b[0;32mdef\u001b[0m \u001b[0m_make_engine\u001b[0m\u001b[0;34m(\u001b[0m\u001b[0mself\u001b[0m\u001b[0;34m,\u001b[0m \u001b[0mengine\u001b[0m\u001b[0;34m=\u001b[0m\u001b[0;34m\"c\"\u001b[0m\u001b[0;34m)\u001b[0m\u001b[0;34m:\u001b[0m\u001b[0;34m\u001b[0m\u001b[0;34m\u001b[0m\u001b[0m\n\u001b[1;32m   1177\u001b[0m         \u001b[0;32mif\u001b[0m \u001b[0mengine\u001b[0m \u001b[0;34m==\u001b[0m \u001b[0;34m\"c\"\u001b[0m\u001b[0;34m:\u001b[0m\u001b[0;34m\u001b[0m\u001b[0;34m\u001b[0m\u001b[0m\n\u001b[0;32m-> 1178\u001b[0;31m             \u001b[0mself\u001b[0m\u001b[0;34m.\u001b[0m\u001b[0m_engine\u001b[0m \u001b[0;34m=\u001b[0m \u001b[0mCParserWrapper\u001b[0m\u001b[0;34m(\u001b[0m\u001b[0mself\u001b[0m\u001b[0;34m.\u001b[0m\u001b[0mf\u001b[0m\u001b[0;34m,\u001b[0m \u001b[0;34m**\u001b[0m\u001b[0mself\u001b[0m\u001b[0;34m.\u001b[0m\u001b[0moptions\u001b[0m\u001b[0;34m)\u001b[0m\u001b[0;34m\u001b[0m\u001b[0;34m\u001b[0m\u001b[0m\n\u001b[0m\u001b[1;32m   1179\u001b[0m         \u001b[0;32melse\u001b[0m\u001b[0;34m:\u001b[0m\u001b[0;34m\u001b[0m\u001b[0;34m\u001b[0m\u001b[0m\n\u001b[1;32m   1180\u001b[0m             \u001b[0;32mif\u001b[0m \u001b[0mengine\u001b[0m \u001b[0;34m==\u001b[0m \u001b[0;34m\"python\"\u001b[0m\u001b[0;34m:\u001b[0m\u001b[0;34m\u001b[0m\u001b[0;34m\u001b[0m\u001b[0m\n",
      "\u001b[0;32m~/anaconda3/lib/python3.7/site-packages/pandas/io/parsers.py\u001b[0m in \u001b[0;36m__init__\u001b[0;34m(self, src, **kwds)\u001b[0m\n\u001b[1;32m   2006\u001b[0m         \u001b[0mkwds\u001b[0m\u001b[0;34m[\u001b[0m\u001b[0;34m\"usecols\"\u001b[0m\u001b[0;34m]\u001b[0m \u001b[0;34m=\u001b[0m \u001b[0mself\u001b[0m\u001b[0;34m.\u001b[0m\u001b[0musecols\u001b[0m\u001b[0;34m\u001b[0m\u001b[0;34m\u001b[0m\u001b[0m\n\u001b[1;32m   2007\u001b[0m \u001b[0;34m\u001b[0m\u001b[0m\n\u001b[0;32m-> 2008\u001b[0;31m         \u001b[0mself\u001b[0m\u001b[0;34m.\u001b[0m\u001b[0m_reader\u001b[0m \u001b[0;34m=\u001b[0m \u001b[0mparsers\u001b[0m\u001b[0;34m.\u001b[0m\u001b[0mTextReader\u001b[0m\u001b[0;34m(\u001b[0m\u001b[0msrc\u001b[0m\u001b[0;34m,\u001b[0m \u001b[0;34m**\u001b[0m\u001b[0mkwds\u001b[0m\u001b[0;34m)\u001b[0m\u001b[0;34m\u001b[0m\u001b[0;34m\u001b[0m\u001b[0m\n\u001b[0m\u001b[1;32m   2009\u001b[0m         \u001b[0mself\u001b[0m\u001b[0;34m.\u001b[0m\u001b[0munnamed_cols\u001b[0m \u001b[0;34m=\u001b[0m \u001b[0mself\u001b[0m\u001b[0;34m.\u001b[0m\u001b[0m_reader\u001b[0m\u001b[0;34m.\u001b[0m\u001b[0munnamed_cols\u001b[0m\u001b[0;34m\u001b[0m\u001b[0;34m\u001b[0m\u001b[0m\n\u001b[1;32m   2010\u001b[0m \u001b[0;34m\u001b[0m\u001b[0m\n",
      "\u001b[0;32mpandas/_libs/parsers.pyx\u001b[0m in \u001b[0;36mpandas._libs.parsers.TextReader.__cinit__\u001b[0;34m()\u001b[0m\n",
      "\u001b[0;32mpandas/_libs/parsers.pyx\u001b[0m in \u001b[0;36mpandas._libs.parsers.TextReader._setup_parser_source\u001b[0;34m()\u001b[0m\n",
      "\u001b[0;31mFileNotFoundError\u001b[0m: [Errno 2] No such file or directory: '/home/adrian/projects/vigur/results/deseq2_filtered/strict_union_experiment_three.tsv'"
     ]
    }
   ],
   "source": [
    "data_file = '/home/adrian/projects/vigur/results/transcriptomics/deseq2_filtered/strict_union_experiment_three.tsv'\n",
    "df = pandas.read_csv(data_file, sep='\\t')\n",
    "df.set_index('gene_name', drop=True, inplace=True)\n",
    "df.drop(columns=['zero4', 'zero24'], inplace=True)\n",
    "df.drop(columns=['half24', 'five24', 'fifty24'], inplace=True)\n",
    "df = df[df.abs().max(axis=1) >= 0.5]\n",
    "\n",
    "df.shape"
   ]
  },
  {
   "cell_type": "markdown",
   "metadata": {},
   "source": [
    "# 2. plot data"
   ]
  },
  {
   "cell_type": "code",
   "execution_count": null,
   "metadata": {},
   "outputs": [],
   "source": [
    "fig = matplotlib.pyplot.figure(figsize=1.4*numpy.array([6.4, 4.8]))\n",
    "ax = fig.add_subplot(1,1,1)\n",
    "o = ax.pcolor(df, cmap='bwr', vmin=-3.5, vmax=3.5)\n",
    "\n",
    "fig.gca().invert_yaxis()\n",
    "\n",
    "fig.colorbar(o, ax=ax)\n",
    "fig.tight_layout()\n",
    "\n",
    "matplotlib.pyplot.savefig('original.svg')"
   ]
  },
  {
   "cell_type": "markdown",
   "metadata": {},
   "source": [
    "# 3. cluster data using seaborn"
   ]
  },
  {
   "cell_type": "code",
   "execution_count": null,
   "metadata": {},
   "outputs": [],
   "source": [
    "seaborn.clustermap(df, cmap='bwr', vmin=-3, vmax=3, method='ward')\n",
    "\n",
    "matplotlib.pyplot.savefig('seaborn_clustered.svg')"
   ]
  },
  {
   "cell_type": "markdown",
   "metadata": {},
   "source": [
    "# 4. qualitative clustering"
   ]
  },
  {
   "cell_type": "code",
   "execution_count": null,
   "metadata": {
    "scrolled": false
   },
   "outputs": [],
   "source": [
    "up = df[df.sum(axis=1) > 0]\n",
    "print(up.shape)\n",
    "for ensembl in up.index:\n",
    "    try:\n",
    "        name = annotation.gene_name_of_gene_id(ensembl)\n",
    "    except:\n",
    "        name = ensembl\n",
    "        #print('***', ensembl)\n",
    "    #print('up', up[ensembl], ensembl, name)\n",
    "    print(ensembl)"
   ]
  },
  {
   "cell_type": "markdown",
   "metadata": {},
   "source": [
    "## 4.1. group selection"
   ]
  },
  {
   "cell_type": "code",
   "execution_count": null,
   "metadata": {},
   "outputs": [],
   "source": [
    "pos1 = df.loc[(df['half4'] > 0) & (df['five4'] > 0) & (df['fifty4'] > 0)]\n",
    "pos1['sum'] = pos1.sum(axis=1)\n",
    "pos1.sort_values(by=['sum'], inplace=True, ascending=False)\n",
    "\n",
    "gene_names = []\n",
    "for ensembl in pos1.index:\n",
    "    try:\n",
    "        name = annotation.gene_name_of_gene_id(ensembl)\n",
    "    except:\n",
    "        name = ensembl\n",
    "    gene_names.append(name)\n",
    "pos1['names'] = gene_names\n",
    "\n",
    "print(pos1.shape)\n",
    "print(list(pos1['names']))\n",
    "pos1.head(50)"
   ]
  },
  {
   "cell_type": "code",
   "execution_count": null,
   "metadata": {},
   "outputs": [],
   "source": [
    "pos2 = df.loc[(df['half4'] > 0) & (df['five4'] > 0) & (df['fifty4'] <= 0)]\n",
    "pos2['sum'] = pos2.sum(axis=1)\n",
    "pos2.sort_values(by=['sum'], inplace=True, ascending=False)\n",
    "\n",
    "gene_names = []\n",
    "for ensembl in pos2.index:\n",
    "    try:\n",
    "        name = annotation.gene_name_of_gene_id(ensembl)\n",
    "    except:\n",
    "        name = ensembl\n",
    "    gene_names.append(name)\n",
    "pos2['names'] = gene_names\n",
    "\n",
    "print(pos2.shape)\n",
    "pos2.head()"
   ]
  },
  {
   "cell_type": "code",
   "execution_count": null,
   "metadata": {},
   "outputs": [],
   "source": [
    "pos3 = df.loc[(df['half4'] <= 0) & (df['five4'] > 0) & (df['fifty4'] > 0)]\n",
    "pos3['sum'] = pos3.sum(axis=1)\n",
    "pos3.sort_values(by=['sum'], inplace=True, ascending=False)\n",
    "\n",
    "gene_names = []\n",
    "for ensembl in pos3.index:\n",
    "    try:\n",
    "        name = annotation.gene_name_of_gene_id(ensembl)\n",
    "    except:\n",
    "        name = ensembl\n",
    "    gene_names.append(name)\n",
    "pos3['names'] = gene_names\n",
    "\n",
    "print(pos3.shape)\n",
    "pos3.head()"
   ]
  },
  {
   "cell_type": "code",
   "execution_count": null,
   "metadata": {},
   "outputs": [],
   "source": [
    "pos4 = df.loc[(df['half4'] > 0) & (df['five4'] <= 0) & (df['fifty4'] > 0)]\n",
    "pos4['sum'] = pos4.sum(axis=1)\n",
    "pos4.sort_values(by=['sum'], inplace=True, ascending=False)\n",
    "\n",
    "gene_names = []\n",
    "for ensembl in pos4.index:\n",
    "    try:\n",
    "        name = annotation.gene_name_of_gene_id(ensembl)\n",
    "    except:\n",
    "        name = ensembl\n",
    "    gene_names.append(name)\n",
    "pos4['names'] = gene_names\n",
    "\n",
    "print(pos4.shape)\n",
    "pos4.head(10)"
   ]
  },
  {
   "cell_type": "code",
   "execution_count": null,
   "metadata": {},
   "outputs": [],
   "source": [
    "pos5 = df.loc[(df['half4'] > 0) & (df['five4'] <= 0) & (df['fifty4'] <= 0)]\n",
    "pos5['sum'] = pos5.sum(axis=1)\n",
    "pos5.sort_values(by=['sum'], inplace=True, ascending=False)\n",
    "\n",
    "gene_names = []\n",
    "for ensembl in pos5.index:\n",
    "    try:\n",
    "        name = annotation.gene_name_of_gene_id(ensembl)\n",
    "    except:\n",
    "        name = ensembl\n",
    "    gene_names.append(name)\n",
    "pos5['names'] = gene_names\n",
    "\n",
    "print(pos5.shape)\n",
    "print(list(pos5.index))\n",
    "pos5.head(20)"
   ]
  },
  {
   "cell_type": "code",
   "execution_count": null,
   "metadata": {},
   "outputs": [],
   "source": [
    "pos6 = df.loc[(df['half4'] <= 0) & (df['five4'] > 0) & (df['fifty4'] <= 0)]\n",
    "pos6['sum'] = pos6.sum(axis=1)\n",
    "pos6.sort_values(by=['sum'], inplace=True, ascending=False)\n",
    "\n",
    "gene_names = []\n",
    "for ensembl in pos6.index:\n",
    "    try:\n",
    "        name = annotation.gene_name_of_gene_id(ensembl)\n",
    "    except:\n",
    "        name = ensembl\n",
    "    gene_names.append(name)\n",
    "pos6['names'] = gene_names\n",
    "\n",
    "print(list(pos6.index))\n",
    "print(pos6.shape)\n",
    "pos6.head(25)"
   ]
  },
  {
   "cell_type": "code",
   "execution_count": null,
   "metadata": {},
   "outputs": [],
   "source": [
    "pos7 = df.loc[(df['half4'] <= 0) & (df['five4'] <= 0) & (df['fifty4'] > 0)]\n",
    "pos7['sum'] = pos7.sum(axis=1)\n",
    "pos7.sort_values(by=['sum'], inplace=True, ascending=False)\n",
    "\n",
    "gene_names = []\n",
    "for ensembl in pos7.index:\n",
    "    try:\n",
    "        name = annotation.gene_name_of_gene_id(ensembl)\n",
    "    except:\n",
    "        name = ensembl\n",
    "    gene_names.append(name)\n",
    "pos7['names'] = gene_names\n",
    "\n",
    "print(pos7.shape)\n",
    "print(list(pos7.index))\n",
    "pos7.head(20)"
   ]
  },
  {
   "cell_type": "code",
   "execution_count": null,
   "metadata": {},
   "outputs": [],
   "source": [
    "neg1 = df.loc[(df['half4'] >= 0) & (df['five4'] >= 0) & (df['fifty4'] < 0)]\n",
    "neg1['sum'] = neg1.sum(axis=1)\n",
    "neg1.sort_values(by=['sum'], inplace=True, ascending=False)\n",
    "\n",
    "gene_names = []\n",
    "for ensembl in neg1.index:\n",
    "    try:\n",
    "        name = annotation.gene_name_of_gene_id(ensembl)\n",
    "    except:\n",
    "        name = ensembl\n",
    "    gene_names.append(name)\n",
    "neg1['names'] = gene_names\n",
    "\n",
    "print(neg1.shape)\n",
    "neg1.head(20)"
   ]
  },
  {
   "cell_type": "code",
   "execution_count": null,
   "metadata": {},
   "outputs": [],
   "source": [
    "neg2 = df.loc[(df['half4'] >= 0) & (df['five4'] < 0) & (df['fifty4'] >= 0)]\n",
    "neg2['sum'] = neg2.sum(axis=1)\n",
    "neg2.sort_values(by=['sum'], inplace=True, ascending=False)\n",
    "\n",
    "gene_names = []\n",
    "for ensembl in neg2.index:\n",
    "    try:\n",
    "        name = annotation.gene_name_of_gene_id(ensembl)\n",
    "    except:\n",
    "        name = ensembl\n",
    "    gene_names.append(name)\n",
    "neg2['names'] = gene_names\n",
    "\n",
    "print(neg2.shape)\n",
    "neg2.head(15)"
   ]
  },
  {
   "cell_type": "code",
   "execution_count": null,
   "metadata": {},
   "outputs": [],
   "source": [
    "neg3 = df.loc[(df['half4'] < 0) & (df['five4'] >= 0) & (df['fifty4'] >= 0)]\n",
    "neg3['sum'] = neg3.sum(axis=1)\n",
    "neg3.sort_values(by=['sum'], inplace=True, ascending=False)\n",
    "\n",
    "gene_names = []\n",
    "for ensembl in neg3.index:\n",
    "    try:\n",
    "        name = annotation.gene_name_of_gene_id(ensembl)\n",
    "    except:\n",
    "        name = ensembl\n",
    "    gene_names.append(name)\n",
    "neg3['names'] = gene_names\n",
    "\n",
    "print(neg3.shape)\n",
    "neg3.head(10)"
   ]
  },
  {
   "cell_type": "code",
   "execution_count": null,
   "metadata": {},
   "outputs": [],
   "source": [
    "neg4 = df.loc[(df['half4'] < 0) & (df['five4'] >= 0) & (df['fifty4'] < 0)]\n",
    "neg4['sum'] = neg4.sum(axis=1)\n",
    "neg4.sort_values(by=['sum'], inplace=True, ascending=False)\n",
    "\n",
    "gene_names = []\n",
    "for ensembl in neg4.index:\n",
    "    try:\n",
    "        name = annotation.gene_name_of_gene_id(ensembl)\n",
    "    except:\n",
    "        name = ensembl\n",
    "    gene_names.append(name)\n",
    "neg4['names'] = gene_names\n",
    "\n",
    "print(neg4.shape)\n",
    "neg4.head()"
   ]
  },
  {
   "cell_type": "code",
   "execution_count": null,
   "metadata": {},
   "outputs": [],
   "source": [
    "neg5 = df.loc[(df['half4'] >= 0) & (df['five4'] < 0) & (df['fifty4'] < 0)]\n",
    "neg5['sum'] = neg5.sum(axis=1)\n",
    "neg5.sort_values(by=['sum'], inplace=True, ascending=False)\n",
    "\n",
    "gene_names = []\n",
    "for ensembl in neg5.index:\n",
    "    try:\n",
    "        name = annotation.gene_name_of_gene_id(ensembl)\n",
    "    except:\n",
    "        name = ensembl\n",
    "    gene_names.append(name)\n",
    "neg5['names'] = gene_names\n",
    "\n",
    "print(neg5.shape)\n",
    "for name in gene_names:\n",
    "    print(name)\n",
    "neg5.head(10)"
   ]
  },
  {
   "cell_type": "code",
   "execution_count": null,
   "metadata": {},
   "outputs": [],
   "source": [
    "neg6 = df.loc[(df['half4'] < 0) & (df['five4'] < 0) & (df['fifty4'] >= 0)]\n",
    "neg6['sum'] = neg6.sum(axis=1)\n",
    "neg6.sort_values(by=['sum'], inplace=True, ascending=False)\n",
    "\n",
    "gene_names = []\n",
    "for ensembl in neg6.index:\n",
    "    try:\n",
    "        name = annotation.gene_name_of_gene_id(ensembl)\n",
    "    except:\n",
    "        name = ensembl\n",
    "    gene_names.append(name)\n",
    "neg6['names'] = gene_names\n",
    "\n",
    "print(neg6.shape)\n",
    "print(', '.join(gene_names))\n",
    "neg6.head(10)"
   ]
  },
  {
   "cell_type": "code",
   "execution_count": null,
   "metadata": {},
   "outputs": [],
   "source": [
    "neg7 = df.loc[(df['half4'] < 0) & (df['five4'] < 0) & (df['fifty4'] < 0)]\n",
    "neg7['sum'] = neg7.sum(axis=1)\n",
    "neg7.sort_values(by=['sum'], inplace=True, ascending=False)\n",
    "\n",
    "gene_names = []\n",
    "for ensembl in neg7.index:\n",
    "    try:\n",
    "        name = annotation.gene_name_of_gene_id(ensembl)\n",
    "    except:\n",
    "        name = ensembl\n",
    "    gene_names.append(name)\n",
    "neg7['names'] = gene_names\n",
    "\n",
    "print(neg7.shape)\n",
    "for name in gene_names:\n",
    "    print(name)\n",
    "neg7.head(10)"
   ]
  },
  {
   "cell_type": "markdown",
   "metadata": {},
   "source": [
    "## 4.2. re-order and plot"
   ]
  },
  {
   "cell_type": "code",
   "execution_count": null,
   "metadata": {},
   "outputs": [],
   "source": [
    "order_pos = list(pos1.index) + list(pos2.index) + list(pos3.index) + list(pos4.index) + list(pos5.index) + list(pos6.index) + list(pos7.index)\n",
    "order_neg = list(neg1.index) + list(neg2.index) + list(neg3.index) + list(neg4.index) + list(neg5.index) + list(neg6.index) + list(neg7.index)\n",
    "order = order_pos + order_neg\n",
    "\n",
    "ordered = df.loc[order, :]\n",
    "\n",
    "print(df.min(), df.max())"
   ]
  },
  {
   "cell_type": "code",
   "execution_count": null,
   "metadata": {},
   "outputs": [],
   "source": [
    "fig = matplotlib.pyplot.figure(figsize=1.5*numpy.array([6.4, 4.8]))\n",
    "ax = fig.add_subplot(1,1,1)\n",
    "\n",
    "heatmap = ax.pcolor(ordered, cmap='bwr', vmin=-5, vmax=5)\n",
    "\n",
    "# invert y-axis\n",
    "fig.gca().invert_yaxis()\n",
    "\n",
    "# scale bar\n",
    "cbar = fig.colorbar(heatmap, ax=ax)\n",
    "cbar.set_label('log2FC', rotation=90)\n",
    "\n",
    "# shift the x major ticks at the middle of each cell\n",
    "ax.set_xticks(numpy.arange(ordered.shape[1]) + 0.5)\n",
    "\n",
    "# define x labels\n",
    "ax.set_xticklabels(df.columns)\n",
    "\n",
    "# define y labels\n",
    "gene_names = []\n",
    "for ensembl in list(df.index):\n",
    "    try:\n",
    "        gene_name = annotation.gene_name_of_gene_id(ensembl)\n",
    "    except:\n",
    "        gene_name = ensembl\n",
    "    gene_names.append(gene_name)\n",
    "    \n",
    "selected_positions = numpy.arange(0,len(gene_names), 3)\n",
    "selected_labels = [gene_names[i] for i in selected_positions]\n",
    "\n",
    "ax.set_yticks(selected_positions)\n",
    "ax.set_yticklabels(selected_labels, fontsize=8)\n",
    "\n",
    "# tight layout\n",
    "fig.tight_layout()\n",
    "\n",
    "# save\n",
    "fig.savefig('heatmap.svg')"
   ]
  },
  {
   "cell_type": "markdown",
   "metadata": {},
   "source": [
    "# 4.3 make the group bar"
   ]
  },
  {
   "cell_type": "code",
   "execution_count": null,
   "metadata": {},
   "outputs": [],
   "source": [
    "groups = {}\n",
    "\n",
    "group_data = []\n",
    "positive_sizes = [len(pos1.index), len(pos2.index), len(pos3.index), len(pos4.index), len(pos5.index), len(pos6.index), len(pos7.index)]\n",
    "negative_sizes = [len(neg1.index), len(neg2.index), len(neg3.index), len(neg4.index), len(neg5.index), len(neg6.index), len(neg7.index)]\n",
    "sizes = positive_sizes + negative_sizes\n",
    "for i in range(len(sizes)):\n",
    "    for j in range(sizes[i]):\n",
    "        group_data.append(i+1)\n",
    "print(group_data, len(group_data))\n",
    "\n",
    "groups['types'] = group_data\n",
    "gp = pandas.DataFrame(groups)"
   ]
  },
  {
   "cell_type": "code",
   "execution_count": null,
   "metadata": {},
   "outputs": [],
   "source": [
    "fig = matplotlib.pyplot.figure(figsize=1.5*numpy.array([6.4, 4.8]))\n",
    "ax = fig.add_subplot(1,1,1)\n",
    "heatmap = ax.pcolor(gp, cmap='tab20')\n",
    "\n",
    "# invert y-axis\n",
    "fig.gca().invert_yaxis()\n",
    "\n",
    "matplotlib.pyplot.axis('off')\n",
    "matplotlib.pyplot.savefig('bar.svg')"
   ]
  },
  {
   "cell_type": "markdown",
   "metadata": {},
   "source": [
    " "
   ]
  }
 ],
 "metadata": {
  "kernelspec": {
   "display_name": "Python 3",
   "language": "python",
   "name": "python3"
  },
  "language_info": {
   "codemirror_mode": {
    "name": "ipython",
    "version": 3
   },
   "file_extension": ".py",
   "mimetype": "text/x-python",
   "name": "python",
   "nbconvert_exporter": "python",
   "pygments_lexer": "ipython3",
   "version": "3.7.9"
  }
 },
 "nbformat": 4,
 "nbformat_minor": 4
}
