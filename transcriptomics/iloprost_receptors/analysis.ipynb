{
 "cells": [
  {
   "cell_type": "code",
   "execution_count": null,
   "metadata": {},
   "outputs": [],
   "source": [
    "#Iloprost had high binding affinity for EP1 and IP receptors (Ki 1.1 and 3.9 nM, respectively), low affinity for FP, EP3 or EP4 receptors, and very low affinity for EP2, DP1 or TP receptors. "
   ]
  },
  {
   "cell_type": "code",
   "execution_count": null,
   "metadata": {},
   "outputs": [],
   "source": [
    "# While Iloprost is an analog of PGI2 that activates PGI2's receptor, the Prostacyclin receptor, to stimulate vasodilation, it has little selectivity in that it binds to and activates all four receptors for prostaglandin E2 viz., Prostaglandin EP1 receptor, Prostaglandin EP2 receptor, Prostaglandin EP3 receptor, and Prostaglandin EP4 receptor.[2] Activation of the EP2 and EP4 receptors cause vasodilation but activation of the EP3 receptor causes vasoconstriction."
   ]
  },
  {
   "cell_type": "code",
   "execution_count": null,
   "metadata": {},
   "outputs": [],
   "source": []
  }
 ],
 "metadata": {
  "kernelspec": {
   "display_name": "Python 3",
   "language": "python",
   "name": "python3"
  },
  "language_info": {
   "codemirror_mode": {
    "name": "ipython",
    "version": 3
   },
   "file_extension": ".py",
   "mimetype": "text/x-python",
   "name": "python",
   "nbconvert_exporter": "python",
   "pygments_lexer": "ipython3",
   "version": "3.8.5"
  }
 },
 "nbformat": 4,
 "nbformat_minor": 4
}
