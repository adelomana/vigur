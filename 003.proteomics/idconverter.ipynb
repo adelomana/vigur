{
 "cells": [
  {
   "cell_type": "code",
   "execution_count": 1,
   "id": "497ea37b-da9e-4f54-bc2e-1e55f75b60f4",
   "metadata": {},
   "outputs": [],
   "source": [
    "import pandas, os"
   ]
  },
  {
   "cell_type": "code",
   "execution_count": 2,
   "id": "091b0482-a74b-44a2-b653-fd250ef3a803",
   "metadata": {},
   "outputs": [],
   "source": [
    "input_file = '230117_Arnar.lfq.proteins_From_Gudrun.xlsx'"
   ]
  },
  {
   "cell_type": "code",
   "execution_count": 3,
   "id": "e4867a51-3260-4659-a402-8aaf91e10ec2",
   "metadata": {},
   "outputs": [
    {
     "name": "stdout",
     "output_type": "stream",
     "text": [
      "7841 7841\n"
     ]
    }
   ],
   "source": [
    "df = pandas.read_excel(input_file)\n",
    "proteins = list(df['Accession'])\n",
    "uniprotids = [element.split('|')[0] for element in proteins]\n",
    "protein_names = [element.split('|')[1] for element in proteins]\n",
    "print(len(uniprotids), len(protein_names))"
   ]
  },
  {
   "cell_type": "markdown",
   "id": "348a9d8a-f9b9-4502-b327-6be615e72b03",
   "metadata": {},
   "source": [
    "# the data for uniprot ids"
   ]
  },
  {
   "cell_type": "code",
   "execution_count": 4,
   "id": "030b1209-99c9-4392-bf9c-89a2dbde4448",
   "metadata": {},
   "outputs": [
    {
     "name": "stderr",
     "output_type": "stream",
     "text": [
      "Warning: Trailing data after quoted form parameter\n",
      "  % Total    % Received % Xferd  Average Speed   Time    Time     Time  Current\n",
      "                                 Dload  Upload   Total   Spent    Left  Speed\n",
      "  0     0    0     0    0     0      0      0 --:--:-- --:--:-- --:--:--     0"
     ]
    },
    {
     "name": "stdout",
     "output_type": "stream",
     "text": [
      "{\"jobId\":\"68464d18e01d7b6ba22dc64596da3e48d28ad510\"}"
     ]
    },
    {
     "name": "stderr",
     "output_type": "stream",
     "text": [
      "100 67361    0    52  100 67309    114   145k --:--:-- --:--:-- --:--:--  145k\n"
     ]
    },
    {
     "data": {
      "text/plain": [
       "0"
      ]
     },
     "execution_count": 4,
     "metadata": {},
     "output_type": "execute_result"
    }
   ],
   "source": [
    "id_list = \", \".join(uniprotids)\n",
    "call_head = \"curl --form 'from=\\\"UniProtKB_AC-ID\\\"' --form 'to=\\\"Ensembl\\\"' --form 'ids=\\\"Accession, {}\\\"mi inpu' https://rest.uniprot.org/idmapping/run\".format(id_list)\n",
    "os.system(call_head)"
   ]
  },
  {
   "cell_type": "code",
   "execution_count": 5,
   "id": "516f5b1b-fedd-49ff-8de4-cb5b417b3d15",
   "metadata": {},
   "outputs": [
    {
     "name": "stdout",
     "output_type": "stream",
     "text": [
      "--2024-10-29 15:55:23--  https://rest.uniprot.org/idmapping/stream/68464d18e01d7b6ba22dc64596da3e48d28ad510?format=tsv\n",
      "Resolving rest.uniprot.org (rest.uniprot.org)... 193.62.193.81\n",
      "Connecting to rest.uniprot.org (rest.uniprot.org)|193.62.193.81|:443... connected.\n",
      "HTTP request sent, awaiting response... 200 \n",
      "Length: unspecified [text/plain]\n",
      "Saving to: ‘returnedfilea.tsv’\n",
      "\n",
      "returnedfilea.tsv       [   <=>              ] 215.30K   403KB/s    in 0.5s    \n",
      "\n",
      "2024-10-29 15:55:24 (403 KB/s) - ‘returnedfilea.tsv’ saved [220466]\n",
      "\n"
     ]
    },
    {
     "data": {
      "text/html": [
       "<div>\n",
       "<style scoped>\n",
       "    .dataframe tbody tr th:only-of-type {\n",
       "        vertical-align: middle;\n",
       "    }\n",
       "\n",
       "    .dataframe tbody tr th {\n",
       "        vertical-align: top;\n",
       "    }\n",
       "\n",
       "    .dataframe thead th {\n",
       "        text-align: right;\n",
       "    }\n",
       "</style>\n",
       "<table border=\"1\" class=\"dataframe\">\n",
       "  <thead>\n",
       "    <tr style=\"text-align: right;\">\n",
       "      <th></th>\n",
       "      <th>uniprot</th>\n",
       "    </tr>\n",
       "    <tr>\n",
       "      <th>To</th>\n",
       "      <th></th>\n",
       "    </tr>\n",
       "  </thead>\n",
       "  <tbody>\n",
       "    <tr>\n",
       "      <th>ENSG00000119335.18</th>\n",
       "      <td>Q01105</td>\n",
       "    </tr>\n",
       "    <tr>\n",
       "      <th>ENSG00000035687.10</th>\n",
       "      <td>P30520</td>\n",
       "    </tr>\n",
       "    <tr>\n",
       "      <th>ENSG00000088682.14</th>\n",
       "      <td>H3BSJ5</td>\n",
       "    </tr>\n",
       "    <tr>\n",
       "      <th>ENSG00000005007.14</th>\n",
       "      <td>Q92900</td>\n",
       "    </tr>\n",
       "    <tr>\n",
       "      <th>ENSG00000124641.16</th>\n",
       "      <td>B7ZBQ3</td>\n",
       "    </tr>\n",
       "    <tr>\n",
       "      <th>...</th>\n",
       "      <td>...</td>\n",
       "    </tr>\n",
       "    <tr>\n",
       "      <th>ENSG00000127603.32</th>\n",
       "      <td>E9PLY5</td>\n",
       "    </tr>\n",
       "    <tr>\n",
       "      <th>ENSG00000106462.12</th>\n",
       "      <td>Q15910</td>\n",
       "    </tr>\n",
       "    <tr>\n",
       "      <th>ENSG00000105664.11</th>\n",
       "      <td>G3XAP6</td>\n",
       "    </tr>\n",
       "    <tr>\n",
       "      <th>ENSG00000143158.11</th>\n",
       "      <td>O95563</td>\n",
       "    </tr>\n",
       "    <tr>\n",
       "      <th>ENSG00000105640.13</th>\n",
       "      <td>Q02543</td>\n",
       "    </tr>\n",
       "  </tbody>\n",
       "</table>\n",
       "<p>8390 rows × 1 columns</p>\n",
       "</div>"
      ],
      "text/plain": [
       "                   uniprot\n",
       "To                        \n",
       "ENSG00000119335.18  Q01105\n",
       "ENSG00000035687.10  P30520\n",
       "ENSG00000088682.14  H3BSJ5\n",
       "ENSG00000005007.14  Q92900\n",
       "ENSG00000124641.16  B7ZBQ3\n",
       "...                    ...\n",
       "ENSG00000127603.32  E9PLY5\n",
       "ENSG00000106462.12  Q15910\n",
       "ENSG00000105664.11  G3XAP6\n",
       "ENSG00000143158.11  O95563\n",
       "ENSG00000105640.13  Q02543\n",
       "\n",
       "[8390 rows x 1 columns]"
      ]
     },
     "execution_count": 5,
     "metadata": {},
     "output_type": "execute_result"
    }
   ],
   "source": [
    "!wget https://rest.uniprot.org/idmapping/stream/68464d18e01d7b6ba22dc64596da3e48d28ad510\\?format=tsv -O returnedfilea.tsv\n",
    "dfa = pandas.read_csv('returnedfilea.tsv', sep='\\t')\n",
    "dfa.set_index('To', inplace=True)\n",
    "dfa.rename(columns={'From':'uniprot'}, inplace=True)\n",
    "dfa"
   ]
  },
  {
   "cell_type": "markdown",
   "id": "2af7aaed-19d3-4df0-a2e5-84f838ef05af",
   "metadata": {},
   "source": [
    "# the data for protein ids"
   ]
  },
  {
   "cell_type": "code",
   "execution_count": 6,
   "id": "91daec09-97af-45a0-9d1b-921db65be3c2",
   "metadata": {},
   "outputs": [
    {
     "name": "stderr",
     "output_type": "stream",
     "text": [
      "Warning: Trailing data after quoted form parameter\n",
      "  % Total    % Received % Xferd  Average Speed   Time    Time     Time  Current\n",
      "                                 Dload  Upload   Total   Spent    Left  Speed\n",
      "  0     0    0     0    0     0      0      0 --:--:-- --:--:-- --:--:--     0"
     ]
    },
    {
     "name": "stdout",
     "output_type": "stream",
     "text": [
      "{\"jobId\":\"c4e7820458ca9a3c32e07705a18006b97d046bb8\"}"
     ]
    },
    {
     "name": "stderr",
     "output_type": "stream",
     "text": [
      "100  104k    0    52  100  104k    100   200k --:--:-- --:--:-- --:--:--  200k\n"
     ]
    },
    {
     "data": {
      "text/plain": [
       "0"
      ]
     },
     "execution_count": 6,
     "metadata": {},
     "output_type": "execute_result"
    }
   ],
   "source": [
    "id_list = \", \".join(protein_names)\n",
    "call_head = \"curl --form 'from=\\\"UniProtKB_AC-ID\\\"' --form 'to=\\\"Ensembl\\\"' --form 'ids=\\\"Accession, {}\\\"mi inpu' https://rest.uniprot.org/idmapping/run\".format(id_list)\n",
    "os.system(call_head)"
   ]
  },
  {
   "cell_type": "code",
   "execution_count": 7,
   "id": "fba81767-ef4c-4443-aeb7-d97ac06fe5dd",
   "metadata": {},
   "outputs": [
    {
     "name": "stdout",
     "output_type": "stream",
     "text": [
      "--2024-10-29 15:55:25--  https://rest.uniprot.org/idmapping/stream/c4e7820458ca9a3c32e07705a18006b97d046bb8?format=tsv\n",
      "Resolving rest.uniprot.org (rest.uniprot.org)... 193.62.193.81\n",
      "Connecting to rest.uniprot.org (rest.uniprot.org)|193.62.193.81|:443... connected.\n",
      "HTTP request sent, awaiting response... 200 \n",
      "Length: unspecified [text/plain]\n",
      "Saving to: ‘returnedfileb.tsv’\n",
      "\n",
      "returnedfileb.tsv       [   <=>              ] 253.72K   429KB/s    in 0.6s    \n",
      "\n",
      "2024-10-29 15:55:25 (429 KB/s) - ‘returnedfileb.tsv’ saved [259811]\n",
      "\n"
     ]
    },
    {
     "data": {
      "text/html": [
       "<div>\n",
       "<style scoped>\n",
       "    .dataframe tbody tr th:only-of-type {\n",
       "        vertical-align: middle;\n",
       "    }\n",
       "\n",
       "    .dataframe tbody tr th {\n",
       "        vertical-align: top;\n",
       "    }\n",
       "\n",
       "    .dataframe thead th {\n",
       "        text-align: right;\n",
       "    }\n",
       "</style>\n",
       "<table border=\"1\" class=\"dataframe\">\n",
       "  <thead>\n",
       "    <tr style=\"text-align: right;\">\n",
       "      <th></th>\n",
       "      <th>protein_name</th>\n",
       "    </tr>\n",
       "    <tr>\n",
       "      <th>To</th>\n",
       "      <th></th>\n",
       "    </tr>\n",
       "  </thead>\n",
       "  <tbody>\n",
       "    <tr>\n",
       "      <th>ENSG00000119335.18</th>\n",
       "      <td>SET_HUMAN</td>\n",
       "    </tr>\n",
       "    <tr>\n",
       "      <th>ENSG00000035687.10</th>\n",
       "      <td>PURA2_HUMAN</td>\n",
       "    </tr>\n",
       "    <tr>\n",
       "      <th>ENSG00000088682.14</th>\n",
       "      <td>H3BSJ5_HUMAN</td>\n",
       "    </tr>\n",
       "    <tr>\n",
       "      <th>ENSG00000005007.14</th>\n",
       "      <td>RENT1_HUMAN</td>\n",
       "    </tr>\n",
       "    <tr>\n",
       "      <th>ENSG00000124641.16</th>\n",
       "      <td>B7ZBQ3_HUMAN</td>\n",
       "    </tr>\n",
       "    <tr>\n",
       "      <th>...</th>\n",
       "      <td>...</td>\n",
       "    </tr>\n",
       "    <tr>\n",
       "      <th>ENSG00000127603.32</th>\n",
       "      <td>E9PLY5_HUMAN</td>\n",
       "    </tr>\n",
       "    <tr>\n",
       "      <th>ENSG00000106462.12</th>\n",
       "      <td>EZH2_HUMAN</td>\n",
       "    </tr>\n",
       "    <tr>\n",
       "      <th>ENSG00000105664.11</th>\n",
       "      <td>G3XAP6_HUMAN</td>\n",
       "    </tr>\n",
       "    <tr>\n",
       "      <th>ENSG00000143158.11</th>\n",
       "      <td>MPC2_HUMAN</td>\n",
       "    </tr>\n",
       "    <tr>\n",
       "      <th>ENSG00000105640.13</th>\n",
       "      <td>RL18A_HUMAN</td>\n",
       "    </tr>\n",
       "  </tbody>\n",
       "</table>\n",
       "<p>8314 rows × 1 columns</p>\n",
       "</div>"
      ],
      "text/plain": [
       "                    protein_name\n",
       "To                              \n",
       "ENSG00000119335.18     SET_HUMAN\n",
       "ENSG00000035687.10   PURA2_HUMAN\n",
       "ENSG00000088682.14  H3BSJ5_HUMAN\n",
       "ENSG00000005007.14   RENT1_HUMAN\n",
       "ENSG00000124641.16  B7ZBQ3_HUMAN\n",
       "...                          ...\n",
       "ENSG00000127603.32  E9PLY5_HUMAN\n",
       "ENSG00000106462.12    EZH2_HUMAN\n",
       "ENSG00000105664.11  G3XAP6_HUMAN\n",
       "ENSG00000143158.11    MPC2_HUMAN\n",
       "ENSG00000105640.13   RL18A_HUMAN\n",
       "\n",
       "[8314 rows x 1 columns]"
      ]
     },
     "execution_count": 7,
     "metadata": {},
     "output_type": "execute_result"
    }
   ],
   "source": [
    "!wget https://rest.uniprot.org/idmapping/stream/c4e7820458ca9a3c32e07705a18006b97d046bb8\\?format=tsv -O returnedfileb.tsv\n",
    "dfb = pandas.read_csv('returnedfileb.tsv', sep='\\t')\n",
    "dfb.set_index('To', inplace=True)\n",
    "dfb.rename(columns={'From':'protein_name'}, inplace=True)\n",
    "dfb"
   ]
  },
  {
   "cell_type": "markdown",
   "id": "5d859c42-62d2-44d7-924f-320b0c3dcaa3",
   "metadata": {},
   "source": [
    "# join and store"
   ]
  },
  {
   "cell_type": "code",
   "execution_count": 8,
   "id": "543bad88-35ab-4270-a8f0-f86f774d5cdf",
   "metadata": {},
   "outputs": [
    {
     "data": {
      "text/html": [
       "<div>\n",
       "<style scoped>\n",
       "    .dataframe tbody tr th:only-of-type {\n",
       "        vertical-align: middle;\n",
       "    }\n",
       "\n",
       "    .dataframe tbody tr th {\n",
       "        vertical-align: top;\n",
       "    }\n",
       "\n",
       "    .dataframe thead th {\n",
       "        text-align: right;\n",
       "    }\n",
       "</style>\n",
       "<table border=\"1\" class=\"dataframe\">\n",
       "  <thead>\n",
       "    <tr style=\"text-align: right;\">\n",
       "      <th></th>\n",
       "      <th>uniprot</th>\n",
       "      <th>protein_name</th>\n",
       "    </tr>\n",
       "    <tr>\n",
       "      <th>To</th>\n",
       "      <th></th>\n",
       "      <th></th>\n",
       "    </tr>\n",
       "  </thead>\n",
       "  <tbody>\n",
       "    <tr>\n",
       "      <th>ENSG00000000003.16</th>\n",
       "      <td>O43657</td>\n",
       "      <td>TSN6_HUMAN</td>\n",
       "    </tr>\n",
       "    <tr>\n",
       "      <th>ENSG00000000419.14</th>\n",
       "      <td>O60762</td>\n",
       "      <td>DPM1_HUMAN</td>\n",
       "    </tr>\n",
       "    <tr>\n",
       "      <th>ENSG00000000419.14</th>\n",
       "      <td>O60762</td>\n",
       "      <td>Q5QPK2_HUMAN</td>\n",
       "    </tr>\n",
       "    <tr>\n",
       "      <th>ENSG00000000419.14</th>\n",
       "      <td>O60762</td>\n",
       "      <td>H0Y368_HUMAN</td>\n",
       "    </tr>\n",
       "    <tr>\n",
       "      <th>ENSG00000000419.14</th>\n",
       "      <td>Q5QPK2</td>\n",
       "      <td>DPM1_HUMAN</td>\n",
       "    </tr>\n",
       "    <tr>\n",
       "      <th>...</th>\n",
       "      <td>...</td>\n",
       "      <td>...</td>\n",
       "    </tr>\n",
       "    <tr>\n",
       "      <th>ENSG00000292348.1</th>\n",
       "      <td>A0A096LP69</td>\n",
       "      <td>CD99_HUMAN</td>\n",
       "    </tr>\n",
       "    <tr>\n",
       "      <th>ENSG00000292348.1</th>\n",
       "      <td>P14209</td>\n",
       "      <td>A0A096LP69_HUMAN</td>\n",
       "    </tr>\n",
       "    <tr>\n",
       "      <th>ENSG00000292348.1</th>\n",
       "      <td>P14209</td>\n",
       "      <td>CD99_HUMAN</td>\n",
       "    </tr>\n",
       "    <tr>\n",
       "      <th>ENSG00000292358.1</th>\n",
       "      <td>O43824</td>\n",
       "      <td>GTPB6_HUMAN</td>\n",
       "    </tr>\n",
       "    <tr>\n",
       "      <th>ENSG00000292366.1</th>\n",
       "      <td>P51809</td>\n",
       "      <td>VAMP7_HUMAN</td>\n",
       "    </tr>\n",
       "  </tbody>\n",
       "</table>\n",
       "<p>16061 rows × 2 columns</p>\n",
       "</div>"
      ],
      "text/plain": [
       "                       uniprot      protein_name\n",
       "To                                              \n",
       "ENSG00000000003.16      O43657        TSN6_HUMAN\n",
       "ENSG00000000419.14      O60762        DPM1_HUMAN\n",
       "ENSG00000000419.14      O60762      Q5QPK2_HUMAN\n",
       "ENSG00000000419.14      O60762      H0Y368_HUMAN\n",
       "ENSG00000000419.14      Q5QPK2        DPM1_HUMAN\n",
       "...                        ...               ...\n",
       "ENSG00000292348.1   A0A096LP69        CD99_HUMAN\n",
       "ENSG00000292348.1       P14209  A0A096LP69_HUMAN\n",
       "ENSG00000292348.1       P14209        CD99_HUMAN\n",
       "ENSG00000292358.1       O43824       GTPB6_HUMAN\n",
       "ENSG00000292366.1       P51809       VAMP7_HUMAN\n",
       "\n",
       "[16061 rows x 2 columns]"
      ]
     },
     "execution_count": 8,
     "metadata": {},
     "output_type": "execute_result"
    }
   ],
   "source": [
    "dfc = dfa.merge(dfb, left_on=\"To\", right_on=\"To\", how='outer')\n",
    "dfc"
   ]
  },
  {
   "cell_type": "code",
   "execution_count": 9,
   "id": "d5daccad-ce8a-48f0-8145-c830e44dafd1",
   "metadata": {},
   "outputs": [
    {
     "data": {
      "text/html": [
       "<div>\n",
       "<style scoped>\n",
       "    .dataframe tbody tr th:only-of-type {\n",
       "        vertical-align: middle;\n",
       "    }\n",
       "\n",
       "    .dataframe tbody tr th {\n",
       "        vertical-align: top;\n",
       "    }\n",
       "\n",
       "    .dataframe thead th {\n",
       "        text-align: right;\n",
       "    }\n",
       "</style>\n",
       "<table border=\"1\" class=\"dataframe\">\n",
       "  <thead>\n",
       "    <tr style=\"text-align: right;\">\n",
       "      <th></th>\n",
       "      <th>uniprot</th>\n",
       "      <th>protein_name</th>\n",
       "    </tr>\n",
       "    <tr>\n",
       "      <th>To</th>\n",
       "      <th></th>\n",
       "      <th></th>\n",
       "    </tr>\n",
       "  </thead>\n",
       "  <tbody>\n",
       "    <tr>\n",
       "      <th>ENSG00000088682.14</th>\n",
       "      <td>H3BSJ5</td>\n",
       "      <td>H3BSJ5_HUMAN</td>\n",
       "    </tr>\n",
       "    <tr>\n",
       "      <th>ENSG00000088682.14</th>\n",
       "      <td>H3BSJ5</td>\n",
       "      <td>COQ9_HUMAN</td>\n",
       "    </tr>\n",
       "    <tr>\n",
       "      <th>ENSG00000088682.14</th>\n",
       "      <td>O75208</td>\n",
       "      <td>H3BSJ5_HUMAN</td>\n",
       "    </tr>\n",
       "    <tr>\n",
       "      <th>ENSG00000088682.14</th>\n",
       "      <td>O75208</td>\n",
       "      <td>COQ9_HUMAN</td>\n",
       "    </tr>\n",
       "  </tbody>\n",
       "</table>\n",
       "</div>"
      ],
      "text/plain": [
       "                   uniprot  protein_name\n",
       "To                                      \n",
       "ENSG00000088682.14  H3BSJ5  H3BSJ5_HUMAN\n",
       "ENSG00000088682.14  H3BSJ5    COQ9_HUMAN\n",
       "ENSG00000088682.14  O75208  H3BSJ5_HUMAN\n",
       "ENSG00000088682.14  O75208    COQ9_HUMAN"
      ]
     },
     "execution_count": 9,
     "metadata": {},
     "output_type": "execute_result"
    }
   ],
   "source": [
    "dfc.loc['ENSG00000088682.14', :]"
   ]
  },
  {
   "cell_type": "code",
   "execution_count": 10,
   "id": "c7a02427-7f9f-4c75-9c0e-14744d586a58",
   "metadata": {},
   "outputs": [
    {
     "data": {
      "text/plain": [
       "Index(['ENSG00000000003.16', 'ENSG00000000419.14', 'ENSG00000000419.14',\n",
       "       'ENSG00000000419.14', 'ENSG00000000419.14', 'ENSG00000000419.14',\n",
       "       'ENSG00000000419.14', 'ENSG00000000419.14', 'ENSG00000000419.14',\n",
       "       'ENSG00000000419.14',\n",
       "       ...\n",
       "       'ENSG00000292253.1', 'ENSG00000292334.1', 'ENSG00000292338.1',\n",
       "       'ENSG00000292339.1', 'ENSG00000292348.1', 'ENSG00000292348.1',\n",
       "       'ENSG00000292348.1', 'ENSG00000292348.1', 'ENSG00000292358.1',\n",
       "       'ENSG00000292366.1'],\n",
       "      dtype='object', name='To', length=16061)"
      ]
     },
     "execution_count": 10,
     "metadata": {},
     "output_type": "execute_result"
    }
   ],
   "source": [
    "dfc.index"
   ]
  },
  {
   "cell_type": "code",
   "execution_count": 11,
   "id": "8f89d334-e66b-4afd-9946-17fdfb56908c",
   "metadata": {},
   "outputs": [],
   "source": [
    "new_index = [element.split('.')[0] for element in dfc.index]\n",
    "dfc['ensembl'] = new_index\n",
    "dfc.set_index('ensembl', inplace=True)"
   ]
  },
  {
   "cell_type": "code",
   "execution_count": 12,
   "id": "a22b2d89-7c71-4b04-a946-24b5594ddbd4",
   "metadata": {},
   "outputs": [],
   "source": [
    "dfc.to_csv('idmap.tsv', sep = '\\t')"
   ]
  }
 ],
 "metadata": {
  "kernelspec": {
   "display_name": "Python 3 (ipykernel)",
   "language": "python",
   "name": "python3"
  },
  "language_info": {
   "codemirror_mode": {
    "name": "ipython",
    "version": 3
   },
   "file_extension": ".py",
   "mimetype": "text/x-python",
   "name": "python",
   "nbconvert_exporter": "python",
   "pygments_lexer": "ipython3",
   "version": "3.12.7"
  }
 },
 "nbformat": 4,
 "nbformat_minor": 5
}
